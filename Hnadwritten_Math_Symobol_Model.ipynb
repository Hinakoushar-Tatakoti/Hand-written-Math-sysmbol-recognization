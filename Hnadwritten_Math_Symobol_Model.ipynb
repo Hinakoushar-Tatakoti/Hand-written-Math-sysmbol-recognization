{
  "nbformat": 4,
  "nbformat_minor": 0,
  "metadata": {
    "colab": {
      "name": "Hnadwritten_Math_Symobol_Model.ipynb",
      "provenance": [],
      "authorship_tag": "ABX9TyOmhjXQ3jVJFBBj8uvYUapN",
      "include_colab_link": true
    },
    "kernelspec": {
      "name": "python3",
      "display_name": "Python 3"
    },
    "language_info": {
      "name": "python"
    },
    "accelerator": "GPU"
  },
  "cells": [
    {
      "cell_type": "markdown",
      "metadata": {
        "id": "view-in-github",
        "colab_type": "text"
      },
      "source": [
        "<a href=\"https://colab.research.google.com/github/Hinakoushar-Tatakoti/Hand-written-Math-sysmbol-recognization/blob/master/Hnadwritten_Math_Symobol_Model.ipynb\" target=\"_parent\"><img src=\"https://colab.research.google.com/assets/colab-badge.svg\" alt=\"Open In Colab\"/></a>"
      ]
    },
    {
      "cell_type": "code",
      "execution_count": 4,
      "metadata": {
        "id": "AMELhZigsE5R"
      },
      "outputs": [],
      "source": [
        "!pip install -q kaggle"
      ]
    },
    {
      "cell_type": "code",
      "source": [
        "from google.colab import files\n",
        "files.upload()"
      ],
      "metadata": {
        "id": "RD9BfJ62sf-e"
      },
      "execution_count": null,
      "outputs": []
    },
    {
      "cell_type": "code",
      "source": [
        "! mkdir ~/.kaggle"
      ],
      "metadata": {
        "id": "pIKGL8X_swPP"
      },
      "execution_count": 6,
      "outputs": []
    },
    {
      "cell_type": "code",
      "source": [
        "!cp kaggle.json ~/.kaggle/"
      ],
      "metadata": {
        "id": "TBxDlmkosgBm"
      },
      "execution_count": 7,
      "outputs": []
    },
    {
      "cell_type": "code",
      "source": [
        "! chmod 600 ~/.kaggle/kaggle.json"
      ],
      "metadata": {
        "id": "UwUW_W9ltOTn"
      },
      "execution_count": 8,
      "outputs": []
    },
    {
      "cell_type": "code",
      "source": [
        "!kaggle datasets list"
      ],
      "metadata": {
        "id": "3hcF5gyKtbHR",
        "collapsed": true
      },
      "execution_count": null,
      "outputs": []
    },
    {
      "cell_type": "code",
      "source": [
        "!kaggle datasets download -d xainano/handwrittenmathsymbols"
      ],
      "metadata": {
        "colab": {
          "base_uri": "https://localhost:8080/"
        },
        "id": "tJwQlYzutbKM",
        "outputId": "e9bfadf8-4712-4ecd-b1bd-5c1babadc6c6"
      },
      "execution_count": 11,
      "outputs": [
        {
          "output_type": "stream",
          "name": "stdout",
          "text": [
            "Downloading handwrittenmathsymbols.zip to /content\n",
            " 98% 336M/343M [00:03<00:00, 93.2MB/s]\n",
            "100% 343M/343M [00:03<00:00, 92.1MB/s]\n"
          ]
        }
      ]
    },
    {
      "cell_type": "code",
      "source": [
        "!unzip  handwrittenmathsymbols.zip"
      ],
      "metadata": {
        "id": "UJyf3L1XtOWY",
        "collapsed": true
      },
      "execution_count": null,
      "outputs": []
    },
    {
      "cell_type": "code",
      "source": [
        "!unrar x data.rar \"/content/data/\""
      ],
      "metadata": {
        "id": "N63qJJGrvnSm",
        "collapsed": true
      },
      "execution_count": null,
      "outputs": []
    },
    {
      "cell_type": "markdown",
      "source": [
        "# Start Building the project code"
      ],
      "metadata": {
        "id": "gi2Pnmr4zN0z"
      }
    },
    {
      "cell_type": "code",
      "source": [
        "!pwd\n",
        "!pip install split-folders\n",
        "!pip install split-folders tqdm"
      ],
      "metadata": {
        "colab": {
          "base_uri": "https://localhost:8080/"
        },
        "id": "ZJ38ntIoxIg_",
        "outputId": "e0df7a2f-b949-4d3d-d40c-c1b78be323d4"
      },
      "execution_count": 15,
      "outputs": [
        {
          "output_type": "stream",
          "name": "stdout",
          "text": [
            "/content\n",
            "Collecting split-folders\n",
            "  Downloading split_folders-0.5.1-py3-none-any.whl (8.4 kB)\n",
            "Installing collected packages: split-folders\n",
            "Successfully installed split-folders-0.5.1\n",
            "Requirement already satisfied: split-folders in /usr/local/lib/python3.7/dist-packages (0.5.1)\n",
            "Requirement already satisfied: tqdm in /usr/local/lib/python3.7/dist-packages (4.62.3)\n"
          ]
        }
      ]
    },
    {
      "cell_type": "code",
      "source": [
        "import numpy as np # linear algebra\n",
        "import pandas as pd # data processing, CSV file I/O (e.g. pd.read_csv)\n",
        "from keras import backend as K\n",
        "from sklearn.preprocessing import MultiLabelBinarizer\n",
        "from keras.preprocessing.image import ImageDataGenerator\n",
        "from keras.models import Sequential\n",
        "from keras.layers import Conv2D, MaxPooling2D\n",
        "from keras.layers import Activation, Dropout, Flatten, Dense\n",
        "from tensorflow.keras.optimizers import Adam\n",
        "from tensorflow.keras.optimizers import RMSprop\n",
        "from keras.utils.vis_utils import plot_model\n",
        "from keras.preprocessing.image import img_to_array\n",
        "from tensorflow.keras.callbacks import EarlyStopping\n",
        "\n",
        "##from ipynb.fs.full.model import *\n",
        "import os\n",
        "import pickle\n",
        "\n",
        "import os\n",
        "import numpy as np\n",
        "from tqdm import tqdm\n",
        "from fastai import *\n",
        "import torch\n",
        "\n",
        "%matplotlib inline\n",
        "\n",
        "import cv2\n",
        "import pandas as pd\n",
        "import splitfolders\n",
        "import random"
      ],
      "metadata": {
        "id": "5Y_HwLAhzDwN"
      },
      "execution_count": 16,
      "outputs": []
    },
    {
      "cell_type": "code",
      "source": [
        "data = os.listdir(\"/content/data/extracted_images/\")\n",
        "len(data)"
      ],
      "metadata": {
        "colab": {
          "base_uri": "https://localhost:8080/"
        },
        "id": "Sa8ShtuvzgMP",
        "outputId": "1d3bc66a-aae9-421d-fc7d-88ffe754cb85"
      },
      "execution_count": 17,
      "outputs": [
        {
          "output_type": "execute_result",
          "data": {
            "text/plain": [
              "82"
            ]
          },
          "metadata": {},
          "execution_count": 17
        }
      ]
    },
    {
      "cell_type": "code",
      "source": [
        "def seed_everything(seed):\n",
        "    random.seed(seed)\n",
        "    os.environ['PYTHONHASHSEED'] = str(seed)\n",
        "    np.random.seed(seed)\n",
        "    torch.manual_seed(seed)\n",
        "    torch.cuda.manual_seed(seed)\n",
        "    torch.backends.cudnn.deterministic = True    \n",
        "\n",
        "SEED = 999\n",
        "seed_everything(SEED)"
      ],
      "metadata": {
        "id": "glCFPmlszgPd"
      },
      "execution_count": 18,
      "outputs": []
    },
    {
      "cell_type": "code",
      "source": [
        "# Infos about our Dataset\n",
        "nbr_of_pictures = []\n",
        "\n",
        "labels = os.listdir(\"/content/data/extracted_images\")\n",
        "for _, _, files in os.walk(r'/content/data/extracted_images'):\n",
        "    nbr_of_pictures.append(len(files))\n",
        "\n",
        "nbr_of_pictures=nbr_of_pictures[1:]\n",
        "#print nbr of pictures in every class\n",
        "print(\"Number of samples in every class ...\")\n",
        "for i in range(82):  # 82 : Nbr of classes\n",
        "    print(labels[i],\" : \",nbr_of_pictures[i])"
      ],
      "metadata": {
        "id": "119NRPCszDzT"
      },
      "execution_count": null,
      "outputs": []
    },
    {
      "cell_type": "markdown",
      "source": [
        "Pickle the labels for later use"
      ],
      "metadata": {
        "id": "bSoetbElgsqI"
      }
    },
    {
      "cell_type": "code",
      "source": [
        "print(len(labels),\" Classes : \",labels)\n",
        "labels = np.array(labels)\n",
        "print(labels)"
      ],
      "metadata": {
        "colab": {
          "base_uri": "https://localhost:8080/"
        },
        "id": "xd3ZWaPsgvcg",
        "outputId": "eb814824-ecf0-4624-ad3b-edbf3239fee0"
      },
      "execution_count": 65,
      "outputs": [
        {
          "output_type": "stream",
          "name": "stdout",
          "text": [
            "82  Classes :  ['-', 'j', 'v', 'u', '[', 'i', 'M', '5', '7', ']', 'y', 'A', 'prime', 'b', 'S', 'in', 'pi', 'lt', '}', 'w', '3', 'k', 'X', 'H', 'log', 'beta', 'o', 'lambda', '=', 'div', '0', '(', 'infty', 'N', 'C', 'phi', 'd', '8', 'R', 'alpha', 'forall', '4', 'ascii_124', 'q', 'p', 'pm', 'e', '6', 'z', 'G', 'l', 'theta', 'leq', 'cos', 'ldots', 'lim', 'int', 'gt', '2', 'sin', ')', 'sqrt', '+', 'f', 'geq', 'T', '9', 'Delta', 'exists', 'forward_slash', 'tan', ',', 'sigma', 'mu', 'rightarrow', 'neq', 'sum', '{', '!', '1', 'times', 'gamma']\n",
            "['-' 'j' 'v' 'u' '[' 'i' 'M' '5' '7' ']' 'y' 'A' 'prime' 'b' 'S' 'in' 'pi'\n",
            " 'lt' '}' 'w' '3' 'k' 'X' 'H' 'log' 'beta' 'o' 'lambda' '=' 'div' '0' '('\n",
            " 'infty' 'N' 'C' 'phi' 'd' '8' 'R' 'alpha' 'forall' '4' 'ascii_124' 'q'\n",
            " 'p' 'pm' 'e' '6' 'z' 'G' 'l' 'theta' 'leq' 'cos' 'ldots' 'lim' 'int' 'gt'\n",
            " '2' 'sin' ')' 'sqrt' '+' 'f' 'geq' 'T' '9' 'Delta' 'exists'\n",
            " 'forward_slash' 'tan' ',' 'sigma' 'mu' 'rightarrow' 'neq' 'sum' '{' '!'\n",
            " '1' 'times' 'gamma']\n"
          ]
        }
      ]
    },
    {
      "cell_type": "code",
      "source": [
        "output=open(\"labels.pickle\", \"wb\")\n",
        "pickle.dump(labels, output)\n",
        "output.close()"
      ],
      "metadata": {
        "id": "pG9L0xRZh6BQ"
      },
      "execution_count": 66,
      "outputs": []
    },
    {
      "cell_type": "code",
      "source": [
        "## split the data into train and val\n",
        "## one time done\n",
        "splitfolders.ratio('/content/data/extracted_images', output=\"/content/data/split\", seed=SEED, ratio=(.7, .3)) "
      ],
      "metadata": {
        "colab": {
          "base_uri": "https://localhost:8080/"
        },
        "id": "AbD9MFy70LRV",
        "outputId": "6333f481-dec0-4262-984d-9b094b34d828"
      },
      "execution_count": 22,
      "outputs": [
        {
          "output_type": "stream",
          "name": "stderr",
          "text": [
            "Copying files: 375974 files [01:45, 3577.53 files/s]\n"
          ]
        }
      ]
    },
    {
      "cell_type": "code",
      "source": [
        "#Initialize parametres\n",
        "\n",
        "EPOCHS = 50\n",
        "BS = 100 #Batch size\n",
        "LR = 1e-3 #Learning rate 0.001\n",
        "img_dim = (45,45,3)\n",
        "train_data_dir = '/content/data/split/train'\n",
        "test_data_dir = '/content/data/split/val'\n",
        "#labels = []\n",
        "#Nbr of training images\n",
        "train_samples_nbr  = sum(len(files) for _, _, files in os.walk(r'/content/data/split/train'))\n",
        "print(f\"Number of train images are {train_samples_nbr}\")\n",
        "#Nbr of testing images\n",
        "test_samples_nbr  = sum(len(files) for _, _, files in os.walk(r'/content/data/split/val'))\n",
        "print(f\"Number of test images are {test_samples_nbr}\")"
      ],
      "metadata": {
        "colab": {
          "base_uri": "https://localhost:8080/"
        },
        "id": "Js6UrC7r1wfW",
        "outputId": "b9afcd78-ef8b-4b2e-b304-6b9463e0488a"
      },
      "execution_count": 67,
      "outputs": [
        {
          "output_type": "stream",
          "name": "stdout",
          "text": [
            "Number of train images are 263143\n",
            "Number of test images are 112831\n"
          ]
        }
      ]
    },
    {
      "cell_type": "code",
      "source": [
        "if K.image_data_format() == 'channels_first':\n",
        "    input_shape = (img_dim[2], img_dim[0], img_dim[1])\n",
        "else:\n",
        "    input_shape = (img_dim[0], img_dim[1], img_dim[2])\n",
        "print(input_shape)"
      ],
      "metadata": {
        "colab": {
          "base_uri": "https://localhost:8080/"
        },
        "id": "nwk1laxO35Eq",
        "outputId": "2ff54a2a-813f-45d0-a8aa-8051a2b7e587"
      },
      "execution_count": 68,
      "outputs": [
        {
          "output_type": "stream",
          "name": "stdout",
          "text": [
            "(45, 45, 3)\n"
          ]
        }
      ]
    },
    {
      "cell_type": "code",
      "source": [
        "#earlyStopping = EarlyStopping(monitor=\"val_loss\", mode=\"min\", patience=2)\n",
        "earlyStopping = EarlyStopping(monitor='val_acc', min_delta=0, patience=20, verbose=1, mode='auto')"
      ],
      "metadata": {
        "id": "TMeHl1G_4XO6"
      },
      "execution_count": 69,
      "outputs": []
    },
    {
      "cell_type": "code",
      "source": [
        "lab = ['+' 'sqrt' 'sigma' 'o' '}' '(' 'i' 'times' 'tan' '2' '=' 'z' 'l' '6'\n",
        " 'rightarrow' 'Delta' 'C' '[' 'cos' '4' 'log' '9' '-' 'pm' ']' 'X'\n",
        " 'forall' 'exists' 'S' 'div' '0' '1' 'lambda' 'k' 'R' '{' 'int' 'w' 'A'\n",
        " 'p' 'neq' 'phi' 'd' 'gamma' '!' 'N' 'u' 'f' 'geq' 'infty' 'leq' 'lim' ')'\n",
        " 'beta' 'T' ',' 'y' '3' 'alpha' '7' 'gt' 'pi' 'in' 'sum' 'ldots' '8' 'M'\n",
        " '5' 'b' 'j' 'H' 'v' 'mu' 'forward_slash' 'sin' 'prime' 'ascii_124' 'q'\n",
        " 'theta' 'lt' 'e' 'G']"
      ],
      "metadata": {
        "id": "7qNOz0z4d6HT"
      },
      "execution_count": 1,
      "outputs": []
    },
    {
      "cell_type": "code",
      "source": [
        "type(labels)"
      ],
      "metadata": {
        "colab": {
          "base_uri": "https://localhost:8080/"
        },
        "id": "Qu-kNL4Xg3kD",
        "outputId": "18e97579-d854-4ebc-b6dd-a844f550a4d9"
      },
      "execution_count": 59,
      "outputs": [
        {
          "output_type": "execute_result",
          "data": {
            "text/plain": [
              "numpy.ndarray"
            ]
          },
          "metadata": {},
          "execution_count": 59
        }
      ]
    },
    {
      "cell_type": "code",
      "source": [
        "print(\"[INFO] class labels:\")\n",
        "mlb = MultiLabelBinarizer()\n",
        "mlb.fit_transform([labels])\n"
      ],
      "metadata": {
        "colab": {
          "base_uri": "https://localhost:8080/"
        },
        "id": "aRto88_j4aTk",
        "outputId": "79becdd4-2e2a-425c-c61b-9a9258c84640"
      },
      "execution_count": 70,
      "outputs": [
        {
          "output_type": "stream",
          "name": "stdout",
          "text": [
            "[INFO] class labels:\n"
          ]
        },
        {
          "output_type": "execute_result",
          "data": {
            "text/plain": [
              "array([[1, 1, 1, 1, 1, 1, 1, 1, 1, 1, 1, 1, 1, 1, 1, 1, 1, 1, 1, 1, 1, 1,\n",
              "        1, 1, 1, 1, 1, 1, 1, 1, 1, 1, 1, 1, 1, 1, 1, 1, 1, 1, 1, 1, 1, 1,\n",
              "        1, 1, 1, 1, 1, 1, 1, 1, 1, 1, 1, 1, 1, 1, 1, 1, 1, 1, 1, 1, 1, 1,\n",
              "        1, 1, 1, 1, 1, 1, 1, 1, 1, 1, 1, 1, 1, 1, 1, 1]])"
            ]
          },
          "metadata": {},
          "execution_count": 70
        }
      ]
    },
    {
      "cell_type": "code",
      "source": [
        "mlb.classes_\n"
      ],
      "metadata": {
        "id": "G3R4dUmA4aW4",
        "colab": {
          "base_uri": "https://localhost:8080/"
        },
        "outputId": "393e4d56-d6d0-4d1d-e1af-f833205bf188"
      },
      "execution_count": 71,
      "outputs": [
        {
          "output_type": "execute_result",
          "data": {
            "text/plain": [
              "array(['!', '(', ')', '+', ',', '-', '0', '1', '2', '3', '4', '5', '6',\n",
              "       '7', '8', '9', '=', 'A', 'C', 'Delta', 'G', 'H', 'M', 'N', 'R',\n",
              "       'S', 'T', 'X', '[', ']', 'alpha', 'ascii_124', 'b', 'beta', 'cos',\n",
              "       'd', 'div', 'e', 'exists', 'f', 'forall', 'forward_slash', 'gamma',\n",
              "       'geq', 'gt', 'i', 'in', 'infty', 'int', 'j', 'k', 'l', 'lambda',\n",
              "       'ldots', 'leq', 'lim', 'log', 'lt', 'mu', 'neq', 'o', 'p', 'phi',\n",
              "       'pi', 'pm', 'prime', 'q', 'rightarrow', 'sigma', 'sin', 'sqrt',\n",
              "       'sum', 'tan', 'theta', 'times', 'u', 'v', 'w', 'y', 'z', '{', '}'],\n",
              "      dtype=object)"
            ]
          },
          "metadata": {},
          "execution_count": 71
        }
      ]
    },
    {
      "cell_type": "markdown",
      "source": [
        "# Add a model"
      ],
      "metadata": {
        "id": "0XcDLUDk4iUh"
      }
    },
    {
      "cell_type": "code",
      "source": [
        "from tensorflow.keras.models import Sequential\n",
        "from tensorflow.keras.layers import BatchNormalization\n",
        "from tensorflow.keras.layers import Conv2D\n",
        "from tensorflow.keras.layers import MaxPooling2D\n",
        "from tensorflow.keras.layers import Activation\n",
        "from tensorflow.keras.layers import Flatten\n",
        "from tensorflow.keras.layers import Dropout\n",
        "from tensorflow.keras.layers import Dense\n",
        "from keras import backend as K"
      ],
      "metadata": {
        "id": "b6UHPALF4aaz"
      },
      "execution_count": null,
      "outputs": []
    },
    {
      "cell_type": "code",
      "source": [
        "class myModel:\n",
        "    @staticmethod\n",
        "    def build(width, height, depth, classes, activFct=\"softmax\"): \n",
        "        #finalAct='softmax' for single-label classification || finalAct='sigmoid' for multi-label classification \n",
        "        # initialize the model along with the input shape to be\n",
        "        # \"channels last\" and the channels dimension itself\n",
        "        model = Sequential()\n",
        "        inputShape = (height, width, depth)\n",
        "        chanDim = -1\n",
        " \n",
        "        # if we are using \"channels first\", update the input shape\n",
        "        # and channels dimension\n",
        "        if K.image_data_format() == \"channels_first\":\n",
        "            inputShape = (depth, height, width)\n",
        "            chanDim = 1\n",
        "        # CONV => RELU => POOL\n",
        "        model.add(Conv2D(32, (2, 2), input_shape = inputShape)) \n",
        "        model.add(Activation('relu')) \n",
        "        model.add(MaxPooling2D(pool_size =(2, 2))) \n",
        "        \n",
        "        model.add(Conv2D(32, (2, 2))) \n",
        "        model.add(Activation('relu')) \n",
        "        model.add(MaxPooling2D(pool_size =(2, 2))) \n",
        "        \n",
        "        model.add(Conv2D(64, (2, 2))) \n",
        "        model.add(Activation('relu')) \n",
        "        model.add(MaxPooling2D(pool_size =(2, 2))) \n",
        "        \n",
        "        model.add(Flatten()) \n",
        "        model.add(Dense(64)) \n",
        "        model.add(Activation('relu')) \n",
        "        model.add(Dropout(0.5)) \n",
        "        model.add(Dense(classes)) \n",
        "        model.add(Activation(activFct))\n",
        "\n",
        " \n",
        "        # return the constructed network architecture\n",
        "        return model"
      ],
      "metadata": {
        "id": "lcxl2Odj4sXs"
      },
      "execution_count": null,
      "outputs": []
    },
    {
      "cell_type": "code",
      "source": [
        "# Building the model \n",
        "model = myModel.build(\n",
        "    width=img_dim[1], height=img_dim[0],\n",
        "    depth=img_dim[2], classes=82,activFct=\"softmax\") #for multi-class classification\n",
        "model.summary()\n",
        "print('Number of layers of our model : ',len(model.layers))"
      ],
      "metadata": {
        "id": "zJT3jPEAGybx",
        "colab": {
          "base_uri": "https://localhost:8080/"
        },
        "outputId": "75bcf072-6b67-451d-d286-236c25c62b15"
      },
      "execution_count": null,
      "outputs": [
        {
          "output_type": "stream",
          "name": "stdout",
          "text": [
            "Model: \"sequential\"\n",
            "_________________________________________________________________\n",
            " Layer (type)                Output Shape              Param #   \n",
            "=================================================================\n",
            " conv2d (Conv2D)             (None, 44, 44, 32)        416       \n",
            "                                                                 \n",
            " activation (Activation)     (None, 44, 44, 32)        0         \n",
            "                                                                 \n",
            " max_pooling2d (MaxPooling2D  (None, 22, 22, 32)       0         \n",
            " )                                                               \n",
            "                                                                 \n",
            " conv2d_1 (Conv2D)           (None, 21, 21, 32)        4128      \n",
            "                                                                 \n",
            " activation_1 (Activation)   (None, 21, 21, 32)        0         \n",
            "                                                                 \n",
            " max_pooling2d_1 (MaxPooling  (None, 10, 10, 32)       0         \n",
            " 2D)                                                             \n",
            "                                                                 \n",
            " conv2d_2 (Conv2D)           (None, 9, 9, 64)          8256      \n",
            "                                                                 \n",
            " activation_2 (Activation)   (None, 9, 9, 64)          0         \n",
            "                                                                 \n",
            " max_pooling2d_2 (MaxPooling  (None, 4, 4, 64)         0         \n",
            " 2D)                                                             \n",
            "                                                                 \n",
            " flatten (Flatten)           (None, 1024)              0         \n",
            "                                                                 \n",
            " dense (Dense)               (None, 64)                65600     \n",
            "                                                                 \n",
            " activation_3 (Activation)   (None, 64)                0         \n",
            "                                                                 \n",
            " dropout (Dropout)           (None, 64)                0         \n",
            "                                                                 \n",
            " dense_1 (Dense)             (None, 82)                5330      \n",
            "                                                                 \n",
            " activation_4 (Activation)   (None, 82)                0         \n",
            "                                                                 \n",
            "=================================================================\n",
            "Total params: 83,730\n",
            "Trainable params: 83,730\n",
            "Non-trainable params: 0\n",
            "_________________________________________________________________\n",
            "Number of layers of our model :  15\n"
          ]
        }
      ]
    },
    {
      "cell_type": "markdown",
      "source": [
        "Adding another model"
      ],
      "metadata": {
        "id": "DcsVDNTFwrSS"
      }
    },
    {
      "cell_type": "code",
      "source": [
        "opt = Adam(learning_rate=LR, decay=LR / EPOCHS)"
      ],
      "metadata": {
        "id": "bsvgO1v76BUw"
      },
      "execution_count": null,
      "outputs": []
    },
    {
      "cell_type": "code",
      "source": [
        "# Compiling the model \n",
        "#import tensorflow.python.keras.optimizer_v2.adam.Adam\n",
        "#opt = RMSprop(lr=LR, rho=0.9, epsilon=None, decay=0.0)\n",
        "model.compile(loss='categorical_crossentropy',\n",
        "              optimizer=opt,\n",
        "              metrics=['accuracy']) "
      ],
      "metadata": {
        "id": "HD6kCJPV6BXm"
      },
      "execution_count": null,
      "outputs": []
    },
    {
      "cell_type": "code",
      "source": [
        "# data augmentation for training\n",
        "train_datagen = ImageDataGenerator(\n",
        "    rescale=1. / 255,\n",
        "    shear_range=0.0,\n",
        "    zoom_range=0.0,\n",
        "    featurewise_center=False,# set input mean to 0 over the dataset\n",
        "    samplewise_center=False,  # set each sample mean to 0\n",
        "    featurewise_std_normalization=False,  # divide inputs by std of dataset\n",
        "    samplewise_std_normalization=False,  # divide each input by its std\n",
        "    zca_whitening=False,  # apply ZCA whitening\n",
        "    rotation_range=0.0,  # randomly rotate images in the range (deg 0 to 180)\n",
        "    width_shift_range=0.0,  # randomly shift images horizontally\n",
        "    height_shift_range=0.0,  # randomly shift images vertically\n",
        "    horizontal_flip=False,  # randomly flip images\n",
        "    vertical_flip=False\n",
        "    )\n",
        "\n",
        "# data augmentation for testing\n",
        "test_datagen = ImageDataGenerator(rescale=1. / 255)"
      ],
      "metadata": {
        "id": "eY_5OHNQ6Fea"
      },
      "execution_count": null,
      "outputs": []
    },
    {
      "cell_type": "code",
      "source": [
        "train_generator = train_datagen.flow_from_directory(\n",
        "    train_data_dir,\n",
        "    target_size=(img_dim[0], img_dim[1]),\n",
        "    batch_size=BS,\n",
        "    class_mode='categorical')\n",
        "\n",
        "validation_generator = test_datagen.flow_from_directory(\n",
        "    test_data_dir,\n",
        "    target_size=(img_dim[0], img_dim[1]),\n",
        "    batch_size=BS,\n",
        "    class_mode='categorical')"
      ],
      "metadata": {
        "colab": {
          "base_uri": "https://localhost:8080/"
        },
        "id": "J-2gAFxI6Fhf",
        "outputId": "52d4f85e-60d2-40dc-88be-ccd025542ed2"
      },
      "execution_count": null,
      "outputs": [
        {
          "output_type": "stream",
          "name": "stdout",
          "text": [
            "Found 263143 images belonging to 82 classes.\n",
            "Found 112831 images belonging to 82 classes.\n"
          ]
        }
      ]
    },
    {
      "cell_type": "code",
      "source": [
        "# Training\n",
        "history = model.fit(\n",
        "    train_generator,\n",
        "    steps_per_epoch=train_samples_nbr // BS,\n",
        "    epochs=EPOCHS,\n",
        "    validation_data=validation_generator,\n",
        "    validation_steps=test_samples_nbr // BS,\n",
        "    callbacks=[earlyStopping])"
      ],
      "metadata": {
        "colab": {
          "base_uri": "https://localhost:8080/"
        },
        "id": "flBGOehz6JFW",
        "outputId": "a808075f-f54b-47f3-f360-97ac0d3a400f"
      },
      "execution_count": null,
      "outputs": [
        {
          "output_type": "stream",
          "name": "stdout",
          "text": [
            "Epoch 1/50\n",
            "2631/2631 [==============================] - ETA: 0s - loss: 1.3310 - accuracy: 0.6570WARNING:tensorflow:Early stopping conditioned on metric `val_acc` which is not available. Available metrics are: loss,accuracy,val_loss,val_accuracy\n",
            "2631/2631 [==============================] - 346s 128ms/step - loss: 1.3310 - accuracy: 0.6570 - val_loss: 0.5304 - val_accuracy: 0.8487\n",
            "Epoch 2/50\n",
            "2631/2631 [==============================] - ETA: 0s - loss: 0.8286 - accuracy: 0.7692WARNING:tensorflow:Early stopping conditioned on metric `val_acc` which is not available. Available metrics are: loss,accuracy,val_loss,val_accuracy\n",
            "2631/2631 [==============================] - 255s 97ms/step - loss: 0.8286 - accuracy: 0.7692 - val_loss: 0.4299 - val_accuracy: 0.8763\n",
            "Epoch 3/50\n",
            "2631/2631 [==============================] - ETA: 0s - loss: 0.7176 - accuracy: 0.7957WARNING:tensorflow:Early stopping conditioned on metric `val_acc` which is not available. Available metrics are: loss,accuracy,val_loss,val_accuracy\n",
            "2631/2631 [==============================] - 147s 56ms/step - loss: 0.7176 - accuracy: 0.7957 - val_loss: 0.3722 - val_accuracy: 0.8909\n",
            "Epoch 4/50\n",
            "2630/2631 [============================>.] - ETA: 0s - loss: 0.6505 - accuracy: 0.8124WARNING:tensorflow:Early stopping conditioned on metric `val_acc` which is not available. Available metrics are: loss,accuracy,val_loss,val_accuracy\n",
            "2631/2631 [==============================] - 187s 71ms/step - loss: 0.6504 - accuracy: 0.8125 - val_loss: 0.3425 - val_accuracy: 0.8985\n",
            "Epoch 5/50\n",
            "2631/2631 [==============================] - ETA: 0s - loss: 0.5985 - accuracy: 0.8261WARNING:tensorflow:Early stopping conditioned on metric `val_acc` which is not available. Available metrics are: loss,accuracy,val_loss,val_accuracy\n",
            "2631/2631 [==============================] - 150s 57ms/step - loss: 0.5985 - accuracy: 0.8261 - val_loss: 0.3209 - val_accuracy: 0.9024\n",
            "Epoch 6/50\n",
            "2631/2631 [==============================] - ETA: 0s - loss: 0.5638 - accuracy: 0.8340WARNING:tensorflow:Early stopping conditioned on metric `val_acc` which is not available. Available metrics are: loss,accuracy,val_loss,val_accuracy\n",
            "2631/2631 [==============================] - 141s 54ms/step - loss: 0.5638 - accuracy: 0.8340 - val_loss: 0.3060 - val_accuracy: 0.9074\n",
            "Epoch 7/50\n",
            "2630/2631 [============================>.] - ETA: 0s - loss: 0.5374 - accuracy: 0.8409WARNING:tensorflow:Early stopping conditioned on metric `val_acc` which is not available. Available metrics are: loss,accuracy,val_loss,val_accuracy\n",
            "2631/2631 [==============================] - 143s 54ms/step - loss: 0.5374 - accuracy: 0.8409 - val_loss: 0.2792 - val_accuracy: 0.9167\n",
            "Epoch 8/50\n",
            "2631/2631 [==============================] - ETA: 0s - loss: 0.5187 - accuracy: 0.8458WARNING:tensorflow:Early stopping conditioned on metric `val_acc` which is not available. Available metrics are: loss,accuracy,val_loss,val_accuracy\n",
            "2631/2631 [==============================] - 137s 52ms/step - loss: 0.5187 - accuracy: 0.8458 - val_loss: 0.2713 - val_accuracy: 0.9180\n",
            "Epoch 9/50\n",
            "2630/2631 [============================>.] - ETA: 0s - loss: 0.4980 - accuracy: 0.8506WARNING:tensorflow:Early stopping conditioned on metric `val_acc` which is not available. Available metrics are: loss,accuracy,val_loss,val_accuracy\n",
            "2631/2631 [==============================] - 143s 54ms/step - loss: 0.4980 - accuracy: 0.8506 - val_loss: 0.2592 - val_accuracy: 0.9216\n",
            "Epoch 10/50\n",
            "2631/2631 [==============================] - ETA: 0s - loss: 0.4839 - accuracy: 0.8542WARNING:tensorflow:Early stopping conditioned on metric `val_acc` which is not available. Available metrics are: loss,accuracy,val_loss,val_accuracy\n",
            "2631/2631 [==============================] - 145s 55ms/step - loss: 0.4839 - accuracy: 0.8542 - val_loss: 0.2547 - val_accuracy: 0.9233\n",
            "Epoch 11/50\n",
            "2631/2631 [==============================] - ETA: 0s - loss: 0.4714 - accuracy: 0.8565WARNING:tensorflow:Early stopping conditioned on metric `val_acc` which is not available. Available metrics are: loss,accuracy,val_loss,val_accuracy\n",
            "2631/2631 [==============================] - 141s 53ms/step - loss: 0.4714 - accuracy: 0.8565 - val_loss: 0.2463 - val_accuracy: 0.9247\n",
            "Epoch 12/50\n",
            "2631/2631 [==============================] - ETA: 0s - loss: 0.4602 - accuracy: 0.8595WARNING:tensorflow:Early stopping conditioned on metric `val_acc` which is not available. Available metrics are: loss,accuracy,val_loss,val_accuracy\n",
            "2631/2631 [==============================] - 141s 53ms/step - loss: 0.4602 - accuracy: 0.8595 - val_loss: 0.2458 - val_accuracy: 0.9240\n",
            "Epoch 13/50\n",
            "2630/2631 [============================>.] - ETA: 0s - loss: 0.4522 - accuracy: 0.8619WARNING:tensorflow:Early stopping conditioned on metric `val_acc` which is not available. Available metrics are: loss,accuracy,val_loss,val_accuracy\n",
            "2631/2631 [==============================] - 146s 56ms/step - loss: 0.4521 - accuracy: 0.8619 - val_loss: 0.2398 - val_accuracy: 0.9283\n",
            "Epoch 14/50\n",
            "2630/2631 [============================>.] - ETA: 0s - loss: 0.4437 - accuracy: 0.8646WARNING:tensorflow:Early stopping conditioned on metric `val_acc` which is not available. Available metrics are: loss,accuracy,val_loss,val_accuracy\n",
            "2631/2631 [==============================] - 139s 53ms/step - loss: 0.4436 - accuracy: 0.8646 - val_loss: 0.2280 - val_accuracy: 0.9313\n",
            "Epoch 15/50\n",
            "2630/2631 [============================>.] - ETA: 0s - loss: 0.4343 - accuracy: 0.8670WARNING:tensorflow:Early stopping conditioned on metric `val_acc` which is not available. Available metrics are: loss,accuracy,val_loss,val_accuracy\n",
            "2631/2631 [==============================] - 138s 52ms/step - loss: 0.4343 - accuracy: 0.8670 - val_loss: 0.2256 - val_accuracy: 0.9314\n",
            "Epoch 16/50\n",
            "2630/2631 [============================>.] - ETA: 0s - loss: 0.4288 - accuracy: 0.8681WARNING:tensorflow:Early stopping conditioned on metric `val_acc` which is not available. Available metrics are: loss,accuracy,val_loss,val_accuracy\n",
            "2631/2631 [==============================] - 146s 55ms/step - loss: 0.4287 - accuracy: 0.8681 - val_loss: 0.2213 - val_accuracy: 0.9326\n",
            "Epoch 17/50\n",
            "2631/2631 [==============================] - ETA: 0s - loss: 0.4206 - accuracy: 0.8705WARNING:tensorflow:Early stopping conditioned on metric `val_acc` which is not available. Available metrics are: loss,accuracy,val_loss,val_accuracy\n",
            "2631/2631 [==============================] - 138s 53ms/step - loss: 0.4206 - accuracy: 0.8705 - val_loss: 0.2194 - val_accuracy: 0.9342\n",
            "Epoch 18/50\n",
            "2630/2631 [============================>.] - ETA: 0s - loss: 0.4142 - accuracy: 0.8721WARNING:tensorflow:Early stopping conditioned on metric `val_acc` which is not available. Available metrics are: loss,accuracy,val_loss,val_accuracy\n",
            "2631/2631 [==============================] - 140s 53ms/step - loss: 0.4142 - accuracy: 0.8721 - val_loss: 0.2141 - val_accuracy: 0.9340\n",
            "Epoch 19/50\n",
            "2630/2631 [============================>.] - ETA: 0s - loss: 0.4085 - accuracy: 0.8734WARNING:tensorflow:Early stopping conditioned on metric `val_acc` which is not available. Available metrics are: loss,accuracy,val_loss,val_accuracy\n",
            "2631/2631 [==============================] - 140s 53ms/step - loss: 0.4086 - accuracy: 0.8734 - val_loss: 0.2095 - val_accuracy: 0.9358\n",
            "Epoch 20/50\n",
            "2631/2631 [==============================] - ETA: 0s - loss: 0.4045 - accuracy: 0.8738WARNING:tensorflow:Early stopping conditioned on metric `val_acc` which is not available. Available metrics are: loss,accuracy,val_loss,val_accuracy\n",
            "2631/2631 [==============================] - 144s 55ms/step - loss: 0.4045 - accuracy: 0.8738 - val_loss: 0.2093 - val_accuracy: 0.9362\n",
            "Epoch 21/50\n",
            "2630/2631 [============================>.] - ETA: 0s - loss: 0.3992 - accuracy: 0.8753WARNING:tensorflow:Early stopping conditioned on metric `val_acc` which is not available. Available metrics are: loss,accuracy,val_loss,val_accuracy\n",
            "2631/2631 [==============================] - 138s 53ms/step - loss: 0.3993 - accuracy: 0.8753 - val_loss: 0.2054 - val_accuracy: 0.9377\n",
            "Epoch 22/50\n",
            "2630/2631 [============================>.] - ETA: 0s - loss: 0.3945 - accuracy: 0.8772WARNING:tensorflow:Early stopping conditioned on metric `val_acc` which is not available. Available metrics are: loss,accuracy,val_loss,val_accuracy\n",
            "2631/2631 [==============================] - 138s 53ms/step - loss: 0.3945 - accuracy: 0.8772 - val_loss: 0.2013 - val_accuracy: 0.9396\n",
            "Epoch 23/50\n",
            "2631/2631 [==============================] - ETA: 0s - loss: 0.3911 - accuracy: 0.8783WARNING:tensorflow:Early stopping conditioned on metric `val_acc` which is not available. Available metrics are: loss,accuracy,val_loss,val_accuracy\n",
            "2631/2631 [==============================] - 140s 53ms/step - loss: 0.3911 - accuracy: 0.8783 - val_loss: 0.2040 - val_accuracy: 0.9381\n",
            "Epoch 24/50\n",
            "2631/2631 [==============================] - ETA: 0s - loss: 0.3858 - accuracy: 0.8799WARNING:tensorflow:Early stopping conditioned on metric `val_acc` which is not available. Available metrics are: loss,accuracy,val_loss,val_accuracy\n",
            "2631/2631 [==============================] - 143s 54ms/step - loss: 0.3858 - accuracy: 0.8799 - val_loss: 0.1986 - val_accuracy: 0.9401\n",
            "Epoch 25/50\n",
            "2631/2631 [==============================] - ETA: 0s - loss: 0.3844 - accuracy: 0.8798WARNING:tensorflow:Early stopping conditioned on metric `val_acc` which is not available. Available metrics are: loss,accuracy,val_loss,val_accuracy\n",
            "2631/2631 [==============================] - 139s 53ms/step - loss: 0.3844 - accuracy: 0.8798 - val_loss: 0.2026 - val_accuracy: 0.9398\n",
            "Epoch 26/50\n",
            "2630/2631 [============================>.] - ETA: 0s - loss: 0.3823 - accuracy: 0.8795WARNING:tensorflow:Early stopping conditioned on metric `val_acc` which is not available. Available metrics are: loss,accuracy,val_loss,val_accuracy\n",
            "2631/2631 [==============================] - 146s 55ms/step - loss: 0.3824 - accuracy: 0.8795 - val_loss: 0.1940 - val_accuracy: 0.9417\n",
            "Epoch 27/50\n",
            "2631/2631 [==============================] - ETA: 0s - loss: 0.3765 - accuracy: 0.8815WARNING:tensorflow:Early stopping conditioned on metric `val_acc` which is not available. Available metrics are: loss,accuracy,val_loss,val_accuracy\n",
            "2631/2631 [==============================] - 145s 55ms/step - loss: 0.3765 - accuracy: 0.8815 - val_loss: 0.1915 - val_accuracy: 0.9424\n",
            "Epoch 28/50\n",
            "2631/2631 [==============================] - ETA: 0s - loss: 0.3722 - accuracy: 0.8820WARNING:tensorflow:Early stopping conditioned on metric `val_acc` which is not available. Available metrics are: loss,accuracy,val_loss,val_accuracy\n",
            "2631/2631 [==============================] - 141s 54ms/step - loss: 0.3722 - accuracy: 0.8820 - val_loss: 0.1910 - val_accuracy: 0.9424\n",
            "Epoch 29/50\n",
            "2631/2631 [==============================] - ETA: 0s - loss: 0.3702 - accuracy: 0.8832WARNING:tensorflow:Early stopping conditioned on metric `val_acc` which is not available. Available metrics are: loss,accuracy,val_loss,val_accuracy\n",
            "2631/2631 [==============================] - 142s 54ms/step - loss: 0.3702 - accuracy: 0.8832 - val_loss: 0.1886 - val_accuracy: 0.9435\n",
            "Epoch 30/50\n",
            "2631/2631 [==============================] - ETA: 0s - loss: 0.3658 - accuracy: 0.8843WARNING:tensorflow:Early stopping conditioned on metric `val_acc` which is not available. Available metrics are: loss,accuracy,val_loss,val_accuracy\n",
            "2631/2631 [==============================] - 139s 53ms/step - loss: 0.3658 - accuracy: 0.8843 - val_loss: 0.1897 - val_accuracy: 0.9437\n",
            "Epoch 31/50\n",
            "2631/2631 [==============================] - ETA: 0s - loss: 0.3654 - accuracy: 0.8846WARNING:tensorflow:Early stopping conditioned on metric `val_acc` which is not available. Available metrics are: loss,accuracy,val_loss,val_accuracy\n",
            "2631/2631 [==============================] - 145s 55ms/step - loss: 0.3654 - accuracy: 0.8846 - val_loss: 0.1849 - val_accuracy: 0.9444\n",
            "Epoch 32/50\n",
            "2630/2631 [============================>.] - ETA: 0s - loss: 0.3619 - accuracy: 0.8853WARNING:tensorflow:Early stopping conditioned on metric `val_acc` which is not available. Available metrics are: loss,accuracy,val_loss,val_accuracy\n",
            "2631/2631 [==============================] - 146s 56ms/step - loss: 0.3619 - accuracy: 0.8853 - val_loss: 0.1834 - val_accuracy: 0.9450\n",
            "Epoch 33/50\n",
            "2631/2631 [==============================] - ETA: 0s - loss: 0.3584 - accuracy: 0.8868WARNING:tensorflow:Early stopping conditioned on metric `val_acc` which is not available. Available metrics are: loss,accuracy,val_loss,val_accuracy\n",
            "2631/2631 [==============================] - 139s 53ms/step - loss: 0.3584 - accuracy: 0.8868 - val_loss: 0.1831 - val_accuracy: 0.9446\n",
            "Epoch 34/50\n",
            "2631/2631 [==============================] - ETA: 0s - loss: 0.3584 - accuracy: 0.8869WARNING:tensorflow:Early stopping conditioned on metric `val_acc` which is not available. Available metrics are: loss,accuracy,val_loss,val_accuracy\n",
            "2631/2631 [==============================] - 145s 55ms/step - loss: 0.3584 - accuracy: 0.8869 - val_loss: 0.1790 - val_accuracy: 0.9469\n",
            "Epoch 35/50\n",
            "2630/2631 [============================>.] - ETA: 0s - loss: 0.3551 - accuracy: 0.8874WARNING:tensorflow:Early stopping conditioned on metric `val_acc` which is not available. Available metrics are: loss,accuracy,val_loss,val_accuracy\n",
            "2631/2631 [==============================] - 145s 55ms/step - loss: 0.3551 - accuracy: 0.8873 - val_loss: 0.1786 - val_accuracy: 0.9464\n",
            "Epoch 36/50\n",
            "2630/2631 [============================>.] - ETA: 0s - loss: 0.3505 - accuracy: 0.8883WARNING:tensorflow:Early stopping conditioned on metric `val_acc` which is not available. Available metrics are: loss,accuracy,val_loss,val_accuracy\n",
            "2631/2631 [==============================] - 145s 55ms/step - loss: 0.3505 - accuracy: 0.8883 - val_loss: 0.1772 - val_accuracy: 0.9474\n",
            "Epoch 37/50\n",
            "2631/2631 [==============================] - ETA: 0s - loss: 0.3516 - accuracy: 0.8879WARNING:tensorflow:Early stopping conditioned on metric `val_acc` which is not available. Available metrics are: loss,accuracy,val_loss,val_accuracy\n",
            "2631/2631 [==============================] - 140s 53ms/step - loss: 0.3516 - accuracy: 0.8879 - val_loss: 0.1750 - val_accuracy: 0.9479\n",
            "Epoch 38/50\n",
            "2631/2631 [==============================] - ETA: 0s - loss: 0.3490 - accuracy: 0.8894WARNING:tensorflow:Early stopping conditioned on metric `val_acc` which is not available. Available metrics are: loss,accuracy,val_loss,val_accuracy\n",
            "2631/2631 [==============================] - 145s 55ms/step - loss: 0.3490 - accuracy: 0.8894 - val_loss: 0.1755 - val_accuracy: 0.9475\n",
            "Epoch 39/50\n",
            "2631/2631 [==============================] - ETA: 0s - loss: 0.3470 - accuracy: 0.8897WARNING:tensorflow:Early stopping conditioned on metric `val_acc` which is not available. Available metrics are: loss,accuracy,val_loss,val_accuracy\n",
            "2631/2631 [==============================] - 139s 53ms/step - loss: 0.3470 - accuracy: 0.8897 - val_loss: 0.1759 - val_accuracy: 0.9477\n",
            "Epoch 40/50\n",
            "2630/2631 [============================>.] - ETA: 0s - loss: 0.3435 - accuracy: 0.8897WARNING:tensorflow:Early stopping conditioned on metric `val_acc` which is not available. Available metrics are: loss,accuracy,val_loss,val_accuracy\n",
            "2631/2631 [==============================] - 145s 55ms/step - loss: 0.3435 - accuracy: 0.8897 - val_loss: 0.1715 - val_accuracy: 0.9485\n",
            "Epoch 41/50\n",
            "2630/2631 [============================>.] - ETA: 0s - loss: 0.3424 - accuracy: 0.8903WARNING:tensorflow:Early stopping conditioned on metric `val_acc` which is not available. Available metrics are: loss,accuracy,val_loss,val_accuracy\n",
            "2631/2631 [==============================] - 139s 53ms/step - loss: 0.3424 - accuracy: 0.8903 - val_loss: 0.1736 - val_accuracy: 0.9481\n",
            "Epoch 42/50\n",
            "2630/2631 [============================>.] - ETA: 0s - loss: 0.3405 - accuracy: 0.8909WARNING:tensorflow:Early stopping conditioned on metric `val_acc` which is not available. Available metrics are: loss,accuracy,val_loss,val_accuracy\n",
            "2631/2631 [==============================] - 145s 55ms/step - loss: 0.3405 - accuracy: 0.8909 - val_loss: 0.1701 - val_accuracy: 0.9494\n",
            "Epoch 43/50\n",
            "2631/2631 [==============================] - ETA: 0s - loss: 0.3360 - accuracy: 0.8922WARNING:tensorflow:Early stopping conditioned on metric `val_acc` which is not available. Available metrics are: loss,accuracy,val_loss,val_accuracy\n",
            "2631/2631 [==============================] - 146s 55ms/step - loss: 0.3360 - accuracy: 0.8922 - val_loss: 0.1708 - val_accuracy: 0.9496\n",
            "Epoch 44/50\n",
            "2631/2631 [==============================] - ETA: 0s - loss: 0.3392 - accuracy: 0.8917WARNING:tensorflow:Early stopping conditioned on metric `val_acc` which is not available. Available metrics are: loss,accuracy,val_loss,val_accuracy\n",
            "2631/2631 [==============================] - 135s 51ms/step - loss: 0.3392 - accuracy: 0.8917 - val_loss: 0.1699 - val_accuracy: 0.9504\n",
            "Epoch 45/50\n",
            "2631/2631 [==============================] - ETA: 0s - loss: 0.3343 - accuracy: 0.8928WARNING:tensorflow:Early stopping conditioned on metric `val_acc` which is not available. Available metrics are: loss,accuracy,val_loss,val_accuracy\n",
            "2631/2631 [==============================] - 143s 54ms/step - loss: 0.3343 - accuracy: 0.8928 - val_loss: 0.1679 - val_accuracy: 0.9511\n",
            "Epoch 46/50\n",
            "2631/2631 [==============================] - ETA: 0s - loss: 0.3359 - accuracy: 0.8924WARNING:tensorflow:Early stopping conditioned on metric `val_acc` which is not available. Available metrics are: loss,accuracy,val_loss,val_accuracy\n",
            "2631/2631 [==============================] - 143s 55ms/step - loss: 0.3359 - accuracy: 0.8924 - val_loss: 0.1708 - val_accuracy: 0.9499\n",
            "Epoch 47/50\n",
            "2631/2631 [==============================] - ETA: 0s - loss: 0.3344 - accuracy: 0.8925WARNING:tensorflow:Early stopping conditioned on metric `val_acc` which is not available. Available metrics are: loss,accuracy,val_loss,val_accuracy\n",
            "2631/2631 [==============================] - 148s 56ms/step - loss: 0.3344 - accuracy: 0.8925 - val_loss: 0.1674 - val_accuracy: 0.9508\n",
            "Epoch 48/50\n",
            "2630/2631 [============================>.] - ETA: 0s - loss: 0.3307 - accuracy: 0.8940WARNING:tensorflow:Early stopping conditioned on metric `val_acc` which is not available. Available metrics are: loss,accuracy,val_loss,val_accuracy\n",
            "2631/2631 [==============================] - 145s 55ms/step - loss: 0.3306 - accuracy: 0.8940 - val_loss: 0.1654 - val_accuracy: 0.9519\n",
            "Epoch 49/50\n",
            "2630/2631 [============================>.] - ETA: 0s - loss: 0.3305 - accuracy: 0.8935WARNING:tensorflow:Early stopping conditioned on metric `val_acc` which is not available. Available metrics are: loss,accuracy,val_loss,val_accuracy\n",
            "2631/2631 [==============================] - 139s 53ms/step - loss: 0.3305 - accuracy: 0.8935 - val_loss: 0.1652 - val_accuracy: 0.9515\n",
            "Epoch 50/50\n",
            "2630/2631 [============================>.] - ETA: 0s - loss: 0.3292 - accuracy: 0.8943WARNING:tensorflow:Early stopping conditioned on metric `val_acc` which is not available. Available metrics are: loss,accuracy,val_loss,val_accuracy\n",
            "2631/2631 [==============================] - 145s 55ms/step - loss: 0.3292 - accuracy: 0.8944 - val_loss: 0.1657 - val_accuracy: 0.9512\n"
          ]
        }
      ]
    },
    {
      "cell_type": "markdown",
      "source": [
        "# Saving a model"
      ],
      "metadata": {
        "id": "45zMrccAJ9kp"
      }
    },
    {
      "cell_type": "code",
      "source": [
        "# plot_model(model, to_file='model_plot.png', show_shapes=True, show_layer_names=True);\n",
        "# save the model to disk\n",
        "print(\"[INFO] serializing network...\")\n",
        "#model.save(args[\"model\"])\n",
        "model.save(\"model.model\")\n",
        "model.save_weights(\"weights.h5\")\n",
        "#save the multi-label binarizer to disk\n",
        "print(\"[INFO] serializing label binarizer...\")\n",
        "# f = open(args[\"labelbin\"], \"wb\")\n",
        "f = open(\"labels.pickle\", \"wb\")\n",
        "f.write(pickle.dumps(mlb))\n",
        "f.close()\n"
      ],
      "metadata": {
        "id": "1gUjdmIH6JIU",
        "colab": {
          "base_uri": "https://localhost:8080/"
        },
        "outputId": "5c7afb07-7ba0-48b0-da95-bba12d074036"
      },
      "execution_count": null,
      "outputs": [
        {
          "output_type": "stream",
          "name": "stdout",
          "text": [
            "[INFO] serializing network...\n",
            "INFO:tensorflow:Assets written to: model.model/assets\n",
            "[INFO] serializing label binarizer...\n"
          ]
        }
      ]
    },
    {
      "cell_type": "code",
      "source": [
        "#probabilities = model.predict_generator(validation_generator,2000)\n",
        "\n",
        "# Evaluating the model / Get Validation accuracy on sample from validation set\n",
        "scores = model.evaluate(validation_generator,verbose=1) \n",
        "print(\"Accuracy = \", scores[1])\n"
      ],
      "metadata": {
        "id": "Ahzq_VFMJ71a",
        "colab": {
          "base_uri": "https://localhost:8080/"
        },
        "outputId": "8e407507-236b-45fc-9897-664efccd918a"
      },
      "execution_count": null,
      "outputs": [
        {
          "output_type": "stream",
          "name": "stdout",
          "text": [
            "1129/1129 [==============================] - 40s 35ms/step - loss: 0.1657 - accuracy: 0.9512\n",
            "Accuracy =  0.9511570334434509\n"
          ]
        }
      ]
    },
    {
      "cell_type": "code",
      "source": [
        "import matplotlib.pyplot as plt"
      ],
      "metadata": {
        "id": "y5InH5Z1J74Z"
      },
      "execution_count": null,
      "outputs": []
    },
    {
      "cell_type": "code",
      "source": [
        "\n",
        "\n",
        "# Plot training & validation accuracy values\n",
        "plt.plot(history.history['accuracy'])\n",
        "plt.plot(history.history['val_accuracy'])\n",
        "plt.title('Model accuracy')\n",
        "plt.ylabel('Accuracy')\n",
        "plt.xlabel('Epoch')\n",
        "plt.legend(['Train', 'Test'], loc='upper left')\n",
        "plt.savefig('model_accuary_plot.png')\n",
        "plt.show()"
      ],
      "metadata": {
        "id": "vFmyN25sKFjK",
        "colab": {
          "base_uri": "https://localhost:8080/",
          "height": 295
        },
        "outputId": "3f3fe814-21aa-40a4-8d61-f2101590047c"
      },
      "execution_count": null,
      "outputs": [
        {
          "output_type": "display_data",
          "data": {
            "image/png": "[encoded data removed]",
            "text/plain": [
              "<Figure size 432x288 with 1 Axes>"
            ]
          },
          "metadata": {
            "needs_background": "light"
          }
        }
      ]
    },
    {
      "cell_type": "code",
      "source": [
        "# Plot training & validation loss values\n",
        "plt.plot(history.history['loss'])\n",
        "plt.plot(history.history['val_loss'])\n",
        "plt.title('Model loss')\n",
        "plt.ylabel('Loss')\n",
        "plt.xlabel('Epoch')\n",
        "plt.legend(['Train', 'Test'], loc='upper left')\n",
        "plt.savefig('model_loss_plot.png')\n",
        "plt.show()"
      ],
      "metadata": {
        "id": "DH6FL4fIKFlr",
        "colab": {
          "base_uri": "https://localhost:8080/",
          "height": 295
        },
        "outputId": "c5e42650-9b7b-4333-d963-20088cafc17b"
      },
      "execution_count": null,
      "outputs": [
        {
          "output_type": "display_data",
          "data": {
            "image/png": "[encoded data removed]",
            "text/plain": [
              "<Figure size 432x288 with 1 Axes>"
            ]
          },
          "metadata": {
            "needs_background": "light"
          }
        }
      ]
    },
    {
      "cell_type": "code",
      "source": [
        "# Train - Val plot\n",
        "fig1, ax_acc = plt.subplots()\n",
        "plt.plot(history.history['accuracy'])\n",
        "plt.plot(history.history['val_accuracy'])\n",
        "plt.xlabel('Epoch')\n",
        "plt.ylabel('Accuracy')\n",
        "plt.title('Model - Accuracy')\n",
        "plt.legend(['Training', 'Validation'], loc='lower right')\n",
        "plt.savefig(\"train_val_plot.png\")"
      ],
      "metadata": {
        "id": "eTxSSlePKJIs",
        "colab": {
          "base_uri": "https://localhost:8080/",
          "height": 295
        },
        "outputId": "63a3a9c4-73db-4153-a974-8c494d0d78d9"
      },
      "execution_count": null,
      "outputs": [
        {
          "output_type": "display_data",
          "data": {
            "image/png": "[encoded data removed]",
            "text/plain": [
              "<Figure size 432x288 with 1 Axes>"
            ]
          },
          "metadata": {
            "needs_background": "light"
          }
        }
      ]
    },
    {
      "cell_type": "markdown",
      "source": [
        "# Evaluation step"
      ],
      "metadata": {
        "id": "GJIq7p9DMTfT"
      }
    },
    {
      "cell_type": "code",
      "source": [
        "from keras.preprocessing.image import img_to_array\n",
        "from keras.models import load_model\n",
        "import numpy as np\n",
        "import argparse\n",
        "import imutils\n",
        "import pickle\n",
        "import cv2\n",
        "import os"
      ],
      "metadata": {
        "id": "80Wbjjo0MWxp"
      },
      "execution_count": 72,
      "outputs": []
    },
    {
      "cell_type": "code",
      "source": [
        "# load the image\n",
        "image = cv2.imread(\"/content/data/extracted_images/alpha/alpha_9636.jpg\")\n",
        "print(image.shape)\n",
        "output = imutils.resize(image, width=400)\n",
        " \n",
        "# pre-process the image for classification\n",
        "image = cv2.resize(image, (45, 45))\n",
        "image = image.astype(\"float\") / 255.0\n",
        "image = img_to_array(image)\n",
        "image = np.expand_dims(image, axis=0)\n",
        "print(\"after image size:\",image.shape)"
      ],
      "metadata": {
        "id": "_iHKB8WhMXP5",
        "colab": {
          "base_uri": "https://localhost:8080/"
        },
        "outputId": "f7c92b21-5dbe-40c9-f27b-745205f09f54"
      },
      "execution_count": 86,
      "outputs": [
        {
          "output_type": "stream",
          "name": "stdout",
          "text": [
            "(45, 45, 3)\n",
            "after image size: (1, 45, 45, 3)\n"
          ]
        }
      ]
    },
    {
      "cell_type": "code",
      "source": [
        "# load the trained convolutional neural network and the multi-label\n",
        "# binarizer\n",
        "print(\"[INFO] loading network...\")\n",
        "model = load_model(\"/content/sample_data/model.model\")\n",
        "#input=open(\"labels.pickle\", \"rb\").read()\n",
        "#mlb = pickle.loads(input)\n",
        "\n",
        "model_labels = pickle.loads(open(\"/content/sample_data/labels.pickle\", \"rb\").read())\n",
        " \n",
        " #%%\n",
        "# classify the input image then find the indexes of the two class\n",
        "# labels with the *largest* probability\n",
        "print(\"[INFO] classifying image...\")\n",
        "proba = model.predict(image)[0]\n",
        "idxs = np.argsort(proba)[::-1][:2]\n",
        "# loop over the indexes of the high confidence class labels"
      ],
      "metadata": {
        "id": "J4s-ud4fMXSt",
        "colab": {
          "base_uri": "https://localhost:8080/"
        },
        "outputId": "25efe7cd-041b-435a-dec1-88426fde9f33"
      },
      "execution_count": 87,
      "outputs": [
        {
          "output_type": "stream",
          "name": "stdout",
          "text": [
            "[INFO] loading network...\n",
            "[INFO] classifying image...\n"
          ]
        }
      ]
    },
    {
      "cell_type": "code",
      "source": [
        "mlb.classes_"
      ],
      "metadata": {
        "colab": {
          "base_uri": "https://localhost:8080/"
        },
        "id": "hzjlyCoveTR5",
        "outputId": "cef685a8-7781-433f-f364-3cb396114d16"
      },
      "execution_count": 88,
      "outputs": [
        {
          "output_type": "execute_result",
          "data": {
            "text/plain": [
              "array(['!', '(', ')', '+', ',', '-', '0', '1', '2', '3', '4', '5', '6',\n",
              "       '7', '8', '9', '=', 'A', 'C', 'Delta', 'G', 'H', 'M', 'N', 'R',\n",
              "       'S', 'T', 'X', '[', ']', 'alpha', 'ascii_124', 'b', 'beta', 'cos',\n",
              "       'd', 'div', 'e', 'exists', 'f', 'forall', 'forward_slash', 'gamma',\n",
              "       'geq', 'gt', 'i', 'in', 'infty', 'int', 'j', 'k', 'l', 'lambda',\n",
              "       'ldots', 'leq', 'lim', 'log', 'lt', 'mu', 'neq', 'o', 'p', 'phi',\n",
              "       'pi', 'pm', 'prime', 'q', 'rightarrow', 'sigma', 'sin', 'sqrt',\n",
              "       'sum', 'tan', 'theta', 'times', 'u', 'v', 'w', 'y', 'z', '{', '}'],\n",
              "      dtype=object)"
            ]
          },
          "metadata": {},
          "execution_count": 88
        }
      ]
    },
    {
      "cell_type": "code",
      "source": [
        "for (i, j) in enumerate(idxs):\n",
        "    # build the label and draw the label on the image\n",
        "    label = \"{}: {:.2f}%\".format(mlb.classes_[j], proba[j] * 100)\n",
        "    cv2.putText(output, label, (10, (i * 30) + 25), \n",
        "        cv2.FONT_HERSHEY_SIMPLEX, 0.7, (0, 255, 0), 2)"
      ],
      "metadata": {
        "id": "W4JCYwBmMzne"
      },
      "execution_count": 89,
      "outputs": []
    },
    {
      "cell_type": "code",
      "source": [
        "symbol_prob={}\n",
        "# show the probabilities for each of the individual labels\n",
        "for (label, p) in zip(mlb.classes_, proba):\n",
        "    #print(\"{}: {:.2f}%\".format(label, p * 100))\n",
        "    symbol_prob[label] = \"{:.2f}%\".format(p * 100)\n",
        "# show the output image\n",
        "#cv2.imshow(\"Output\", output)\n",
        "cv2.waitKey(0)\n",
        "\n",
        "highest_probability_match = sorted(symbol_prob.items(), key=lambda x: x[1], reverse=True)\n",
        "\n",
        "print(symbol_prob[mlb.classes_[proba.argmax(axis=-1)]])\n",
        "print (\"This Symbol is :\",' '.join(mlb.classes_[proba.argmax(axis=-1)]),\"with probability match \", highest_probability_match[0])\n",
        "#model.predict_classes(image)\n",
        "#result = \"This Symbol is : \".join(mlb.classes_[proba.argmax(axis=-1)])\n",
        "print (\"The top 5 highest probailities are \", highest_probability_match[:5])"
      ],
      "metadata": {
        "id": "brkmZ_bkMzqj",
        "colab": {
          "base_uri": "https://localhost:8080/"
        },
        "outputId": "d5ede343-9c22-4250-d06b-52b39ec00b9e"
      },
      "execution_count": 108,
      "outputs": [
        {
          "output_type": "stream",
          "name": "stdout",
          "text": [
            "99.48%\n",
            "This Symbol is : a l p h a with probability match  ('alpha', '99.48%')\n",
            "The top 5 highest probailities are  [('alpha', '99.48%'), ('X', '0.42%'), ('infty', '0.10%'), ('!', '0.00%'), ('(', '0.00%')]\n"
          ]
        }
      ]
    },
    {
      "cell_type": "code",
      "source": [
        "\n"
      ],
      "metadata": {
        "id": "n1WCArLWR8tA"
      },
      "execution_count": null,
      "outputs": []
    }
  ]
}