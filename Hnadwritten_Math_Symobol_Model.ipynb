{
  "nbformat": 4,
  "nbformat_minor": 0,
  "metadata": {
    "colab": {
      "name": "Hnadwritten_Math_Symobol_Model.ipynb",
      "provenance": [],
      "authorship_tag": "ABX9TyPWHSzBR41JPUbVf6ejq4tJ",
      "include_colab_link": true
    },
    "kernelspec": {
      "name": "python3",
      "display_name": "Python 3"
    },
    "language_info": {
      "name": "python"
    },
    "accelerator": "GPU"
  },
  "cells": [
    {
      "cell_type": "markdown",
      "metadata": {
        "id": "view-in-github",
        "colab_type": "text"
      },
      "source": [
        "<a href=\"https://colab.research.google.com/github/Hinakoushar-Tatakoti/Hand-written-Math-sysmbol-recognization/blob/master/Hnadwritten_Math_Symobol_Model.ipynb\" target=\"_parent\"><img src=\"https://colab.research.google.com/assets/colab-badge.svg\" alt=\"Open In Colab\"/></a>"
      ]
    },
    {
      "cell_type": "code",
      "execution_count": 1,
      "metadata": {
        "id": "AMELhZigsE5R"
      },
      "outputs": [],
      "source": [
        "!pip install -q kaggle"
      ]
    },
    {
      "cell_type": "code",
      "source": [
        "from google.colab import files\n",
        "files.upload()"
      ],
      "metadata": {
        "id": "RD9BfJ62sf-e"
      },
      "execution_count": null,
      "outputs": []
    },
    {
      "cell_type": "code",
      "source": [
        "! mkdir ~/.kaggle"
      ],
      "metadata": {
        "id": "pIKGL8X_swPP"
      },
      "execution_count": 3,
      "outputs": []
    },
    {
      "cell_type": "code",
      "source": [
        "!cp kaggle.json ~/.kaggle/"
      ],
      "metadata": {
        "id": "TBxDlmkosgBm"
      },
      "execution_count": 4,
      "outputs": []
    },
    {
      "cell_type": "code",
      "source": [
        "! chmod 600 ~/.kaggle/kaggle.json"
      ],
      "metadata": {
        "id": "UwUW_W9ltOTn"
      },
      "execution_count": 5,
      "outputs": []
    },
    {
      "cell_type": "code",
      "source": [
        "!kaggle datasets list"
      ],
      "metadata": {
        "id": "3hcF5gyKtbHR",
        "collapsed": true
      },
      "execution_count": null,
      "outputs": []
    },
    {
      "cell_type": "code",
      "source": [
        "!kaggle datasets download -d xainano/handwrittenmathsymbols"
      ],
      "metadata": {
        "colab": {
          "base_uri": "https://localhost:8080/"
        },
        "id": "tJwQlYzutbKM",
        "outputId": "7437b454-6384-452c-bc67-1488da3847ad"
      },
      "execution_count": 7,
      "outputs": [
        {
          "output_type": "stream",
          "name": "stdout",
          "text": [
            "Downloading handwrittenmathsymbols.zip to /content\n",
            " 99% 338M/343M [00:13<00:00, 23.8MB/s]\n",
            "100% 343M/343M [00:13<00:00, 26.5MB/s]\n"
          ]
        }
      ]
    },
    {
      "cell_type": "code",
      "source": [
        "!unzip  handwrittenmathsymbols.zip"
      ],
      "metadata": {
        "id": "UJyf3L1XtOWY",
        "collapsed": true
      },
      "execution_count": null,
      "outputs": []
    },
    {
      "cell_type": "code",
      "source": [
        "!unrar x data.rar \"/content/data/\""
      ],
      "metadata": {
        "id": "N63qJJGrvnSm",
        "collapsed": true
      },
      "execution_count": null,
      "outputs": []
    },
    {
      "cell_type": "markdown",
      "source": [
        "# Start Building the project code"
      ],
      "metadata": {
        "id": "gi2Pnmr4zN0z"
      }
    },
    {
      "cell_type": "code",
      "source": [
        "!pwd\n",
        "!pip install split-folders\n",
        "!pip install split-folders tqdm"
      ],
      "metadata": {
        "colab": {
          "base_uri": "https://localhost:8080/"
        },
        "id": "ZJ38ntIoxIg_",
        "outputId": "143627e0-c752-45c1-cb61-840b799d7d3d"
      },
      "execution_count": 10,
      "outputs": [
        {
          "output_type": "stream",
          "name": "stdout",
          "text": [
            "/content\n",
            "Collecting split-folders\n",
            "  Downloading split_folders-0.5.1-py3-none-any.whl (8.4 kB)\n",
            "Installing collected packages: split-folders\n",
            "Successfully installed split-folders-0.5.1\n",
            "Requirement already satisfied: split-folders in /usr/local/lib/python3.7/dist-packages (0.5.1)\n",
            "Requirement already satisfied: tqdm in /usr/local/lib/python3.7/dist-packages (4.62.3)\n"
          ]
        }
      ]
    },
    {
      "cell_type": "code",
      "source": [
        "import numpy as np # linear algebra\n",
        "import pandas as pd # data processing, CSV file I/O (e.g. pd.read_csv)\n",
        "from keras import backend as K\n",
        "from sklearn.preprocessing import MultiLabelBinarizer\n",
        "from keras.preprocessing.image import ImageDataGenerator\n",
        "from keras.models import Sequential\n",
        "from keras.layers import Conv2D, MaxPooling2D\n",
        "from keras.layers import Activation, Dropout, Flatten, Dense\n",
        "from tensorflow.keras.optimizers import Adam\n",
        "from tensorflow.keras.optimizers import RMSprop\n",
        "from keras.utils.vis_utils import plot_model\n",
        "from keras.preprocessing.image import img_to_array\n",
        "from tensorflow.keras.callbacks import EarlyStopping\n",
        "\n",
        "##from ipynb.fs.full.model import *\n",
        "import os\n",
        "import pickle\n",
        "\n",
        "import os\n",
        "import numpy as np\n",
        "from tqdm import tqdm\n",
        "from fastai import *\n",
        "import torch\n",
        "\n",
        "%matplotlib inline\n",
        "\n",
        "import cv2\n",
        "import pandas as pd\n",
        "import splitfolders\n",
        "import random\n",
        "import matplotlib.pyplot as plt"
      ],
      "metadata": {
        "id": "5Y_HwLAhzDwN"
      },
      "execution_count": 34,
      "outputs": []
    },
    {
      "cell_type": "code",
      "source": [
        "data = os.listdir(\"/content/data/extracted_images/\")\n",
        "len(data)"
      ],
      "metadata": {
        "colab": {
          "base_uri": "https://localhost:8080/"
        },
        "id": "Sa8ShtuvzgMP",
        "outputId": "99d62318-a3ea-4671-c15c-d729e240f14d"
      },
      "execution_count": 12,
      "outputs": [
        {
          "output_type": "execute_result",
          "data": {
            "text/plain": [
              "82"
            ]
          },
          "metadata": {},
          "execution_count": 12
        }
      ]
    },
    {
      "cell_type": "code",
      "source": [
        "def seed_everything(seed):\n",
        "    random.seed(seed)\n",
        "    os.environ['PYTHONHASHSEED'] = str(seed)\n",
        "    np.random.seed(seed)\n",
        "    torch.manual_seed(seed)\n",
        "    torch.cuda.manual_seed(seed)\n",
        "    torch.backends.cudnn.deterministic = True    \n",
        "\n",
        "SEED = 999\n",
        "seed_everything(SEED)"
      ],
      "metadata": {
        "id": "glCFPmlszgPd"
      },
      "execution_count": 13,
      "outputs": []
    },
    {
      "cell_type": "code",
      "source": [
        "# Infos about our Dataset\n",
        "nbr_of_pictures = []\n",
        "\n",
        "labels = os.listdir(\"/content/data/extracted_images\")\n",
        "for _, _, files in os.walk(r'/content/data/extracted_images'):\n",
        "    nbr_of_pictures.append(len(files))\n",
        "\n",
        "nbr_of_pictures=nbr_of_pictures[1:]\n",
        "#print nbr of pictures in every class\n",
        "print(\"Number of samples in every class ...\")\n",
        "for i in range(82):  # 82 : Nbr of classes\n",
        "    print(labels[i],\" : \",nbr_of_pictures[i])"
      ],
      "metadata": {
        "id": "119NRPCszDzT",
        "outputId": "7f71c417-18a6-40e8-d106-40a7e46404e4",
        "colab": {
          "base_uri": "https://localhost:8080/"
        }
      },
      "execution_count": 14,
      "outputs": [
        {
          "output_type": "stream",
          "name": "stdout",
          "text": [
            "Number of samples in every class ...\n",
            "forward_slash  :  199\n",
            "int  :  2742\n",
            "y  :  9340\n",
            "leq  :  973\n",
            "sqrt  :  8908\n",
            "gamma  :  409\n",
            "5  :  3545\n",
            "sigma  :  201\n",
            "infty  :  1783\n",
            "+  :  25112\n",
            "6  :  3118\n",
            "ldots  :  609\n",
            "}  :  377\n",
            "q  :  1230\n",
            "X  :  26594\n",
            "lt  :  477\n",
            "G  :  1692\n",
            "4  :  7396\n",
            ",  :  1906\n",
            "rightarrow  :  1703\n",
            ")  :  14355\n",
            "i  :  5140\n",
            "!  :  1300\n",
            "exists  :  21\n",
            "z  :  5870\n",
            "prime  :  329\n",
            "w  :  556\n",
            "8  :  3068\n",
            "M  :  2476\n",
            "lambda  :  109\n",
            "mu  :  177\n",
            "div  :  868\n",
            "theta  :  2796\n",
            "sin  :  4293\n",
            "Delta  :  137\n",
            "b  :  8651\n",
            "pi  :  2332\n",
            "ascii_124  :  1339\n",
            "forall  :  45\n",
            "pm  :  802\n",
            "7  :  2909\n",
            "gt  :  258\n",
            "{  :  376\n",
            "cos  :  2986\n",
            "(  :  14294\n",
            "T  :  3274\n",
            "1  :  26520\n",
            "o  :  449\n",
            "[  :  778\n",
            "C  :  5802\n",
            "0  :  6914\n",
            "=  :  13104\n",
            "in  :  47\n",
            "u  :  1269\n",
            "A  :  12367\n",
            "e  :  3003\n",
            "times  :  3251\n",
            "beta  :  2025\n",
            "2  :  26141\n",
            "k  :  3074\n",
            "alpha  :  2546\n",
            "R  :  2671\n",
            "S  :  1413\n",
            "sum  :  2689\n",
            "v  :  1558\n",
            "H  :  1464\n",
            "l  :  1017\n",
            "]  :  780\n",
            "lim  :  1675\n",
            "N  :  10862\n",
            "log  :  2001\n",
            "f  :  3712\n",
            "geq  :  693\n",
            "d  :  4852\n",
            "9  :  3737\n",
            "neq  :  558\n",
            "p  :  2680\n",
            "phi  :  355\n",
            "j  :  1536\n",
            "-  :  33997\n",
            "3  :  10909\n",
            "tan  :  2450\n"
          ]
        }
      ]
    },
    {
      "cell_type": "markdown",
      "source": [
        "Pickle the labels for later use"
      ],
      "metadata": {
        "id": "bSoetbElgsqI"
      }
    },
    {
      "cell_type": "code",
      "source": [
        "print(len(labels),\" Classes : \",labels)\n",
        "labels = np.array(labels)\n",
        "print(labels)"
      ],
      "metadata": {
        "colab": {
          "base_uri": "https://localhost:8080/"
        },
        "id": "xd3ZWaPsgvcg",
        "outputId": "b1ac72c4-a581-40db-eeef-503f17fe53ff"
      },
      "execution_count": 15,
      "outputs": [
        {
          "output_type": "stream",
          "name": "stdout",
          "text": [
            "82  Classes :  ['forward_slash', 'int', 'y', 'leq', 'sqrt', 'gamma', '5', 'sigma', 'infty', '+', '6', 'ldots', '}', 'q', 'X', 'lt', 'G', '4', ',', 'rightarrow', ')', 'i', '!', 'exists', 'z', 'prime', 'w', '8', 'M', 'lambda', 'mu', 'div', 'theta', 'sin', 'Delta', 'b', 'pi', 'ascii_124', 'forall', 'pm', '7', 'gt', '{', 'cos', '(', 'T', '1', 'o', '[', 'C', '0', '=', 'in', 'u', 'A', 'e', 'times', 'beta', '2', 'k', 'alpha', 'R', 'S', 'sum', 'v', 'H', 'l', ']', 'lim', 'N', 'log', 'f', 'geq', 'd', '9', 'neq', 'p', 'phi', 'j', '-', '3', 'tan']\n",
            "['forward_slash' 'int' 'y' 'leq' 'sqrt' 'gamma' '5' 'sigma' 'infty' '+'\n",
            " '6' 'ldots' '}' 'q' 'X' 'lt' 'G' '4' ',' 'rightarrow' ')' 'i' '!'\n",
            " 'exists' 'z' 'prime' 'w' '8' 'M' 'lambda' 'mu' 'div' 'theta' 'sin'\n",
            " 'Delta' 'b' 'pi' 'ascii_124' 'forall' 'pm' '7' 'gt' '{' 'cos' '(' 'T' '1'\n",
            " 'o' '[' 'C' '0' '=' 'in' 'u' 'A' 'e' 'times' 'beta' '2' 'k' 'alpha' 'R'\n",
            " 'S' 'sum' 'v' 'H' 'l' ']' 'lim' 'N' 'log' 'f' 'geq' 'd' '9' 'neq' 'p'\n",
            " 'phi' 'j' '-' '3' 'tan']\n"
          ]
        }
      ]
    },
    {
      "cell_type": "code",
      "source": [
        "output=open(\"labels.pickle\", \"wb\")\n",
        "pickle.dump(labels, output)\n",
        "output.close()"
      ],
      "metadata": {
        "id": "pG9L0xRZh6BQ"
      },
      "execution_count": 16,
      "outputs": []
    },
    {
      "cell_type": "code",
      "source": [
        "## split the data into train and val\n",
        "## one time done\n",
        "splitfolders.ratio('/content/data/extracted_images', output=\"/content/data/split\", seed=SEED, ratio=(.7, .3)) "
      ],
      "metadata": {
        "colab": {
          "base_uri": "https://localhost:8080/"
        },
        "id": "AbD9MFy70LRV",
        "outputId": "a9a202f4-df10-40cf-b676-411dd8ecef86"
      },
      "execution_count": 17,
      "outputs": [
        {
          "output_type": "stream",
          "name": "stderr",
          "text": [
            "Copying files: 375974 files [02:09, 2906.53 files/s]\n"
          ]
        }
      ]
    },
    {
      "cell_type": "code",
      "source": [
        "#Initialize parametres\n",
        "\n",
        "EPOCHS = 10\n",
        "BS = 100 #Batch size\n",
        "LR = 1e-3 #Learning rate 0.001\n",
        "img_dim = (45,45,3)\n",
        "train_data_dir = '/content/data/split/train'\n",
        "test_data_dir = '/content/data/split/val'\n",
        "#labels = []\n",
        "#Nbr of training images\n",
        "train_samples_nbr  = sum(len(files) for _, _, files in os.walk(r'/content/data/split/train'))\n",
        "print(f\"Number of train images are {train_samples_nbr}\")\n",
        "#Nbr of testing images\n",
        "test_samples_nbr  = sum(len(files) for _, _, files in os.walk(r'/content/data/split/val'))\n",
        "print(f\"Number of test images are {test_samples_nbr}\")"
      ],
      "metadata": {
        "colab": {
          "base_uri": "https://localhost:8080/"
        },
        "id": "Js6UrC7r1wfW",
        "outputId": "fc0641ee-a85e-45e0-f921-5ec9f0c66d8e"
      },
      "execution_count": 63,
      "outputs": [
        {
          "output_type": "stream",
          "name": "stdout",
          "text": [
            "Number of train images are 263143\n",
            "Number of test images are 112831\n"
          ]
        }
      ]
    },
    {
      "cell_type": "code",
      "source": [
        "if K.image_data_format() == 'channels_first':\n",
        "    input_shape = (img_dim[2], img_dim[0], img_dim[1])\n",
        "else:\n",
        "    input_shape = (img_dim[0], img_dim[1], img_dim[2])\n",
        "print(input_shape)"
      ],
      "metadata": {
        "colab": {
          "base_uri": "https://localhost:8080/"
        },
        "id": "nwk1laxO35Eq",
        "outputId": "cf39171a-2f20-4bb6-b6d7-746746d132cb"
      },
      "execution_count": 64,
      "outputs": [
        {
          "output_type": "stream",
          "name": "stdout",
          "text": [
            "(45, 45, 3)\n"
          ]
        }
      ]
    },
    {
      "cell_type": "code",
      "source": [
        "#earlyStopping = EarlyStopping(monitor=\"val_loss\", mode=\"min\", patience=2)\n",
        "earlyStopping = EarlyStopping(monitor='val_acc', min_delta=0, patience=20, verbose=1, mode='auto')"
      ],
      "metadata": {
        "id": "TMeHl1G_4XO6"
      },
      "execution_count": 65,
      "outputs": []
    },
    {
      "cell_type": "code",
      "source": [
        "lab = ['+' 'sqrt' 'sigma' 'o' '}' '(' 'i' 'times' 'tan' '2' '=' 'z' 'l' '6'\n",
        " 'rightarrow' 'Delta' 'C' '[' 'cos' '4' 'log' '9' '-' 'pm' ']' 'X'\n",
        " 'forall' 'exists' 'S' 'div' '0' '1' 'lambda' 'k' 'R' '{' 'int' 'w' 'A'\n",
        " 'p' 'neq' 'phi' 'd' 'gamma' '!' 'N' 'u' 'f' 'geq' 'infty' 'leq' 'lim' ')'\n",
        " 'beta' 'T' ',' 'y' '3' 'alpha' '7' 'gt' 'pi' 'in' 'sum' 'ldots' '8' 'M'\n",
        " '5' 'b' 'j' 'H' 'v' 'mu' 'forward_slash' 'sin' 'prime' 'ascii_124' 'q'\n",
        " 'theta' 'lt' 'e' 'G']"
      ],
      "metadata": {
        "id": "7qNOz0z4d6HT"
      },
      "execution_count": 66,
      "outputs": []
    },
    {
      "cell_type": "code",
      "source": [
        "type(labels)"
      ],
      "metadata": {
        "colab": {
          "base_uri": "https://localhost:8080/"
        },
        "id": "Qu-kNL4Xg3kD",
        "outputId": "18e97579-d854-4ebc-b6dd-a844f550a4d9"
      },
      "execution_count": null,
      "outputs": [
        {
          "output_type": "execute_result",
          "data": {
            "text/plain": [
              "numpy.ndarray"
            ]
          },
          "metadata": {},
          "execution_count": 59
        }
      ]
    },
    {
      "cell_type": "code",
      "source": [
        "print(\"[INFO] class labels:\")\n",
        "mlb = MultiLabelBinarizer()\n",
        "mlb.fit_transform([labels])\n"
      ],
      "metadata": {
        "colab": {
          "base_uri": "https://localhost:8080/"
        },
        "id": "aRto88_j4aTk",
        "outputId": "5b1adebd-acb9-4d9c-a9f1-f166728332b2"
      },
      "execution_count": 22,
      "outputs": [
        {
          "output_type": "stream",
          "name": "stdout",
          "text": [
            "[INFO] class labels:\n"
          ]
        },
        {
          "output_type": "execute_result",
          "data": {
            "text/plain": [
              "array([[1, 1, 1, 1, 1, 1, 1, 1, 1, 1, 1, 1, 1, 1, 1, 1, 1, 1, 1, 1, 1, 1,\n",
              "        1, 1, 1, 1, 1, 1, 1, 1, 1, 1, 1, 1, 1, 1, 1, 1, 1, 1, 1, 1, 1, 1,\n",
              "        1, 1, 1, 1, 1, 1, 1, 1, 1, 1, 1, 1, 1, 1, 1, 1, 1, 1, 1, 1, 1, 1,\n",
              "        1, 1, 1, 1, 1, 1, 1, 1, 1, 1, 1, 1, 1, 1, 1, 1]])"
            ]
          },
          "metadata": {},
          "execution_count": 22
        }
      ]
    },
    {
      "cell_type": "code",
      "source": [
        "mlb.classes_\n"
      ],
      "metadata": {
        "id": "G3R4dUmA4aW4",
        "colab": {
          "base_uri": "https://localhost:8080/"
        },
        "outputId": "2281c534-d843-4356-e076-12b11fd98e5d"
      },
      "execution_count": 23,
      "outputs": [
        {
          "output_type": "execute_result",
          "data": {
            "text/plain": [
              "array(['!', '(', ')', '+', ',', '-', '0', '1', '2', '3', '4', '5', '6',\n",
              "       '7', '8', '9', '=', 'A', 'C', 'Delta', 'G', 'H', 'M', 'N', 'R',\n",
              "       'S', 'T', 'X', '[', ']', 'alpha', 'ascii_124', 'b', 'beta', 'cos',\n",
              "       'd', 'div', 'e', 'exists', 'f', 'forall', 'forward_slash', 'gamma',\n",
              "       'geq', 'gt', 'i', 'in', 'infty', 'int', 'j', 'k', 'l', 'lambda',\n",
              "       'ldots', 'leq', 'lim', 'log', 'lt', 'mu', 'neq', 'o', 'p', 'phi',\n",
              "       'pi', 'pm', 'prime', 'q', 'rightarrow', 'sigma', 'sin', 'sqrt',\n",
              "       'sum', 'tan', 'theta', 'times', 'u', 'v', 'w', 'y', 'z', '{', '}'],\n",
              "      dtype=object)"
            ]
          },
          "metadata": {},
          "execution_count": 23
        }
      ]
    },
    {
      "cell_type": "markdown",
      "source": [
        "# Add a model"
      ],
      "metadata": {
        "id": "0XcDLUDk4iUh"
      }
    },
    {
      "cell_type": "code",
      "source": [
        "from tensorflow.keras.models import Sequential\n",
        "from tensorflow.keras.layers import BatchNormalization\n",
        "from tensorflow.keras.layers import Conv2D\n",
        "from tensorflow.keras.layers import MaxPooling2D\n",
        "from tensorflow.keras.layers import Activation\n",
        "from tensorflow.keras.layers import Flatten\n",
        "from tensorflow.keras.layers import Dropout\n",
        "from tensorflow.keras.layers import Dense\n",
        "from keras import backend as K"
      ],
      "metadata": {
        "id": "b6UHPALF4aaz"
      },
      "execution_count": 67,
      "outputs": []
    },
    {
      "cell_type": "code",
      "source": [
        "class myModel:\n",
        "    @staticmethod\n",
        "    def build(width, height, depth, classes, activFct=\"softmax\"): \n",
        "        #finalAct='softmax' for single-label classification || finalAct='sigmoid' for multi-label classification \n",
        "        # initialize the model along with the input shape to be\n",
        "        # \"channels last\" and the channels dimension itself\n",
        "        model = Sequential()\n",
        "        inputShape = (height, width, depth)\n",
        "        chanDim = -1\n",
        " \n",
        "        # if we are using \"channels first\", update the input shape\n",
        "        # and channels dimension\n",
        "        if K.image_data_format() == \"channels_first\":\n",
        "            inputShape = (depth, height, width)\n",
        "            chanDim = 1\n",
        "        # CONV => RELU => POOL\n",
        "        model.add(Conv2D(32, (2, 2), input_shape = inputShape)) \n",
        "        model.add(Activation('relu')) \n",
        "        model.add(MaxPooling2D(pool_size =(2, 2))) \n",
        "        \n",
        "        model.add(Conv2D(32, (2, 2))) \n",
        "        model.add(Activation('relu')) \n",
        "        model.add(MaxPooling2D(pool_size =(2, 2))) \n",
        "        \n",
        "        model.add(Conv2D(64, (2, 2))) \n",
        "        model.add(Activation('relu')) \n",
        "        model.add(MaxPooling2D(pool_size =(2, 2))) \n",
        "        \n",
        "        model.add(Flatten()) \n",
        "        model.add(Dense(64)) \n",
        "        model.add(Activation('relu')) \n",
        "        model.add(Dropout(0.5)) \n",
        "        model.add(Dense(classes)) \n",
        "        model.add(Activation(activFct))\n",
        "\n",
        " \n",
        "        # return the constructed network architecture\n",
        "        return model"
      ],
      "metadata": {
        "id": "lcxl2Odj4sXs"
      },
      "execution_count": 68,
      "outputs": []
    },
    {
      "cell_type": "code",
      "source": [
        "# Building the model \n",
        "model = myModel.build(\n",
        "    width=img_dim[1], height=img_dim[0],\n",
        "    depth=img_dim[2], classes=82,activFct=\"softmax\") #for multi-class classification\n",
        "model.summary()\n",
        "print('Number of layers of our model : ',len(model.layers))"
      ],
      "metadata": {
        "id": "zJT3jPEAGybx",
        "colab": {
          "base_uri": "https://localhost:8080/"
        },
        "outputId": "ec9dcfa6-bcd2-43a4-b459-d0c971f72272"
      },
      "execution_count": 69,
      "outputs": [
        {
          "output_type": "stream",
          "name": "stdout",
          "text": [
            "Model: \"sequential\"\n",
            "_________________________________________________________________\n",
            " Layer (type)                Output Shape              Param #   \n",
            "=================================================================\n",
            " conv2d (Conv2D)             (None, 44, 44, 32)        416       \n",
            "                                                                 \n",
            " activation (Activation)     (None, 44, 44, 32)        0         \n",
            "                                                                 \n",
            " max_pooling2d (MaxPooling2D  (None, 22, 22, 32)       0         \n",
            " )                                                               \n",
            "                                                                 \n",
            " conv2d_1 (Conv2D)           (None, 21, 21, 32)        4128      \n",
            "                                                                 \n",
            " activation_1 (Activation)   (None, 21, 21, 32)        0         \n",
            "                                                                 \n",
            " max_pooling2d_1 (MaxPooling  (None, 10, 10, 32)       0         \n",
            " 2D)                                                             \n",
            "                                                                 \n",
            " conv2d_2 (Conv2D)           (None, 9, 9, 64)          8256      \n",
            "                                                                 \n",
            " activation_2 (Activation)   (None, 9, 9, 64)          0         \n",
            "                                                                 \n",
            " max_pooling2d_2 (MaxPooling  (None, 4, 4, 64)         0         \n",
            " 2D)                                                             \n",
            "                                                                 \n",
            " flatten (Flatten)           (None, 1024)              0         \n",
            "                                                                 \n",
            " dense (Dense)               (None, 64)                65600     \n",
            "                                                                 \n",
            " activation_3 (Activation)   (None, 64)                0         \n",
            "                                                                 \n",
            " dropout (Dropout)           (None, 64)                0         \n",
            "                                                                 \n",
            " dense_1 (Dense)             (None, 82)                5330      \n",
            "                                                                 \n",
            " activation_4 (Activation)   (None, 82)                0         \n",
            "                                                                 \n",
            "=================================================================\n",
            "Total params: 83,730\n",
            "Trainable params: 83,730\n",
            "Non-trainable params: 0\n",
            "_________________________________________________________________\n",
            "Number of layers of our model :  15\n"
          ]
        }
      ]
    },
    {
      "cell_type": "markdown",
      "source": [
        "Adding another model"
      ],
      "metadata": {
        "id": "DcsVDNTFwrSS"
      }
    },
    {
      "cell_type": "code",
      "source": [
        "opt = Adam(learning_rate=LR, decay=LR / EPOCHS)"
      ],
      "metadata": {
        "id": "bsvgO1v76BUw"
      },
      "execution_count": 71,
      "outputs": []
    },
    {
      "cell_type": "code",
      "source": [
        "# Compiling the model \n",
        "#import tensorflow.python.keras.optimizer_v2.adam.Adam\n",
        "#opt = RMSprop(lr=LR, rho=0.9, epsilon=None, decay=0.0)\n",
        "model.compile(loss='categorical_crossentropy',\n",
        "              optimizer=opt,\n",
        "              metrics=['accuracy']) "
      ],
      "metadata": {
        "id": "HD6kCJPV6BXm"
      },
      "execution_count": 72,
      "outputs": []
    },
    {
      "cell_type": "code",
      "source": [
        "# data augmentation for training\n",
        "train_datagen = ImageDataGenerator(\n",
        "    rescale=1. / 255,\n",
        "    shear_range=0.0,\n",
        "    zoom_range=0.0,\n",
        "    featurewise_center=False,# set input mean to 0 over the dataset\n",
        "    samplewise_center=False,  # set each sample mean to 0\n",
        "    featurewise_std_normalization=False,  # divide inputs by std of dataset\n",
        "    samplewise_std_normalization=False,  # divide each input by its std\n",
        "    zca_whitening=False,  # apply ZCA whitening\n",
        "    rotation_range=0.0,  # randomly rotate images in the range (deg 0 to 180)\n",
        "    width_shift_range=0.0,  # randomly shift images horizontally\n",
        "    height_shift_range=0.0,  # randomly shift images vertically\n",
        "    horizontal_flip=False,  # randomly flip images\n",
        "    vertical_flip=False\n",
        "    )\n",
        "\n",
        "# data augmentation for testing\n",
        "test_datagen = ImageDataGenerator(rescale=1. / 255)"
      ],
      "metadata": {
        "id": "eY_5OHNQ6Fea"
      },
      "execution_count": 73,
      "outputs": []
    },
    {
      "cell_type": "code",
      "source": [
        "train_generator = train_datagen.flow_from_directory(\n",
        "    train_data_dir,\n",
        "    target_size=(img_dim[0], img_dim[1]),\n",
        "    batch_size=BS,\n",
        "    class_mode='categorical')\n",
        "\n",
        "validation_generator = test_datagen.flow_from_directory(\n",
        "    test_data_dir,\n",
        "    target_size=(img_dim[0], img_dim[1]),\n",
        "    batch_size=BS,\n",
        "    class_mode='categorical')"
      ],
      "metadata": {
        "colab": {
          "base_uri": "https://localhost:8080/"
        },
        "id": "J-2gAFxI6Fhf",
        "outputId": "571d77a8-dbee-4370-9e8a-fa9e286d5aee"
      },
      "execution_count": 74,
      "outputs": [
        {
          "output_type": "stream",
          "name": "stdout",
          "text": [
            "Found 263143 images belonging to 82 classes.\n",
            "Found 112831 images belonging to 82 classes.\n"
          ]
        }
      ]
    },
    {
      "cell_type": "code",
      "source": [
        "# Training\n",
        "history = model.fit(\n",
        "    train_generator,\n",
        "    steps_per_epoch=train_samples_nbr // BS,\n",
        "    epochs=EPOCHS,\n",
        "    validation_data=validation_generator,\n",
        "    validation_steps=test_samples_nbr // BS,\n",
        "    callbacks=[earlyStopping])"
      ],
      "metadata": {
        "colab": {
          "base_uri": "https://localhost:8080/"
        },
        "id": "flBGOehz6JFW",
        "outputId": "4276e9a2-7f9c-48fb-fdbf-82a3921c458b"
      },
      "execution_count": 75,
      "outputs": [
        {
          "output_type": "stream",
          "name": "stdout",
          "text": [
            "Epoch 1/10\n",
            "2631/2631 [==============================] - ETA: 0s - loss: 1.4819 - accuracy: 0.6177WARNING:tensorflow:Early stopping conditioned on metric `val_acc` which is not available. Available metrics are: loss,accuracy,val_loss,val_accuracy\n",
            "2631/2631 [==============================] - 315s 119ms/step - loss: 1.4819 - accuracy: 0.6177 - val_loss: 0.5911 - val_accuracy: 0.8351\n",
            "Epoch 2/10\n",
            "2630/2631 [============================>.] - ETA: 0s - loss: 0.9577 - accuracy: 0.7339WARNING:tensorflow:Early stopping conditioned on metric `val_acc` which is not available. Available metrics are: loss,accuracy,val_loss,val_accuracy\n",
            "2631/2631 [==============================] - 192s 73ms/step - loss: 0.9577 - accuracy: 0.7339 - val_loss: 0.4732 - val_accuracy: 0.8655\n",
            "Epoch 3/10\n",
            "2630/2631 [============================>.] - ETA: 0s - loss: 0.8479 - accuracy: 0.7593WARNING:tensorflow:Early stopping conditioned on metric `val_acc` which is not available. Available metrics are: loss,accuracy,val_loss,val_accuracy\n",
            "2631/2631 [==============================] - 148s 56ms/step - loss: 0.8479 - accuracy: 0.7593 - val_loss: 0.4229 - val_accuracy: 0.8792\n",
            "Epoch 4/10\n",
            "2631/2631 [==============================] - ETA: 0s - loss: 0.7784 - accuracy: 0.7762WARNING:tensorflow:Early stopping conditioned on metric `val_acc` which is not available. Available metrics are: loss,accuracy,val_loss,val_accuracy\n",
            "2631/2631 [==============================] - 148s 56ms/step - loss: 0.7784 - accuracy: 0.7762 - val_loss: 0.4008 - val_accuracy: 0.8833\n",
            "Epoch 5/10\n",
            "2630/2631 [============================>.] - ETA: 0s - loss: 0.7272 - accuracy: 0.7899WARNING:tensorflow:Early stopping conditioned on metric `val_acc` which is not available. Available metrics are: loss,accuracy,val_loss,val_accuracy\n",
            "2631/2631 [==============================] - 149s 56ms/step - loss: 0.7271 - accuracy: 0.7899 - val_loss: 0.3714 - val_accuracy: 0.8913\n",
            "Epoch 6/10\n",
            "2631/2631 [==============================] - ETA: 0s - loss: 0.6900 - accuracy: 0.7998WARNING:tensorflow:Early stopping conditioned on metric `val_acc` which is not available. Available metrics are: loss,accuracy,val_loss,val_accuracy\n",
            "2631/2631 [==============================] - 147s 56ms/step - loss: 0.6900 - accuracy: 0.7998 - val_loss: 0.3456 - val_accuracy: 0.8995\n",
            "Epoch 7/10\n",
            "2630/2631 [============================>.] - ETA: 0s - loss: 0.6641 - accuracy: 0.8066WARNING:tensorflow:Early stopping conditioned on metric `val_acc` which is not available. Available metrics are: loss,accuracy,val_loss,val_accuracy\n",
            "2631/2631 [==============================] - 150s 57ms/step - loss: 0.6641 - accuracy: 0.8066 - val_loss: 0.3327 - val_accuracy: 0.9022\n",
            "Epoch 8/10\n",
            "2631/2631 [==============================] - ETA: 0s - loss: 0.6447 - accuracy: 0.8110WARNING:tensorflow:Early stopping conditioned on metric `val_acc` which is not available. Available metrics are: loss,accuracy,val_loss,val_accuracy\n",
            "2631/2631 [==============================] - 151s 58ms/step - loss: 0.6447 - accuracy: 0.8110 - val_loss: 0.3211 - val_accuracy: 0.9056\n",
            "Epoch 9/10\n",
            "2631/2631 [==============================] - ETA: 0s - loss: 0.6261 - accuracy: 0.8162WARNING:tensorflow:Early stopping conditioned on metric `val_acc` which is not available. Available metrics are: loss,accuracy,val_loss,val_accuracy\n",
            "2631/2631 [==============================] - 148s 56ms/step - loss: 0.6261 - accuracy: 0.8162 - val_loss: 0.3153 - val_accuracy: 0.9072\n",
            "Epoch 10/10\n",
            "2630/2631 [============================>.] - ETA: 0s - loss: 0.6131 - accuracy: 0.8185WARNING:tensorflow:Early stopping conditioned on metric `val_acc` which is not available. Available metrics are: loss,accuracy,val_loss,val_accuracy\n",
            "2631/2631 [==============================] - 144s 55ms/step - loss: 0.6131 - accuracy: 0.8185 - val_loss: 0.3103 - val_accuracy: 0.9087\n"
          ]
        }
      ]
    },
    {
      "cell_type": "markdown",
      "source": [
        "# Saving a model"
      ],
      "metadata": {
        "id": "45zMrccAJ9kp"
      }
    },
    {
      "cell_type": "code",
      "source": [
        "# plot_model(model, to_file='model_plot.png', show_shapes=True, show_layer_names=True);\n",
        "# save the model to disk\n",
        "print(\"[INFO] serializing network...\")\n",
        "#model.save(args[\"model\"])\n",
        "model.save(\"model.model\")\n",
        "model.save_weights(\"weights.h5\")\n",
        "#save the multi-label binarizer to disk\n",
        "print(\"[INFO] serializing label binarizer...\")\n",
        "# f = open(args[\"labelbin\"], \"wb\")\n",
        "f = open(\"labels.pickle\", \"wb\")\n",
        "f.write(pickle.dumps(mlb))\n",
        "f.close()\n"
      ],
      "metadata": {
        "id": "1gUjdmIH6JIU",
        "colab": {
          "base_uri": "https://localhost:8080/"
        },
        "outputId": "d04b65b4-e848-4059-8f74-f81f3cf83945"
      },
      "execution_count": 76,
      "outputs": [
        {
          "output_type": "stream",
          "name": "stdout",
          "text": [
            "[INFO] serializing network...\n",
            "INFO:tensorflow:Assets written to: model.model/assets\n",
            "[INFO] serializing label binarizer...\n"
          ]
        }
      ]
    },
    {
      "cell_type": "code",
      "source": [
        "#probabilities = model.predict_generator(validation_generator,2000)\n",
        "\n",
        "# Evaluating the model / Get Validation accuracy on sample from validation set\n",
        "scores = model.evaluate(validation_generator,verbose=1) \n",
        "print(\"Accuracy = \", scores[1])\n"
      ],
      "metadata": {
        "id": "Ahzq_VFMJ71a",
        "colab": {
          "base_uri": "https://localhost:8080/"
        },
        "outputId": "e93cc90e-0cc0-4f59-93db-104f7c3984d5"
      },
      "execution_count": 77,
      "outputs": [
        {
          "output_type": "stream",
          "name": "stdout",
          "text": [
            "1129/1129 [==============================] - 42s 38ms/step - loss: 0.3103 - accuracy: 0.9087\n",
            "Accuracy =  0.9087218642234802\n"
          ]
        }
      ]
    },
    {
      "cell_type": "code",
      "source": [
        "import matplotlib.pyplot as plt"
      ],
      "metadata": {
        "id": "y5InH5Z1J74Z"
      },
      "execution_count": 79,
      "outputs": []
    },
    {
      "cell_type": "code",
      "source": [
        "\n",
        "\n",
        "# Plot training & validation accuracy values\n",
        "plt.plot(history.history['accuracy'])\n",
        "plt.plot(history.history['val_accuracy'])\n",
        "plt.title('Model accuracy')\n",
        "plt.ylabel('Accuracy')\n",
        "plt.xlabel('Epoch')\n",
        "plt.legend(['Train', 'Test'], loc='upper left')\n",
        "plt.savefig('model_accuary_plot.png')\n",
        "plt.show()"
      ],
      "metadata": {
        "id": "vFmyN25sKFjK",
        "colab": {
          "base_uri": "https://localhost:8080/",
          "height": 295
        },
        "outputId": "67560e62-8599-4f8b-acc4-e95be00854c1"
      },
      "execution_count": 80,
      "outputs": [
        {
          "output_type": "display_data",
          "data": {
            "image/png": "[encoded data removed]",
            "text/plain": [
              "<Figure size 432x288 with 1 Axes>"
            ]
          },
          "metadata": {
            "needs_background": "light"
          }
        }
      ]
    },
    {
      "cell_type": "code",
      "source": [
        "# Plot training & validation loss values\n",
        "plt.plot(history.history['loss'])\n",
        "plt.plot(history.history['val_loss'])\n",
        "plt.title('Model loss')\n",
        "plt.ylabel('Loss')\n",
        "plt.xlabel('Epoch')\n",
        "plt.legend(['Train', 'Test'], loc='upper left')\n",
        "plt.savefig('model_loss_plot.png')\n",
        "plt.show()"
      ],
      "metadata": {
        "id": "DH6FL4fIKFlr",
        "colab": {
          "base_uri": "https://localhost:8080/",
          "height": 295
        },
        "outputId": "4ba68d22-1a54-479c-e9fe-624e13cb0fe8"
      },
      "execution_count": 81,
      "outputs": [
        {
          "output_type": "display_data",
          "data": {
            "image/png": "[encoded data removed]",
            "text/plain": [
              "<Figure size 432x288 with 1 Axes>"
            ]
          },
          "metadata": {
            "needs_background": "light"
          }
        }
      ]
    },
    {
      "cell_type": "code",
      "source": [
        "# Train - Val plot\n",
        "fig1, ax_acc = plt.subplots()\n",
        "plt.plot(history.history['accuracy'])\n",
        "plt.plot(history.history['val_accuracy'])\n",
        "plt.xlabel('Epoch')\n",
        "plt.ylabel('Accuracy')\n",
        "plt.title('Model - Accuracy')\n",
        "plt.legend(['Training', 'Validation'], loc='lower right')\n",
        "plt.savefig(\"train_val_plot.png\")"
      ],
      "metadata": {
        "id": "eTxSSlePKJIs",
        "colab": {
          "base_uri": "https://localhost:8080/",
          "height": 295
        },
        "outputId": "d17b4957-6d17-4573-f4ea-2c910160d786"
      },
      "execution_count": 82,
      "outputs": [
        {
          "output_type": "display_data",
          "data": {
            "image/png": "[encoded data removed]",
            "text/plain": [
              "<Figure size 432x288 with 1 Axes>"
            ]
          },
          "metadata": {
            "needs_background": "light"
          }
        }
      ]
    },
    {
      "cell_type": "markdown",
      "source": [
        "# Evaluation step"
      ],
      "metadata": {
        "id": "GJIq7p9DMTfT"
      }
    },
    {
      "cell_type": "code",
      "source": [
        "from keras.preprocessing.image import img_to_array\n",
        "from keras.models import load_model\n",
        "import numpy as np\n",
        "import argparse\n",
        "import imutils\n",
        "import pickle\n",
        "import cv2\n",
        "import os"
      ],
      "metadata": {
        "id": "80Wbjjo0MWxp"
      },
      "execution_count": 83,
      "outputs": []
    },
    {
      "cell_type": "code",
      "source": [
        "# load the image\n",
        "image = cv2.imread(\"/content/sample_data/tan1.png\")\n",
        "print(image.shape)\n",
        "output = imutils.resize(image, width=400)\n",
        "plt.imshow(image) \n",
        "# pre-process the image for classification\n",
        "image = cv2.resize(image, (45, 45))\n",
        "image = image.astype(\"float\") / 255.0\n",
        "image = img_to_array(image)\n",
        "image = np.expand_dims(image, axis=0)\n",
        "print(\"after image size:\",image.shape)"
      ],
      "metadata": {
        "id": "_iHKB8WhMXP5",
        "colab": {
          "base_uri": "https://localhost:8080/",
          "height": 302
        },
        "outputId": "429f1653-6b15-4ed9-91a3-593503570fe3"
      },
      "execution_count": 162,
      "outputs": [
        {
          "output_type": "stream",
          "name": "stdout",
          "text": [
            "(57, 65, 3)\n",
            "after image size: (1, 45, 45, 3)\n"
          ]
        },
        {
          "output_type": "display_data",
          "data": {
            "image/png": "[encoded data removed]",
            "text/plain": [
              "<Figure size 432x288 with 1 Axes>"
            ]
          },
          "metadata": {
            "needs_background": "light"
          }
        }
      ]
    },
    {
      "cell_type": "code",
      "source": [
        "# load the trained convolutional neural network and the multi-label\n",
        "# binarizer\n",
        "print(\"[INFO] loading network...\")\n",
        "model = load_model(\"/content/model.model\")\n",
        "#input=open(\"labels.pickle\", \"rb\").read()\n",
        "#mlb = pickle.loads(input)\n",
        "\n",
        "model_labels = pickle.loads(open(\"/content/labels.pickle\", \"rb\").read())\n",
        "\n",
        "# loop over the indexes of the high confidence class labels"
      ],
      "metadata": {
        "id": "J4s-ud4fMXSt",
        "colab": {
          "base_uri": "https://localhost:8080/"
        },
        "outputId": "bb8d4557-1680-4a31-cdc6-309ec0400642"
      },
      "execution_count": 163,
      "outputs": [
        {
          "output_type": "stream",
          "name": "stdout",
          "text": [
            "[INFO] loading network...\n"
          ]
        }
      ]
    },
    {
      "cell_type": "code",
      "source": [
        "# classify the input image then find the indexes of the two class\n",
        "# labels with the *largest* probability\n",
        "print(\"[INFO] classifying image...\")\n",
        "proba = model.predict(image)[0]\n",
        "idxs = np.argsort(proba)[::-1][:2]"
      ],
      "metadata": {
        "id": "XH2jcBRab5mV",
        "outputId": "6afa192e-e808-4d32-f762-b2ba9206a4a4",
        "colab": {
          "base_uri": "https://localhost:8080/"
        }
      },
      "execution_count": 164,
      "outputs": [
        {
          "output_type": "stream",
          "name": "stdout",
          "text": [
            "[INFO] classifying image...\n"
          ]
        }
      ]
    },
    {
      "cell_type": "code",
      "source": [
        "mlb.classes_"
      ],
      "metadata": {
        "id": "hzjlyCoveTR5"
      },
      "execution_count": null,
      "outputs": []
    },
    {
      "cell_type": "code",
      "source": [
        "for (i, j) in enumerate(idxs):\n",
        "    # build the label and draw the label on the image\n",
        "    label = \"{}: {:.2f}%\".format(mlb.classes_[j], proba[j] * 100)\n",
        "    cv2.putText(output, label, (10, (i * 30) + 25), \n",
        "        cv2.FONT_HERSHEY_SIMPLEX, 0.7, (0, 255, 0), 2)"
      ],
      "metadata": {
        "id": "W4JCYwBmMzne"
      },
      "execution_count": 160,
      "outputs": []
    },
    {
      "cell_type": "code",
      "source": [
        "symbol_prob={}\n",
        "# show the probabilities for each of the individual labels\n",
        "for (label, p) in zip(mlb.classes_, proba):\n",
        "    #print(\"{}: {:.2f}%\".format(label, p * 100))\n",
        "    symbol_prob[label] = \"{:.2f}%\".format(p * 100)\n",
        "# show the output image\n",
        "#cv2.imshow(\"Output\", output)\n",
        "cv2.waitKey(0)\n",
        "\n",
        "highest_probability_match = sorted(symbol_prob.items(), key=lambda x: x[1], reverse=True)\n",
        "#print(highest_probability_match)\n",
        "#print(symbol_prob[mlb.classes_[proba.argmax(axis=-1)]])\n",
        "print (\"This Symbol is :\",' '.join(mlb.classes_[proba.argmax(axis=-1)]),\"with probability match \", symbol_prob[mlb.classes_[proba.argmax(axis=-1)]])\n",
        "#model.predict_classes(image)\n",
        "#result = \"This Symbol is : \".join(mlb.classes_[proba.argmax(axis=-1)])\n",
        "#print (\"The top 5 highest probailities are\\n \", highest_probability_match[:5])\n",
        "image = cv2.imread(\"/content/sample_data/tan1.png\")\n",
        "plt.imshow(image) "
      ],
      "metadata": {
        "id": "brkmZ_bkMzqj",
        "colab": {
          "base_uri": "https://localhost:8080/",
          "height": 302
        },
        "outputId": "523611c6-fb68-4fb6-a9c0-8d4428112b7d"
      },
      "execution_count": 166,
      "outputs": [
        {
          "output_type": "stream",
          "name": "stdout",
          "text": [
            "This Symbol is : t a n with probability match  97.76%\n"
          ]
        },
        {
          "output_type": "execute_result",
          "data": {
            "text/plain": [
              "<matplotlib.image.AxesImage at 0x7f56123ae110>"
            ]
          },
          "metadata": {},
          "execution_count": 166
        },
        {
          "output_type": "display_data",
          "data": {
            "image/png": "[encoded data removed]",
            "text/plain": [
              "<Figure size 432x288 with 1 Axes>"
            ]
          },
          "metadata": {
            "needs_background": "light"
          }
        }
      ]
    },
    {
      "cell_type": "code",
      "source": [
        "\n"
      ],
      "metadata": {
        "id": "n1WCArLWR8tA"
      },
      "execution_count": null,
      "outputs": []
    }
  ]
}