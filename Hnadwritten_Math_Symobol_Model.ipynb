{
  "nbformat": 4,
  "nbformat_minor": 0,
  "metadata": {
    "colab": {
      "name": "Hnadwritten_Math_Symobol_Model.ipynb",
      "provenance": [],
      "authorship_tag": "ABX9TyPTRce0n/a2De45hyDJLJRg",
      "include_colab_link": true
    },
    "kernelspec": {
      "name": "python3",
      "display_name": "Python 3"
    },
    "language_info": {
      "name": "python"
    },
    "accelerator": "GPU"
  },
  "cells": [
    {
      "cell_type": "markdown",
      "metadata": {
        "id": "view-in-github",
        "colab_type": "text"
      },
      "source": [
        "<a href=\"https://colab.research.google.com/github/Hinakoushar-Tatakoti/Hand-written-Math-sysmbol-recognization/blob/master/Hnadwritten_Math_Symobol_Model.ipynb\" target=\"_parent\"><img src=\"https://colab.research.google.com/assets/colab-badge.svg\" alt=\"Open In Colab\"/></a>"
      ]
    },
    {
      "cell_type": "code",
      "execution_count": null,
      "metadata": {
        "id": "AMELhZigsE5R"
      },
      "outputs": [],
      "source": [
        "!pip install -q kaggle"
      ]
    },
    {
      "cell_type": "code",
      "source": [
        "from google.colab import files\n",
        "files.upload()"
      ],
      "metadata": {
        "id": "RD9BfJ62sf-e"
      },
      "execution_count": null,
      "outputs": []
    },
    {
      "cell_type": "code",
      "source": [
        "! mkdir ~/.kaggle"
      ],
      "metadata": {
        "id": "pIKGL8X_swPP",
        "colab": {
          "base_uri": "https://localhost:8080/"
        },
        "outputId": "acafd9fc-6022-4855-a04f-610e8c503afa"
      },
      "execution_count": null,
      "outputs": [
        {
          "output_type": "stream",
          "name": "stdout",
          "text": [
            "mkdir: cannot create directory ‘/root/.kaggle’: File exists\n"
          ]
        }
      ]
    },
    {
      "cell_type": "code",
      "source": [
        "!cp kaggle.json ~/.kaggle/"
      ],
      "metadata": {
        "id": "TBxDlmkosgBm"
      },
      "execution_count": null,
      "outputs": []
    },
    {
      "cell_type": "code",
      "source": [
        "! chmod 600 ~/.kaggle/kaggle.json"
      ],
      "metadata": {
        "id": "UwUW_W9ltOTn"
      },
      "execution_count": null,
      "outputs": []
    },
    {
      "cell_type": "code",
      "source": [
        "!kaggle datasets list"
      ],
      "metadata": {
        "id": "3hcF5gyKtbHR",
        "collapsed": true
      },
      "execution_count": null,
      "outputs": []
    },
    {
      "cell_type": "code",
      "source": [
        "!kaggle datasets download -d xainano/handwrittenmathsymbols"
      ],
      "metadata": {
        "colab": {
          "base_uri": "https://localhost:8080/"
        },
        "id": "tJwQlYzutbKM",
        "outputId": "0a922982-d6a2-47c7-c20b-8b3ec6f30c18"
      },
      "execution_count": null,
      "outputs": [
        {
          "output_type": "stream",
          "name": "stdout",
          "text": [
            "handwrittenmathsymbols.zip: Skipping, found more recently modified local copy (use --force to force download)\n"
          ]
        }
      ]
    },
    {
      "cell_type": "code",
      "source": [
        "##!unzip  handwrittenmathsymbols.zip"
      ],
      "metadata": {
        "id": "UJyf3L1XtOWY",
        "collapsed": true
      },
      "execution_count": null,
      "outputs": []
    },
    {
      "cell_type": "code",
      "source": [
        "!unrar x data.rar \"/content/data/\""
      ],
      "metadata": {
        "id": "N63qJJGrvnSm",
        "collapsed": true
      },
      "execution_count": null,
      "outputs": []
    },
    {
      "cell_type": "markdown",
      "source": [
        "# Start Building the project code"
      ],
      "metadata": {
        "id": "gi2Pnmr4zN0z"
      }
    },
    {
      "cell_type": "code",
      "source": [
        "!pwd\n",
        "!pip install split-folders\n",
        "!pip install split-folders tqdm"
      ],
      "metadata": {
        "colab": {
          "base_uri": "https://localhost:8080/"
        },
        "id": "ZJ38ntIoxIg_",
        "outputId": "a4ddd808-3184-431d-874f-4e1b136ff429"
      },
      "execution_count": null,
      "outputs": [
        {
          "output_type": "stream",
          "name": "stdout",
          "text": [
            "/content\n",
            "Collecting split-folders\n",
            "  Downloading split_folders-0.5.0-py3-none-any.whl (8.4 kB)\n",
            "Installing collected packages: split-folders\n",
            "Successfully installed split-folders-0.5.0\n",
            "Requirement already satisfied: split-folders in /usr/local/lib/python3.7/dist-packages (0.5.0)\n",
            "Requirement already satisfied: tqdm in /usr/local/lib/python3.7/dist-packages (4.62.3)\n"
          ]
        }
      ]
    },
    {
      "cell_type": "code",
      "source": [
        "import numpy as np # linear algebra\n",
        "import pandas as pd # data processing, CSV file I/O (e.g. pd.read_csv)\n",
        "from keras import backend as K\n",
        "from sklearn.preprocessing import MultiLabelBinarizer\n",
        "from keras.preprocessing.image import ImageDataGenerator\n",
        "from keras.models import Sequential\n",
        "from keras.layers import Conv2D, MaxPooling2D\n",
        "from keras.layers import Activation, Dropout, Flatten, Dense\n",
        "from tensorflow.keras.optimizers import Adam\n",
        "from tensorflow.keras.optimizers import RMSprop\n",
        "from keras.utils.vis_utils import plot_model\n",
        "from keras.preprocessing.image import img_to_array\n",
        "from tensorflow.keras.callbacks import EarlyStopping\n",
        "\n",
        "##from ipynb.fs.full.model import *\n",
        "import os\n",
        "import pickle\n",
        "\n",
        "import os\n",
        "import numpy as np\n",
        "from tqdm import tqdm\n",
        "from fastai import *\n",
        "import torch\n",
        "\n",
        "%matplotlib inline\n",
        "\n",
        "import cv2\n",
        "import pandas as pd\n",
        "import splitfolders\n",
        "import random"
      ],
      "metadata": {
        "id": "5Y_HwLAhzDwN"
      },
      "execution_count": 3,
      "outputs": []
    },
    {
      "cell_type": "code",
      "source": [
        "data = os.listdir(\"/content/data/extracted_images/\")\n",
        "len(data)"
      ],
      "metadata": {
        "colab": {
          "base_uri": "https://localhost:8080/"
        },
        "id": "Sa8ShtuvzgMP",
        "outputId": "d503abc6-b3cc-48e0-9874-2713884329d8"
      },
      "execution_count": 4,
      "outputs": [
        {
          "output_type": "execute_result",
          "data": {
            "text/plain": [
              "82"
            ]
          },
          "metadata": {},
          "execution_count": 4
        }
      ]
    },
    {
      "cell_type": "code",
      "source": [
        "def seed_everything(seed):\n",
        "    random.seed(seed)\n",
        "    os.environ['PYTHONHASHSEED'] = str(seed)\n",
        "    np.random.seed(seed)\n",
        "    torch.manual_seed(seed)\n",
        "    torch.cuda.manual_seed(seed)\n",
        "    torch.backends.cudnn.deterministic = True    \n",
        "\n",
        "SEED = 999\n",
        "seed_everything(SEED)"
      ],
      "metadata": {
        "id": "glCFPmlszgPd"
      },
      "execution_count": 5,
      "outputs": []
    },
    {
      "cell_type": "code",
      "source": [
        "# Infos about our Dataset\n",
        "nbr_of_pictures = []\n",
        "\n",
        "labels = os.listdir(\"/content/data/extracted_images\")\n",
        "for _, _, files in os.walk(r'/content/data/extracted_images'):\n",
        "    nbr_of_pictures.append(len(files))\n",
        "\n",
        "nbr_of_pictures=nbr_of_pictures[1:]\n",
        "#print nbr of pictures in every class\n",
        "print(\"Number of samples in every class ...\")\n",
        "for i in range(82):  # 82 : Nbr of classes\n",
        "    print(labels[i],\" : \",nbr_of_pictures[i])"
      ],
      "metadata": {
        "colab": {
          "base_uri": "https://localhost:8080/"
        },
        "id": "119NRPCszDzT",
        "outputId": "81aa4233-4cef-442d-f357-fab069ed832e"
      },
      "execution_count": 6,
      "outputs": [
        {
          "output_type": "stream",
          "name": "stdout",
          "text": [
            "Number of samples in every class ...\n",
            "f  :  3712\n",
            ")  :  14355\n",
            "T  :  3274\n",
            "2  :  26141\n",
            "mu  :  177\n",
            "X  :  26594\n",
            "prime  :  329\n",
            "p  :  2680\n",
            "q  :  1230\n",
            "N  :  10862\n",
            "pi  :  2332\n",
            "gt  :  258\n",
            "1  :  26520\n",
            "+  :  25112\n",
            "}  :  377\n",
            "forward_slash  :  199\n",
            "z  :  5870\n",
            "u  :  1269\n",
            "i  :  5140\n",
            "3  :  10909\n",
            "-  :  33997\n",
            "exists  :  21\n",
            "rightarrow  :  1703\n",
            "R  :  2671\n",
            "ldots  :  609\n",
            "]  :  780\n",
            "geq  :  693\n",
            "tan  :  2450\n",
            "Delta  :  137\n",
            "gamma  :  409\n",
            "7  :  2909\n",
            "[  :  778\n",
            "sum  :  2689\n",
            "leq  :  973\n",
            "C  :  5802\n",
            "d  :  4852\n",
            "sqrt  :  8908\n",
            "H  :  1464\n",
            "lambda  :  109\n",
            "sigma  :  201\n",
            "v  :  1558\n",
            "int  :  2742\n",
            "G  :  1692\n",
            "w  :  556\n",
            "o  :  449\n",
            "times  :  3251\n",
            "alpha  :  2546\n",
            "phi  :  355\n",
            "l  :  1017\n",
            "0  :  6914\n",
            "div  :  868\n",
            "A  :  12367\n",
            "S  :  1413\n",
            "cos  :  2986\n",
            ",  :  1906\n",
            "neq  :  558\n",
            "infty  :  1783\n",
            "(  :  14294\n",
            "pm  :  802\n",
            "theta  :  2796\n",
            "e  :  3003\n",
            "log  :  2001\n",
            "lt  :  477\n",
            "in  :  47\n",
            "k  :  3074\n",
            "lim  :  1675\n",
            "5  :  3545\n",
            "M  :  2476\n",
            "9  :  3737\n",
            "4  :  7396\n",
            "j  :  1536\n",
            "6  :  3118\n",
            "beta  :  2025\n",
            "sin  :  4293\n",
            "ascii_124  :  1339\n",
            "8  :  3068\n",
            "=  :  13104\n",
            "y  :  9340\n",
            "forall  :  45\n",
            "{  :  376\n",
            "!  :  1300\n",
            "b  :  8651\n"
          ]
        }
      ]
    },
    {
      "cell_type": "code",
      "source": [
        "## split the data into train and val\n",
        "## one time done\n",
        "splitfolders.ratio('/content/data/extracted_images', output=\"/content/data/split\", seed=SEED, ratio=(.7, .3)) "
      ],
      "metadata": {
        "colab": {
          "base_uri": "https://localhost:8080/"
        },
        "id": "AbD9MFy70LRV",
        "outputId": "47ba08fe-e103-400b-bfa6-4372b7aa4cf9"
      },
      "execution_count": 7,
      "outputs": [
        {
          "output_type": "stream",
          "name": "stderr",
          "text": [
            "Copying files: 375974 files [03:30, 1787.23 files/s]\n"
          ]
        }
      ]
    },
    {
      "cell_type": "code",
      "source": [
        "#Initialize parametres\n",
        "\n",
        "EPOCHS = 25\n",
        "BS = 100 #Batch size\n",
        "LR = 1e-3 #Learning rate 0.001\n",
        "img_dim = (45,45,3)\n",
        "train_data_dir = '/content/data/split/train'\n",
        "test_data_dir = '/content/data/split/val'\n",
        "#labels = []\n",
        "#Nbr of training images\n",
        "train_samples_nbr  = sum(len(files) for _, _, files in os.walk(r'/content/data/split/train'))\n",
        "print(f\"Number of train images are {train_samples_nbr}\")\n",
        "#Nbr of testing images\n",
        "test_samples_nbr  = sum(len(files) for _, _, files in os.walk(r'/content/data/split/val'))\n",
        "print(f\"Number of test images are {test_samples_nbr}\")"
      ],
      "metadata": {
        "colab": {
          "base_uri": "https://localhost:8080/"
        },
        "id": "Js6UrC7r1wfW",
        "outputId": "13928eed-4b89-4493-94b0-3eb111fd0c3c"
      },
      "execution_count": 8,
      "outputs": [
        {
          "output_type": "stream",
          "name": "stdout",
          "text": [
            "Number of train images are 263143\n",
            "Number of test images are 112831\n"
          ]
        }
      ]
    },
    {
      "cell_type": "code",
      "source": [
        "if K.image_data_format() == 'channels_first':\n",
        "    input_shape = (img_dim[2], img_dim[0], img_dim[1])\n",
        "else:\n",
        "    input_shape = (img_dim[0], img_dim[1], img_dim[2])\n",
        "print(input_shape)"
      ],
      "metadata": {
        "colab": {
          "base_uri": "https://localhost:8080/"
        },
        "id": "nwk1laxO35Eq",
        "outputId": "6e2b1a3b-ce96-4e30-f0e4-71c1d01af9bc"
      },
      "execution_count": 9,
      "outputs": [
        {
          "output_type": "stream",
          "name": "stdout",
          "text": [
            "(45, 45, 3)\n"
          ]
        }
      ]
    },
    {
      "cell_type": "code",
      "source": [
        "print(len(labels),\" Classes : \",labels)\n",
        "labels = np.array(labels)\n",
        "print(labels)"
      ],
      "metadata": {
        "colab": {
          "base_uri": "https://localhost:8080/"
        },
        "id": "cSXmRWeW4XLO",
        "outputId": "4a515dfa-67a0-4a53-9d27-d5db0a2abd92"
      },
      "execution_count": 10,
      "outputs": [
        {
          "output_type": "stream",
          "name": "stdout",
          "text": [
            "82  Classes :  ['f', ')', 'T', '2', 'mu', 'X', 'prime', 'p', 'q', 'N', 'pi', 'gt', '1', '+', '}', 'forward_slash', 'z', 'u', 'i', '3', '-', 'exists', 'rightarrow', 'R', 'ldots', ']', 'geq', 'tan', 'Delta', 'gamma', '7', '[', 'sum', 'leq', 'C', 'd', 'sqrt', 'H', 'lambda', 'sigma', 'v', 'int', 'G', 'w', 'o', 'times', 'alpha', 'phi', 'l', '0', 'div', 'A', 'S', 'cos', ',', 'neq', 'infty', '(', 'pm', 'theta', 'e', 'log', 'lt', 'in', 'k', 'lim', '5', 'M', '9', '4', 'j', '6', 'beta', 'sin', 'ascii_124', '8', '=', 'y', 'forall', '{', '!', 'b']\n",
            "['f' ')' 'T' '2' 'mu' 'X' 'prime' 'p' 'q' 'N' 'pi' 'gt' '1' '+' '}'\n",
            " 'forward_slash' 'z' 'u' 'i' '3' '-' 'exists' 'rightarrow' 'R' 'ldots' ']'\n",
            " 'geq' 'tan' 'Delta' 'gamma' '7' '[' 'sum' 'leq' 'C' 'd' 'sqrt' 'H'\n",
            " 'lambda' 'sigma' 'v' 'int' 'G' 'w' 'o' 'times' 'alpha' 'phi' 'l' '0'\n",
            " 'div' 'A' 'S' 'cos' ',' 'neq' 'infty' '(' 'pm' 'theta' 'e' 'log' 'lt'\n",
            " 'in' 'k' 'lim' '5' 'M' '9' '4' 'j' '6' 'beta' 'sin' 'ascii_124' '8' '='\n",
            " 'y' 'forall' '{' '!' 'b']\n"
          ]
        }
      ]
    },
    {
      "cell_type": "code",
      "source": [
        "#earlyStopping = EarlyStopping(monitor=\"val_loss\", mode=\"min\", patience=2)\n",
        "earlyStopping = EarlyStopping(monitor='val_acc', min_delta=0, patience=20, verbose=1, mode='auto')"
      ],
      "metadata": {
        "id": "TMeHl1G_4XO6"
      },
      "execution_count": 11,
      "outputs": []
    },
    {
      "cell_type": "code",
      "source": [
        "print(\"[INFO] class labels:\")\n",
        "mlb = MultiLabelBinarizer()\n",
        "labels = mlb.fit_transform(labels)\n",
        "print(labels)"
      ],
      "metadata": {
        "colab": {
          "base_uri": "https://localhost:8080/"
        },
        "id": "aRto88_j4aTk",
        "outputId": "90d2809a-5fc6-4044-d2a2-0aeb7d7eba43"
      },
      "execution_count": 12,
      "outputs": [
        {
          "output_type": "stream",
          "name": "stdout",
          "text": [
            "[INFO] class labels:\n",
            "[[0 0 0 ... 0 0 0]\n",
            " [0 0 1 ... 0 0 0]\n",
            " [0 0 0 ... 0 0 0]\n",
            " ...\n",
            " [0 0 0 ... 0 1 0]\n",
            " [1 0 0 ... 0 0 0]\n",
            " [0 0 0 ... 0 0 0]]\n"
          ]
        }
      ]
    },
    {
      "cell_type": "code",
      "source": [
        ""
      ],
      "metadata": {
        "id": "G3R4dUmA4aW4"
      },
      "execution_count": 12,
      "outputs": []
    },
    {
      "cell_type": "markdown",
      "source": [
        "# Add a model"
      ],
      "metadata": {
        "id": "0XcDLUDk4iUh"
      }
    },
    {
      "cell_type": "code",
      "source": [
        "from tensorflow.keras.models import Sequential\n",
        "from tensorflow.keras.layers import BatchNormalization\n",
        "from tensorflow.keras.layers import Conv2D\n",
        "from tensorflow.keras.layers import MaxPooling2D\n",
        "from tensorflow.keras.layers import Activation\n",
        "from tensorflow.keras.layers import Flatten\n",
        "from tensorflow.keras.layers import Dropout\n",
        "from tensorflow.keras.layers import Dense\n",
        "from keras import backend as K"
      ],
      "metadata": {
        "id": "b6UHPALF4aaz"
      },
      "execution_count": 13,
      "outputs": []
    },
    {
      "cell_type": "code",
      "source": [
        "class myModel:\n",
        "    @staticmethod\n",
        "    def build(width, height, depth, classes, activFct=\"softmax\"): \n",
        "        #finalAct='softmax' for single-label classification || finalAct='sigmoid' for multi-label classification \n",
        "        # initialize the model along with the input shape to be\n",
        "        # \"channels last\" and the channels dimension itself\n",
        "        model = Sequential()\n",
        "        inputShape = (height, width, depth)\n",
        "        chanDim = -1\n",
        " \n",
        "        # if we are using \"channels first\", update the input shape\n",
        "        # and channels dimension\n",
        "        if K.image_data_format() == \"channels_first\":\n",
        "            inputShape = (depth, height, width)\n",
        "            chanDim = 1\n",
        "        # CONV => RELU => POOL\n",
        "        model.add(Conv2D(32, (2, 2), input_shape = inputShape)) \n",
        "        model.add(Activation('relu')) \n",
        "        model.add(MaxPooling2D(pool_size =(2, 2))) \n",
        "        \n",
        "        model.add(Conv2D(32, (2, 2))) \n",
        "        model.add(Activation('relu')) \n",
        "        model.add(MaxPooling2D(pool_size =(2, 2))) \n",
        "        \n",
        "        model.add(Conv2D(64, (2, 2))) \n",
        "        model.add(Activation('relu')) \n",
        "        model.add(MaxPooling2D(pool_size =(2, 2))) \n",
        "        \n",
        "        model.add(Flatten()) \n",
        "        model.add(Dense(64)) \n",
        "        model.add(Activation('relu')) \n",
        "        model.add(Dropout(0.5)) \n",
        "        model.add(Dense(classes)) \n",
        "        model.add(Activation(activFct))\n",
        "\n",
        " \n",
        "        # return the constructed network architecture\n",
        "        return model"
      ],
      "metadata": {
        "id": "lcxl2Odj4sXs"
      },
      "execution_count": 14,
      "outputs": []
    },
    {
      "cell_type": "code",
      "source": [
        "# Building the model \n",
        "model = myModel.build(\n",
        "    width=img_dim[1], height=img_dim[0],\n",
        "    depth=img_dim[2], classes=82,activFct=\"softmax\") #for multi-class classification\n",
        "model.summary()\n",
        "print('Number of layers of our model : ',len(model.layers))"
      ],
      "metadata": {
        "id": "zJT3jPEAGybx",
        "colab": {
          "base_uri": "https://localhost:8080/"
        },
        "outputId": "4576a653-e05d-461c-f886-8598620c1fec"
      },
      "execution_count": 15,
      "outputs": [
        {
          "output_type": "stream",
          "name": "stdout",
          "text": [
            "Model: \"sequential\"\n",
            "_________________________________________________________________\n",
            " Layer (type)                Output Shape              Param #   \n",
            "=================================================================\n",
            " conv2d (Conv2D)             (None, 44, 44, 32)        416       \n",
            "                                                                 \n",
            " activation (Activation)     (None, 44, 44, 32)        0         \n",
            "                                                                 \n",
            " max_pooling2d (MaxPooling2D  (None, 22, 22, 32)       0         \n",
            " )                                                               \n",
            "                                                                 \n",
            " conv2d_1 (Conv2D)           (None, 21, 21, 32)        4128      \n",
            "                                                                 \n",
            " activation_1 (Activation)   (None, 21, 21, 32)        0         \n",
            "                                                                 \n",
            " max_pooling2d_1 (MaxPooling  (None, 10, 10, 32)       0         \n",
            " 2D)                                                             \n",
            "                                                                 \n",
            " conv2d_2 (Conv2D)           (None, 9, 9, 64)          8256      \n",
            "                                                                 \n",
            " activation_2 (Activation)   (None, 9, 9, 64)          0         \n",
            "                                                                 \n",
            " max_pooling2d_2 (MaxPooling  (None, 4, 4, 64)         0         \n",
            " 2D)                                                             \n",
            "                                                                 \n",
            " flatten (Flatten)           (None, 1024)              0         \n",
            "                                                                 \n",
            " dense (Dense)               (None, 64)                65600     \n",
            "                                                                 \n",
            " activation_3 (Activation)   (None, 64)                0         \n",
            "                                                                 \n",
            " dropout (Dropout)           (None, 64)                0         \n",
            "                                                                 \n",
            " dense_1 (Dense)             (None, 82)                5330      \n",
            "                                                                 \n",
            " activation_4 (Activation)   (None, 82)                0         \n",
            "                                                                 \n",
            "=================================================================\n",
            "Total params: 83,730\n",
            "Trainable params: 83,730\n",
            "Non-trainable params: 0\n",
            "_________________________________________________________________\n",
            "Number of layers of our model :  15\n"
          ]
        }
      ]
    },
    {
      "cell_type": "markdown",
      "source": [
        "Adding another model"
      ],
      "metadata": {
        "id": "DcsVDNTFwrSS"
      }
    },
    {
      "cell_type": "code",
      "source": [
        "opt = Adam(learning_rate=LR, decay=LR / EPOCHS)"
      ],
      "metadata": {
        "id": "bsvgO1v76BUw"
      },
      "execution_count": 16,
      "outputs": []
    },
    {
      "cell_type": "code",
      "source": [
        "# Compiling the model \n",
        "#import tensorflow.python.keras.optimizer_v2.adam.Adam\n",
        "#opt = RMSprop(lr=LR, rho=0.9, epsilon=None, decay=0.0)\n",
        "model.compile(loss='categorical_crossentropy',\n",
        "              optimizer=opt,\n",
        "              metrics=['accuracy']) "
      ],
      "metadata": {
        "id": "HD6kCJPV6BXm"
      },
      "execution_count": 17,
      "outputs": []
    },
    {
      "cell_type": "code",
      "source": [
        "# data augmentation for training\n",
        "train_datagen = ImageDataGenerator(\n",
        "    rescale=1. / 255,\n",
        "    shear_range=0.0,\n",
        "    zoom_range=0.0,\n",
        "    featurewise_center=False,# set input mean to 0 over the dataset\n",
        "    samplewise_center=False,  # set each sample mean to 0\n",
        "    featurewise_std_normalization=False,  # divide inputs by std of dataset\n",
        "    samplewise_std_normalization=False,  # divide each input by its std\n",
        "    zca_whitening=False,  # apply ZCA whitening\n",
        "    rotation_range=0.0,  # randomly rotate images in the range (deg 0 to 180)\n",
        "    width_shift_range=0.0,  # randomly shift images horizontally\n",
        "    height_shift_range=0.0,  # randomly shift images vertically\n",
        "    horizontal_flip=False,  # randomly flip images\n",
        "    vertical_flip=False\n",
        "    )\n",
        "\n",
        "# data augmentation for testing\n",
        "test_datagen = ImageDataGenerator(rescale=1. / 255)"
      ],
      "metadata": {
        "id": "eY_5OHNQ6Fea"
      },
      "execution_count": 18,
      "outputs": []
    },
    {
      "cell_type": "code",
      "source": [
        "train_generator = train_datagen.flow_from_directory(\n",
        "    train_data_dir,\n",
        "    target_size=(img_dim[0], img_dim[1]),\n",
        "    batch_size=BS,\n",
        "    class_mode='categorical')\n",
        "\n",
        "validation_generator = test_datagen.flow_from_directory(\n",
        "    test_data_dir,\n",
        "    target_size=(img_dim[0], img_dim[1]),\n",
        "    batch_size=BS,\n",
        "    class_mode='categorical')"
      ],
      "metadata": {
        "colab": {
          "base_uri": "https://localhost:8080/"
        },
        "id": "J-2gAFxI6Fhf",
        "outputId": "87935591-aba5-4e6a-faf1-e05398ad6b26"
      },
      "execution_count": 19,
      "outputs": [
        {
          "output_type": "stream",
          "name": "stdout",
          "text": [
            "Found 263143 images belonging to 82 classes.\n",
            "Found 112831 images belonging to 82 classes.\n"
          ]
        }
      ]
    },
    {
      "cell_type": "code",
      "source": [
        "# Training\n",
        "history = model.fit(\n",
        "    train_generator,\n",
        "    steps_per_epoch=train_samples_nbr // BS,\n",
        "    epochs=EPOCHS,\n",
        "    validation_data=validation_generator,\n",
        "    validation_steps=test_samples_nbr // BS,\n",
        "    callbacks=[earlyStopping])"
      ],
      "metadata": {
        "colab": {
          "base_uri": "https://localhost:8080/"
        },
        "id": "flBGOehz6JFW",
        "outputId": "71183855-ed50-4003-9e95-6d48ce48b23b"
      },
      "execution_count": 20,
      "outputs": [
        {
          "output_type": "stream",
          "name": "stdout",
          "text": [
            "Epoch 1/25\n",
            "2630/2631 [============================>.] - ETA: 0s - loss: 1.7303 - accuracy: 0.5506WARNING:tensorflow:Early stopping conditioned on metric `val_acc` which is not available. Available metrics are: loss,accuracy,val_loss,val_accuracy\n",
            "2631/2631 [==============================] - 243s 88ms/step - loss: 1.7302 - accuracy: 0.5507 - val_loss: 0.7006 - val_accuracy: 0.8033\n",
            "Epoch 2/25\n",
            "2631/2631 [==============================] - ETA: 0s - loss: 1.1490 - accuracy: 0.6790WARNING:tensorflow:Early stopping conditioned on metric `val_acc` which is not available. Available metrics are: loss,accuracy,val_loss,val_accuracy\n",
            "2631/2631 [==============================] - 109s 41ms/step - loss: 1.1490 - accuracy: 0.6790 - val_loss: 0.5537 - val_accuracy: 0.8436\n",
            "Epoch 3/25\n",
            "2630/2631 [============================>.] - ETA: 0s - loss: 0.9990 - accuracy: 0.7174WARNING:tensorflow:Early stopping conditioned on metric `val_acc` which is not available. Available metrics are: loss,accuracy,val_loss,val_accuracy\n",
            "2631/2631 [==============================] - 114s 43ms/step - loss: 0.9988 - accuracy: 0.7174 - val_loss: 0.4896 - val_accuracy: 0.8584\n",
            "Epoch 4/25\n",
            "2631/2631 [==============================] - ETA: 0s - loss: 0.9170 - accuracy: 0.7386WARNING:tensorflow:Early stopping conditioned on metric `val_acc` which is not available. Available metrics are: loss,accuracy,val_loss,val_accuracy\n",
            "2631/2631 [==============================] - 101s 38ms/step - loss: 0.9170 - accuracy: 0.7386 - val_loss: 0.4419 - val_accuracy: 0.8727\n",
            "Epoch 5/25\n",
            "2630/2631 [============================>.] - ETA: 0s - loss: 0.8589 - accuracy: 0.7528WARNING:tensorflow:Early stopping conditioned on metric `val_acc` which is not available. Available metrics are: loss,accuracy,val_loss,val_accuracy\n",
            "2631/2631 [==============================] - 99s 38ms/step - loss: 0.8589 - accuracy: 0.7528 - val_loss: 0.4306 - val_accuracy: 0.8750\n",
            "Epoch 6/25\n",
            "2630/2631 [============================>.] - ETA: 0s - loss: 0.8128 - accuracy: 0.7645WARNING:tensorflow:Early stopping conditioned on metric `val_acc` which is not available. Available metrics are: loss,accuracy,val_loss,val_accuracy\n",
            "2631/2631 [==============================] - 99s 37ms/step - loss: 0.8128 - accuracy: 0.7645 - val_loss: 0.3991 - val_accuracy: 0.8822\n",
            "Epoch 7/25\n",
            "2630/2631 [============================>.] - ETA: 0s - loss: 0.7815 - accuracy: 0.7728WARNING:tensorflow:Early stopping conditioned on metric `val_acc` which is not available. Available metrics are: loss,accuracy,val_loss,val_accuracy\n",
            "2631/2631 [==============================] - 114s 43ms/step - loss: 0.7814 - accuracy: 0.7728 - val_loss: 0.3909 - val_accuracy: 0.8854\n",
            "Epoch 8/25\n",
            "2631/2631 [==============================] - ETA: 0s - loss: 0.7556 - accuracy: 0.7796WARNING:tensorflow:Early stopping conditioned on metric `val_acc` which is not available. Available metrics are: loss,accuracy,val_loss,val_accuracy\n",
            "2631/2631 [==============================] - 114s 43ms/step - loss: 0.7556 - accuracy: 0.7796 - val_loss: 0.3743 - val_accuracy: 0.8908\n",
            "Epoch 9/25\n",
            "2631/2631 [==============================] - ETA: 0s - loss: 0.7369 - accuracy: 0.7840WARNING:tensorflow:Early stopping conditioned on metric `val_acc` which is not available. Available metrics are: loss,accuracy,val_loss,val_accuracy\n",
            "2631/2631 [==============================] - 113s 43ms/step - loss: 0.7369 - accuracy: 0.7840 - val_loss: 0.3544 - val_accuracy: 0.8952\n",
            "Epoch 10/25\n",
            "2630/2631 [============================>.] - ETA: 0s - loss: 0.7211 - accuracy: 0.7891WARNING:tensorflow:Early stopping conditioned on metric `val_acc` which is not available. Available metrics are: loss,accuracy,val_loss,val_accuracy\n",
            "2631/2631 [==============================] - 116s 44ms/step - loss: 0.7211 - accuracy: 0.7891 - val_loss: 0.3498 - val_accuracy: 0.8973\n",
            "Epoch 11/25\n",
            "2630/2631 [============================>.] - ETA: 0s - loss: 0.7052 - accuracy: 0.7922WARNING:tensorflow:Early stopping conditioned on metric `val_acc` which is not available. Available metrics are: loss,accuracy,val_loss,val_accuracy\n",
            "2631/2631 [==============================] - 114s 43ms/step - loss: 0.7052 - accuracy: 0.7922 - val_loss: 0.3423 - val_accuracy: 0.8976\n",
            "Epoch 12/25\n",
            "2631/2631 [==============================] - ETA: 0s - loss: 0.6955 - accuracy: 0.7948WARNING:tensorflow:Early stopping conditioned on metric `val_acc` which is not available. Available metrics are: loss,accuracy,val_loss,val_accuracy\n",
            "2631/2631 [==============================] - 114s 43ms/step - loss: 0.6955 - accuracy: 0.7948 - val_loss: 0.3318 - val_accuracy: 0.9016\n",
            "Epoch 13/25\n",
            "2630/2631 [============================>.] - ETA: 0s - loss: 0.6852 - accuracy: 0.7973WARNING:tensorflow:Early stopping conditioned on metric `val_acc` which is not available. Available metrics are: loss,accuracy,val_loss,val_accuracy\n",
            "2631/2631 [==============================] - 113s 43ms/step - loss: 0.6852 - accuracy: 0.7972 - val_loss: 0.3250 - val_accuracy: 0.9043\n",
            "Epoch 14/25\n",
            "2631/2631 [==============================] - ETA: 0s - loss: 0.6770 - accuracy: 0.7999WARNING:tensorflow:Early stopping conditioned on metric `val_acc` which is not available. Available metrics are: loss,accuracy,val_loss,val_accuracy\n",
            "2631/2631 [==============================] - 116s 44ms/step - loss: 0.6770 - accuracy: 0.7999 - val_loss: 0.3223 - val_accuracy: 0.9048\n",
            "Epoch 15/25\n",
            "2631/2631 [==============================] - ETA: 0s - loss: 0.6673 - accuracy: 0.8031WARNING:tensorflow:Early stopping conditioned on metric `val_acc` which is not available. Available metrics are: loss,accuracy,val_loss,val_accuracy\n",
            "2631/2631 [==============================] - 112s 43ms/step - loss: 0.6673 - accuracy: 0.8031 - val_loss: 0.3205 - val_accuracy: 0.9050\n",
            "Epoch 16/25\n",
            "2631/2631 [==============================] - ETA: 0s - loss: 0.6592 - accuracy: 0.8038WARNING:tensorflow:Early stopping conditioned on metric `val_acc` which is not available. Available metrics are: loss,accuracy,val_loss,val_accuracy\n",
            "2631/2631 [==============================] - 212s 80ms/step - loss: 0.6592 - accuracy: 0.8038 - val_loss: 0.3115 - val_accuracy: 0.9073\n",
            "Epoch 17/25\n",
            "2631/2631 [==============================] - ETA: 0s - loss: 0.6494 - accuracy: 0.8068WARNING:tensorflow:Early stopping conditioned on metric `val_acc` which is not available. Available metrics are: loss,accuracy,val_loss,val_accuracy\n",
            "2631/2631 [==============================] - 233s 89ms/step - loss: 0.6494 - accuracy: 0.8068 - val_loss: 0.3112 - val_accuracy: 0.9086\n",
            "Epoch 18/25\n",
            "2631/2631 [==============================] - ETA: 0s - loss: 0.6456 - accuracy: 0.8064WARNING:tensorflow:Early stopping conditioned on metric `val_acc` which is not available. Available metrics are: loss,accuracy,val_loss,val_accuracy\n",
            "2631/2631 [==============================] - 261s 99ms/step - loss: 0.6456 - accuracy: 0.8064 - val_loss: 0.3043 - val_accuracy: 0.9113\n",
            "Epoch 19/25\n",
            "2631/2631 [==============================] - ETA: 0s - loss: 0.6407 - accuracy: 0.8087WARNING:tensorflow:Early stopping conditioned on metric `val_acc` which is not available. Available metrics are: loss,accuracy,val_loss,val_accuracy\n",
            "2631/2631 [==============================] - 272s 103ms/step - loss: 0.6407 - accuracy: 0.8087 - val_loss: 0.3038 - val_accuracy: 0.9107\n",
            "Epoch 20/25\n",
            "2631/2631 [==============================] - ETA: 0s - loss: 0.6351 - accuracy: 0.8104WARNING:tensorflow:Early stopping conditioned on metric `val_acc` which is not available. Available metrics are: loss,accuracy,val_loss,val_accuracy\n",
            "2631/2631 [==============================] - 278s 106ms/step - loss: 0.6351 - accuracy: 0.8104 - val_loss: 0.3000 - val_accuracy: 0.9117\n",
            "Epoch 21/25\n",
            "2631/2631 [==============================] - ETA: 0s - loss: 0.6269 - accuracy: 0.8132WARNING:tensorflow:Early stopping conditioned on metric `val_acc` which is not available. Available metrics are: loss,accuracy,val_loss,val_accuracy\n",
            "2631/2631 [==============================] - 284s 108ms/step - loss: 0.6269 - accuracy: 0.8132 - val_loss: 0.2952 - val_accuracy: 0.9131\n",
            "Epoch 22/25\n",
            "2631/2631 [==============================] - ETA: 0s - loss: 0.6209 - accuracy: 0.8147WARNING:tensorflow:Early stopping conditioned on metric `val_acc` which is not available. Available metrics are: loss,accuracy,val_loss,val_accuracy\n",
            "2631/2631 [==============================] - 303s 115ms/step - loss: 0.6209 - accuracy: 0.8147 - val_loss: 0.2945 - val_accuracy: 0.9111\n",
            "Epoch 23/25\n",
            "2631/2631 [==============================] - ETA: 0s - loss: 0.6127 - accuracy: 0.8166WARNING:tensorflow:Early stopping conditioned on metric `val_acc` which is not available. Available metrics are: loss,accuracy,val_loss,val_accuracy\n",
            "2631/2631 [==============================] - 315s 120ms/step - loss: 0.6127 - accuracy: 0.8166 - val_loss: 0.2902 - val_accuracy: 0.9142\n",
            "Epoch 24/25\n",
            "2631/2631 [==============================] - ETA: 0s - loss: 0.6112 - accuracy: 0.8174WARNING:tensorflow:Early stopping conditioned on metric `val_acc` which is not available. Available metrics are: loss,accuracy,val_loss,val_accuracy\n",
            "2631/2631 [==============================] - 339s 129ms/step - loss: 0.6112 - accuracy: 0.8174 - val_loss: 0.2848 - val_accuracy: 0.9147\n",
            "Epoch 25/25\n",
            "2631/2631 [==============================] - ETA: 0s - loss: 0.6030 - accuracy: 0.8185WARNING:tensorflow:Early stopping conditioned on metric `val_acc` which is not available. Available metrics are: loss,accuracy,val_loss,val_accuracy\n",
            "2631/2631 [==============================] - 837s 318ms/step - loss: 0.6030 - accuracy: 0.8185 - val_loss: 0.2837 - val_accuracy: 0.9153\n"
          ]
        }
      ]
    },
    {
      "cell_type": "markdown",
      "source": [
        "# Saving a model"
      ],
      "metadata": {
        "id": "45zMrccAJ9kp"
      }
    },
    {
      "cell_type": "code",
      "source": [
        "# plot_model(model, to_file='model_plot.png', show_shapes=True, show_layer_names=True);\n",
        "# save the model to disk\n",
        "print(\"[INFO] serializing network...\")\n",
        "#model.save(args[\"model\"])\n",
        "model.save(\"model.model\")\n",
        "model.save_weights(\"weights.h5\")\n",
        "#save the multi-label binarizer to disk\n",
        "print(\"[INFO] serializing label binarizer...\")\n",
        "# f = open(args[\"labelbin\"], \"wb\")\n",
        "f = open(\"labels.pickle\", \"wb\")\n",
        "f.write(pickle.dumps(mlb))\n",
        "f.close()\n"
      ],
      "metadata": {
        "id": "1gUjdmIH6JIU",
        "colab": {
          "base_uri": "https://localhost:8080/"
        },
        "outputId": "277d3816-b2ef-4287-d6aa-91abb81b3af1"
      },
      "execution_count": 21,
      "outputs": [
        {
          "output_type": "stream",
          "name": "stdout",
          "text": [
            "[INFO] serializing network...\n",
            "INFO:tensorflow:Assets written to: model.model/assets\n",
            "[INFO] serializing label binarizer...\n"
          ]
        }
      ]
    },
    {
      "cell_type": "code",
      "source": [
        "#probabilities = model.predict_generator(validation_generator,2000)\n",
        "\n",
        "# Evaluating the model / Get Validation accuracy on sample from validation set\n",
        "scores = model.evaluate(validation_generator,verbose=1) \n",
        "print(\"Accuracy = \", scores[1])\n"
      ],
      "metadata": {
        "id": "Ahzq_VFMJ71a",
        "colab": {
          "base_uri": "https://localhost:8080/"
        },
        "outputId": "8e4bb55d-841b-43d0-f2c2-f4a8e9d39650"
      },
      "execution_count": 22,
      "outputs": [
        {
          "output_type": "stream",
          "name": "stdout",
          "text": [
            "1129/1129 [==============================] - 44s 39ms/step - loss: 0.2837 - accuracy: 0.9153\n",
            "Accuracy =  0.9152804017066956\n"
          ]
        }
      ]
    },
    {
      "cell_type": "code",
      "source": [
        "import matplotlib.pyplot as plt"
      ],
      "metadata": {
        "id": "y5InH5Z1J74Z"
      },
      "execution_count": 23,
      "outputs": []
    },
    {
      "cell_type": "code",
      "source": [
        "\n",
        "\n",
        "# Plot training & validation accuracy values\n",
        "plt.plot(history.history['accuracy'])\n",
        "plt.plot(history.history['val_accuracy'])\n",
        "plt.title('Model accuracy')\n",
        "plt.ylabel('Accuracy')\n",
        "plt.xlabel('Epoch')\n",
        "plt.legend(['Train', 'Test'], loc='upper left')\n",
        "plt.savefig('model_accuary_plot.png')\n",
        "plt.show()"
      ],
      "metadata": {
        "id": "vFmyN25sKFjK",
        "colab": {
          "base_uri": "https://localhost:8080/",
          "height": 295
        },
        "outputId": "250bc6cc-ba6a-428e-fa58-ee674f43b2f2"
      },
      "execution_count": 24,
      "outputs": [
        {
          "output_type": "display_data",
          "data": {
            "image/png": "[encoded data removed]",
            "text/plain": [
              "<Figure size 432x288 with 1 Axes>"
            ]
          },
          "metadata": {
            "needs_background": "light"
          }
        }
      ]
    },
    {
      "cell_type": "code",
      "source": [
        "# Plot training & validation loss values\n",
        "plt.plot(history.history['loss'])\n",
        "plt.plot(history.history['val_loss'])\n",
        "plt.title('Model loss')\n",
        "plt.ylabel('Loss')\n",
        "plt.xlabel('Epoch')\n",
        "plt.legend(['Train', 'Test'], loc='upper left')\n",
        "plt.savefig('model_loss_plot.png')\n",
        "plt.show()"
      ],
      "metadata": {
        "id": "DH6FL4fIKFlr",
        "colab": {
          "base_uri": "https://localhost:8080/",
          "height": 295
        },
        "outputId": "fefbb0bd-bffb-4ab1-f5c1-cd5e1da66d23"
      },
      "execution_count": 25,
      "outputs": [
        {
          "output_type": "display_data",
          "data": {
            "image/png": "[encoded data removed]",
            "text/plain": [
              "<Figure size 432x288 with 1 Axes>"
            ]
          },
          "metadata": {
            "needs_background": "light"
          }
        }
      ]
    },
    {
      "cell_type": "code",
      "source": [
        "# Train - Val plot\n",
        "fig1, ax_acc = plt.subplots()\n",
        "plt.plot(history.history['accuracy'])\n",
        "plt.plot(history.history['val_accuracy'])\n",
        "plt.xlabel('Epoch')\n",
        "plt.ylabel('Accuracy')\n",
        "plt.title('Model - Accuracy')\n",
        "plt.legend(['Training', 'Validation'], loc='lower right')\n",
        "plt.savefig(\"train_val_plot.png\")"
      ],
      "metadata": {
        "id": "eTxSSlePKJIs",
        "colab": {
          "base_uri": "https://localhost:8080/",
          "height": 295
        },
        "outputId": "40d19121-8b52-4eb5-ccc3-8c2315d2db26"
      },
      "execution_count": 26,
      "outputs": [
        {
          "output_type": "display_data",
          "data": {
            "image/png": "[encoded data removed]",
            "text/plain": [
              "<Figure size 432x288 with 1 Axes>"
            ]
          },
          "metadata": {
            "needs_background": "light"
          }
        }
      ]
    },
    {
      "cell_type": "markdown",
      "source": [
        "# Evaluation step"
      ],
      "metadata": {
        "id": "GJIq7p9DMTfT"
      }
    },
    {
      "cell_type": "code",
      "source": [
        "from keras.preprocessing.image import img_to_array\n",
        "from keras.models import load_model\n",
        "import numpy as np\n",
        "import argparse\n",
        "import imutils\n",
        "import pickle\n",
        "import cv2\n",
        "import os"
      ],
      "metadata": {
        "id": "80Wbjjo0MWxp"
      },
      "execution_count": 32,
      "outputs": []
    },
    {
      "cell_type": "code",
      "source": [
        "# load the image\n",
        "image = cv2.imread(\"/content/data/extracted_images/!/!_100077.jpg\")\n",
        "print(image.shape)\n",
        "output = imutils.resize(image, width=400)\n",
        " \n",
        "# pre-process the image for classification\n",
        "image = cv2.resize(image, (45, 45))\n",
        "image = image.astype(\"float\") / 255.0\n",
        "image = img_to_array(image)\n",
        "image = np.expand_dims(image, axis=0)"
      ],
      "metadata": {
        "id": "_iHKB8WhMXP5",
        "colab": {
          "base_uri": "https://localhost:8080/"
        },
        "outputId": "05648861-8524-4229-81f8-63615f3da476"
      },
      "execution_count": 33,
      "outputs": [
        {
          "output_type": "stream",
          "name": "stdout",
          "text": [
            "(45, 45, 3)\n"
          ]
        }
      ]
    },
    {
      "cell_type": "code",
      "source": [
        "# load the trained convolutional neural network and the multi-label\n",
        "# binarizer\n",
        "print(\"[INFO] loading network...\")\n",
        "model = load_model(\"model.model\")\n",
        "mlb = pickle.loads(open(\"labels.pickle\", \"rb\").read())\n",
        " \n",
        " #%%\n",
        "# classify the input image then find the indexes of the two class\n",
        "# labels with the *largest* probability\n",
        "print(\"[INFO] classifying image...\")\n",
        "proba = model.predict(image)[0]\n",
        "idxs = np.argsort(proba)[::-1][:2]\n",
        "# loop over the indexes of the high confidence class labels"
      ],
      "metadata": {
        "id": "J4s-ud4fMXSt",
        "colab": {
          "base_uri": "https://localhost:8080/"
        },
        "outputId": "226293b6-7810-4c68-89b3-e8a081330906"
      },
      "execution_count": 34,
      "outputs": [
        {
          "output_type": "stream",
          "name": "stdout",
          "text": [
            "[INFO] loading network...\n",
            "[INFO] classifying image...\n"
          ]
        }
      ]
    },
    {
      "cell_type": "code",
      "source": [
        "for (i, j) in enumerate(idxs):\n",
        "    # build the label and draw the label on the image\n",
        "    label = \"{}: {:.2f}%\".format(mlb.classes_[j], proba[j] * 100)\n",
        "    cv2.putText(output, label, (10, (i * 30) + 25), \n",
        "        cv2.FONT_HERSHEY_SIMPLEX, 0.7, (0, 255, 0), 2)"
      ],
      "metadata": {
        "id": "W4JCYwBmMzne"
      },
      "execution_count": 35,
      "outputs": []
    },
    {
      "cell_type": "code",
      "source": [
        "# show the probabilities for each of the individual labels\n",
        "for (label, p) in zip(mlb.classes_, proba):\n",
        "    print(\"{}: {:.2f}%\".format(label, p * 100))\n",
        "# show the output image\n",
        "#cv2.imshow(\"Output\", output)\n",
        "cv2.waitKey(0)\n",
        "\n",
        "print (\"This Symbol is :\",' '.join(mlb.classes_[proba.argmax(axis=-1)]))\n",
        "#model.predict_classes(image)\n",
        "#result = \"This Symbol is : \".join(mlb.classes_[proba.argmax(axis=-1)])"
      ],
      "metadata": {
        "id": "brkmZ_bkMzqj",
        "colab": {
          "base_uri": "https://localhost:8080/"
        },
        "outputId": "e2992809-58b5-49b4-916e-aee2fab27f1a"
      },
      "execution_count": 36,
      "outputs": [
        {
          "output_type": "stream",
          "name": "stdout",
          "text": [
            "!: 99.99%\n",
            "(: 0.00%\n",
            "): 0.00%\n",
            "+: 0.00%\n",
            ",: 0.01%\n",
            "-: 0.00%\n",
            "0: 0.00%\n",
            "1: 0.00%\n",
            "2: 0.00%\n",
            "3: 0.00%\n",
            "4: 0.00%\n",
            "5: 0.00%\n",
            "6: 0.00%\n",
            "7: 0.00%\n",
            "8: 0.00%\n",
            "9: 0.00%\n",
            "=: 0.00%\n",
            "A: 0.00%\n",
            "C: 0.00%\n",
            "D: 0.00%\n",
            "G: 0.00%\n",
            "H: 0.00%\n",
            "M: 0.00%\n",
            "N: 0.00%\n",
            "R: 0.00%\n",
            "S: 0.00%\n",
            "T: 0.00%\n",
            "X: 0.00%\n",
            "[: 0.00%\n",
            "]: 0.00%\n",
            "_: 0.00%\n",
            "a: 0.00%\n",
            "b: 0.00%\n",
            "c: 0.00%\n",
            "d: 0.00%\n",
            "e: 0.00%\n",
            "f: 0.00%\n",
            "g: 0.00%\n",
            "h: 0.00%\n",
            "i: 0.00%\n",
            "j: 0.00%\n",
            "k: 0.00%\n",
            "l: 0.00%\n",
            "m: 0.00%\n",
            "n: 0.00%\n",
            "o: 0.00%\n",
            "p: 0.00%\n",
            "q: 0.00%\n",
            "r: 0.00%\n",
            "s: 0.00%\n",
            "t: 0.00%\n",
            "u: 0.00%\n",
            "v: 0.00%\n",
            "w: 0.00%\n",
            "x: 0.00%\n",
            "y: 0.00%\n",
            "z: 0.00%\n",
            "{: 0.00%\n",
            "}: 0.00%\n",
            "This Symbol is : !\n"
          ]
        }
      ]
    },
    {
      "cell_type": "code",
      "source": [
        "\n"
      ],
      "metadata": {
        "id": "n1WCArLWR8tA"
      },
      "execution_count": null,
      "outputs": []
    }
  ]
}