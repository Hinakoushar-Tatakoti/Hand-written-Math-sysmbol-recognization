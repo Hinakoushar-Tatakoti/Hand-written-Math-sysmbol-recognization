{
  "nbformat": 4,
  "nbformat_minor": 0,
  "metadata": {
    "colab": {
      "name": "Hnadwritten_Math_Symobol_Model.ipynb",
      "provenance": [],
      "include_colab_link": true
    },
    "kernelspec": {
      "name": "python3",
      "display_name": "Python 3"
    },
    "language_info": {
      "name": "python"
    },
    "accelerator": "GPU"
  },
  "cells": [
    {
      "cell_type": "markdown",
      "metadata": {
        "id": "view-in-github",
        "colab_type": "text"
      },
      "source": [
        "<a href=\"https://colab.research.google.com/github/Hinakoushar-Tatakoti/Hand-written-Math-sysmbol-recognization/blob/master/Hnadwritten_Math_Symobol_Model.ipynb\" target=\"_parent\"><img src=\"https://colab.research.google.com/assets/colab-badge.svg\" alt=\"Open In Colab\"/></a>"
      ]
    },
    {
      "cell_type": "code",
      "execution_count": 9,
      "metadata": {
        "id": "AMELhZigsE5R"
      },
      "outputs": [],
      "source": [
        "!pip install -q kaggle"
      ]
    },
    {
      "cell_type": "code",
      "source": [
        "from google.colab import files\n",
        "files.upload()"
      ],
      "metadata": {
        "id": "RD9BfJ62sf-e"
      },
      "execution_count": null,
      "outputs": []
    },
    {
      "cell_type": "code",
      "source": [
        "! mkdir ~/.kaggle"
      ],
      "metadata": {
        "id": "pIKGL8X_swPP"
      },
      "execution_count": 11,
      "outputs": []
    },
    {
      "cell_type": "code",
      "source": [
        "!cp kaggle.json ~/.kaggle/"
      ],
      "metadata": {
        "id": "TBxDlmkosgBm"
      },
      "execution_count": 13,
      "outputs": []
    },
    {
      "cell_type": "code",
      "source": [
        "! chmod 600 ~/.kaggle/kaggle.json"
      ],
      "metadata": {
        "id": "UwUW_W9ltOTn"
      },
      "execution_count": null,
      "outputs": []
    },
    {
      "cell_type": "code",
      "source": [
        "!kaggle datasets list"
      ],
      "metadata": {
        "id": "3hcF5gyKtbHR",
        "collapsed": true
      },
      "execution_count": null,
      "outputs": []
    },
    {
      "cell_type": "code",
      "source": [
        "!kaggle datasets download -d xainano/handwrittenmathsymbols"
      ],
      "metadata": {
        "id": "tJwQlYzutbKM"
      },
      "execution_count": null,
      "outputs": []
    },
    {
      "cell_type": "code",
      "source": [
        "!unzip  handwrittenmathsymbols.zip"
      ],
      "metadata": {
        "id": "UJyf3L1XtOWY",
        "collapsed": true
      },
      "execution_count": null,
      "outputs": []
    },
    {
      "cell_type": "code",
      "source": [
        "!unrar x data.rar \"/content/data/\""
      ],
      "metadata": {
        "id": "N63qJJGrvnSm",
        "collapsed": true
      },
      "execution_count": null,
      "outputs": []
    },
    {
      "cell_type": "markdown",
      "source": [
        "# Start Building the project code"
      ],
      "metadata": {
        "id": "gi2Pnmr4zN0z"
      }
    },
    {
      "cell_type": "code",
      "source": [
        "!pwd\n",
        "!pip install split-folders\n",
        "!pip install split-folders tqdm"
      ],
      "metadata": {
        "colab": {
          "base_uri": "https://localhost:8080/"
        },
        "id": "ZJ38ntIoxIg_",
        "outputId": "5812ac51-2d4b-41bc-86a2-d939f8e0e1c8"
      },
      "execution_count": 18,
      "outputs": [
        {
          "output_type": "stream",
          "name": "stdout",
          "text": [
            "/content\n",
            "Collecting split-folders\n",
            "  Downloading split_folders-0.5.1-py3-none-any.whl (8.4 kB)\n",
            "Installing collected packages: split-folders\n",
            "Successfully installed split-folders-0.5.1\n",
            "Requirement already satisfied: split-folders in /usr/local/lib/python3.7/dist-packages (0.5.1)\n",
            "Requirement already satisfied: tqdm in /usr/local/lib/python3.7/dist-packages (4.62.3)\n"
          ]
        }
      ]
    },
    {
      "cell_type": "code",
      "source": [
        "import numpy as np # linear algebra\n",
        "import pandas as pd # data processing, CSV file I/O (e.g. pd.read_csv)\n",
        "from keras import backend as K\n",
        "from sklearn.preprocessing import MultiLabelBinarizer\n",
        "from keras.preprocessing.image import ImageDataGenerator\n",
        "from keras.models import Sequential\n",
        "from keras.layers import Conv2D, MaxPooling2D\n",
        "from keras.layers import Activation, Dropout, Flatten, Dense\n",
        "from tensorflow.keras.optimizers import Adam\n",
        "from tensorflow.keras.optimizers import RMSprop\n",
        "from keras.utils.vis_utils import plot_model\n",
        "from keras.preprocessing.image import img_to_array\n",
        "from tensorflow.keras.callbacks import EarlyStopping\n",
        "\n",
        "##from ipynb.fs.full.model import *\n",
        "import os\n",
        "import pickle\n",
        "\n",
        "import os\n",
        "import numpy as np\n",
        "from tqdm import tqdm\n",
        "from fastai import *\n",
        "import torch\n",
        "\n",
        "%matplotlib inline\n",
        "\n",
        "import cv2\n",
        "import pandas as pd\n",
        "import splitfolders\n",
        "import random\n",
        "import matplotlib.pyplot as plt"
      ],
      "metadata": {
        "id": "5Y_HwLAhzDwN"
      },
      "execution_count": 19,
      "outputs": []
    },
    {
      "cell_type": "code",
      "source": [
        "data = os.listdir(\"/content/data/extracted_images/\")\n",
        "len(data)"
      ],
      "metadata": {
        "colab": {
          "base_uri": "https://localhost:8080/"
        },
        "id": "Sa8ShtuvzgMP",
        "outputId": "0bee225a-79b6-4c51-f91c-85cc0c2485ba"
      },
      "execution_count": 20,
      "outputs": [
        {
          "output_type": "execute_result",
          "data": {
            "text/plain": [
              "82"
            ]
          },
          "metadata": {},
          "execution_count": 20
        }
      ]
    },
    {
      "cell_type": "code",
      "source": [
        "def seed_everything(seed):\n",
        "    random.seed(seed)\n",
        "    os.environ['PYTHONHASHSEED'] = str(seed)\n",
        "    np.random.seed(seed)\n",
        "    torch.manual_seed(seed)\n",
        "    torch.cuda.manual_seed(seed)\n",
        "    torch.backends.cudnn.deterministic = True    \n",
        "\n",
        "SEED = 999\n",
        "seed_everything(SEED)"
      ],
      "metadata": {
        "id": "glCFPmlszgPd"
      },
      "execution_count": 21,
      "outputs": []
    },
    {
      "cell_type": "code",
      "source": [
        "# Infos about our Dataset\n",
        "nbr_of_pictures = []\n",
        "\n",
        "labels = os.listdir(\"/content/data/extracted_images\")\n",
        "for _, _, files in os.walk(r'/content/data/extracted_images'):\n",
        "    nbr_of_pictures.append(len(files))\n",
        "\n",
        "nbr_of_pictures=nbr_of_pictures[1:]\n",
        "#print nbr of pictures in every class\n",
        "print(\"Number of samples in every class ...\")\n",
        "for i in range(82):  # 82 : Nbr of classes\n",
        "    print(labels[i],\" : \",nbr_of_pictures[i])"
      ],
      "metadata": {
        "id": "119NRPCszDzT",
        "outputId": "74bcf342-f292-4adc-a395-6a201aa19b56",
        "colab": {
          "base_uri": "https://localhost:8080/"
        }
      },
      "execution_count": 22,
      "outputs": [
        {
          "output_type": "stream",
          "name": "stdout",
          "text": [
            "Number of samples in every class ...\n",
            "lambda  :  109\n",
            "pm  :  802\n",
            "C  :  5802\n",
            "beta  :  2025\n",
            "6  :  3118\n",
            "sin  :  4293\n",
            "7  :  2909\n",
            "ldots  :  609\n",
            "8  :  3068\n",
            "int  :  2742\n",
            "q  :  1230\n",
            "e  :  3003\n",
            "M  :  2476\n",
            "o  :  449\n",
            "X  :  26594\n",
            "N  :  10862\n",
            "-  :  33997\n",
            "log  :  2001\n",
            "tan  :  2450\n",
            "prime  :  329\n",
            "u  :  1269\n",
            "A  :  12367\n",
            "forall  :  45\n",
            "in  :  47\n",
            "y  :  9340\n",
            "ascii_124  :  1339\n",
            "(  :  14294\n",
            ",  :  1906\n",
            "exists  :  21\n",
            "d  :  4852\n",
            "R  :  2671\n",
            "alpha  :  2546\n",
            "sum  :  2689\n",
            "div  :  868\n",
            "i  :  5140\n",
            "sigma  :  201\n",
            "9  :  3737\n",
            "T  :  3274\n",
            "5  :  3545\n",
            "+  :  25112\n",
            "forward_slash  :  199\n",
            "gamma  :  409\n",
            "pi  :  2332\n",
            "4  :  7396\n",
            "rightarrow  :  1703\n",
            "l  :  1017\n",
            "G  :  1692\n",
            "geq  :  693\n",
            "2  :  26141\n",
            "f  :  3712\n",
            "!  :  1300\n",
            "lim  :  1675\n",
            "=  :  13104\n",
            "mu  :  177\n",
            "S  :  1413\n",
            "w  :  556\n",
            "theta  :  2796\n",
            "p  :  2680\n",
            "]  :  780\n",
            "times  :  3251\n",
            "{  :  376\n",
            "H  :  1464\n",
            "leq  :  973\n",
            "0  :  6914\n",
            "phi  :  355\n",
            ")  :  14355\n",
            "Delta  :  137\n",
            "k  :  3074\n",
            "j  :  1536\n",
            "}  :  377\n",
            "z  :  5870\n",
            "gt  :  258\n",
            "lt  :  477\n",
            "v  :  1558\n",
            "b  :  8651\n",
            "sqrt  :  8908\n",
            "infty  :  1783\n",
            "1  :  26520\n",
            "3  :  10909\n",
            "[  :  778\n",
            "cos  :  2986\n",
            "neq  :  558\n"
          ]
        }
      ]
    },
    {
      "cell_type": "markdown",
      "source": [
        "Pickle the labels for later use"
      ],
      "metadata": {
        "id": "bSoetbElgsqI"
      }
    },
    {
      "cell_type": "code",
      "source": [
        "print(len(labels),\" Classes : \",labels)\n",
        "labels = np.array(labels)\n",
        "print(labels)"
      ],
      "metadata": {
        "colab": {
          "base_uri": "https://localhost:8080/"
        },
        "id": "xd3ZWaPsgvcg",
        "outputId": "ceb66410-2ba8-4bf1-cdae-d9bb522b8033"
      },
      "execution_count": 23,
      "outputs": [
        {
          "output_type": "stream",
          "name": "stdout",
          "text": [
            "82  Classes :  ['lambda', 'pm', 'C', 'beta', '6', 'sin', '7', 'ldots', '8', 'int', 'q', 'e', 'M', 'o', 'X', 'N', '-', 'log', 'tan', 'prime', 'u', 'A', 'forall', 'in', 'y', 'ascii_124', '(', ',', 'exists', 'd', 'R', 'alpha', 'sum', 'div', 'i', 'sigma', '9', 'T', '5', '+', 'forward_slash', 'gamma', 'pi', '4', 'rightarrow', 'l', 'G', 'geq', '2', 'f', '!', 'lim', '=', 'mu', 'S', 'w', 'theta', 'p', ']', 'times', '{', 'H', 'leq', '0', 'phi', ')', 'Delta', 'k', 'j', '}', 'z', 'gt', 'lt', 'v', 'b', 'sqrt', 'infty', '1', '3', '[', 'cos', 'neq']\n",
            "['lambda' 'pm' 'C' 'beta' '6' 'sin' '7' 'ldots' '8' 'int' 'q' 'e' 'M' 'o'\n",
            " 'X' 'N' '-' 'log' 'tan' 'prime' 'u' 'A' 'forall' 'in' 'y' 'ascii_124' '('\n",
            " ',' 'exists' 'd' 'R' 'alpha' 'sum' 'div' 'i' 'sigma' '9' 'T' '5' '+'\n",
            " 'forward_slash' 'gamma' 'pi' '4' 'rightarrow' 'l' 'G' 'geq' '2' 'f' '!'\n",
            " 'lim' '=' 'mu' 'S' 'w' 'theta' 'p' ']' 'times' '{' 'H' 'leq' '0' 'phi'\n",
            " ')' 'Delta' 'k' 'j' '}' 'z' 'gt' 'lt' 'v' 'b' 'sqrt' 'infty' '1' '3' '['\n",
            " 'cos' 'neq']\n"
          ]
        }
      ]
    },
    {
      "cell_type": "code",
      "source": [
        "output=open(\"labels.pickle\", \"wb\")\n",
        "pickle.dump(labels, output)\n",
        "output.close()"
      ],
      "metadata": {
        "id": "pG9L0xRZh6BQ"
      },
      "execution_count": 24,
      "outputs": []
    },
    {
      "cell_type": "code",
      "source": [
        "## split the data into train and val\n",
        "## one time done\n",
        "splitfolders.ratio('/content/data/extracted_images', output=\"/content/data/split\", seed=SEED, ratio=(.7, .3)) "
      ],
      "metadata": {
        "colab": {
          "base_uri": "https://localhost:8080/"
        },
        "id": "AbD9MFy70LRV",
        "outputId": "44c71a5c-9568-4a00-d27b-56df376a73b4"
      },
      "execution_count": 25,
      "outputs": [
        {
          "output_type": "stream",
          "name": "stderr",
          "text": [
            "Copying files: 375974 files [01:55, 3245.64 files/s]\n"
          ]
        }
      ]
    },
    {
      "cell_type": "code",
      "source": [
        "#Initialize parametres\n",
        "\n",
        "EPOCHS = 10\n",
        "BS = 100 #Batch size\n",
        "LR = 1e-3 #Learning rate 0.001\n",
        "img_dim = (45,45,3)\n",
        "train_data_dir = '/content/data/split/train'\n",
        "test_data_dir = '/content/data/split/val'\n",
        "#labels = []\n",
        "#Nbr of training images\n",
        "train_samples_nbr  = sum(len(files) for _, _, files in os.walk(r'/content/data/split/train'))\n",
        "print(f\"Number of train images are {train_samples_nbr}\")\n",
        "#Nbr of testing images\n",
        "test_samples_nbr  = sum(len(files) for _, _, files in os.walk(r'/content/data/split/val'))\n",
        "print(f\"Number of test images are {test_samples_nbr}\")"
      ],
      "metadata": {
        "colab": {
          "base_uri": "https://localhost:8080/"
        },
        "id": "Js6UrC7r1wfW",
        "outputId": "5456852f-434d-44d5-d146-1a08a1b70577"
      },
      "execution_count": 26,
      "outputs": [
        {
          "output_type": "stream",
          "name": "stdout",
          "text": [
            "Number of train images are 263143\n",
            "Number of test images are 112831\n"
          ]
        }
      ]
    },
    {
      "cell_type": "code",
      "source": [
        "if K.image_data_format() == 'channels_first':\n",
        "    input_shape = (img_dim[2], img_dim[0], img_dim[1])\n",
        "else:\n",
        "    input_shape = (img_dim[0], img_dim[1], img_dim[2])\n",
        "print(input_shape)"
      ],
      "metadata": {
        "colab": {
          "base_uri": "https://localhost:8080/"
        },
        "id": "nwk1laxO35Eq",
        "outputId": "a691d07e-70ef-46ee-99ed-0dd073a14c28"
      },
      "execution_count": 27,
      "outputs": [
        {
          "output_type": "stream",
          "name": "stdout",
          "text": [
            "(45, 45, 3)\n"
          ]
        }
      ]
    },
    {
      "cell_type": "code",
      "source": [
        "#earlyStopping = EarlyStopping(monitor=\"val_loss\", mode=\"min\", patience=2)\n",
        "earlyStopping = EarlyStopping(monitor='val_acc', min_delta=0, patience=20, verbose=1, mode='auto')"
      ],
      "metadata": {
        "id": "TMeHl1G_4XO6"
      },
      "execution_count": 28,
      "outputs": []
    },
    {
      "cell_type": "code",
      "source": [
        "lab = ['+' 'sqrt' 'sigma' 'o' '}' '(' 'i' 'times' 'tan' '2' '=' 'z' 'l' '6'\n",
        " 'rightarrow' 'Delta' 'C' '[' 'cos' '4' 'log' '9' '-' 'pm' ']' 'X'\n",
        " 'forall' 'exists' 'S' 'div' '0' '1' 'lambda' 'k' 'R' '{' 'int' 'w' 'A'\n",
        " 'p' 'neq' 'phi' 'd' 'gamma' '!' 'N' 'u' 'f' 'geq' 'infty' 'leq' 'lim' ')'\n",
        " 'beta' 'T' ',' 'y' '3' 'alpha' '7' 'gt' 'pi' 'in' 'sum' 'ldots' '8' 'M'\n",
        " '5' 'b' 'j' 'H' 'v' 'mu' 'forward_slash' 'sin' 'prime' 'ascii_124' 'q'\n",
        " 'theta' 'lt' 'e' 'G']"
      ],
      "metadata": {
        "id": "7qNOz0z4d6HT"
      },
      "execution_count": null,
      "outputs": []
    },
    {
      "cell_type": "code",
      "source": [
        "type(labels)"
      ],
      "metadata": {
        "colab": {
          "base_uri": "https://localhost:8080/"
        },
        "id": "Qu-kNL4Xg3kD",
        "outputId": "312706a2-b389-4c6c-c170-9115224b19d8"
      },
      "execution_count": 29,
      "outputs": [
        {
          "output_type": "execute_result",
          "data": {
            "text/plain": [
              "numpy.ndarray"
            ]
          },
          "metadata": {},
          "execution_count": 29
        }
      ]
    },
    {
      "cell_type": "code",
      "source": [
        "print(\"[INFO] class labels:\")\n",
        "mlb = MultiLabelBinarizer()\n",
        "mlb.fit_transform([labels])\n"
      ],
      "metadata": {
        "colab": {
          "base_uri": "https://localhost:8080/"
        },
        "id": "aRto88_j4aTk",
        "outputId": "70ee5c1f-1757-4559-e974-6d968959a9cf"
      },
      "execution_count": 30,
      "outputs": [
        {
          "output_type": "stream",
          "name": "stdout",
          "text": [
            "[INFO] class labels:\n"
          ]
        },
        {
          "output_type": "execute_result",
          "data": {
            "text/plain": [
              "array([[1, 1, 1, 1, 1, 1, 1, 1, 1, 1, 1, 1, 1, 1, 1, 1, 1, 1, 1, 1, 1, 1,\n",
              "        1, 1, 1, 1, 1, 1, 1, 1, 1, 1, 1, 1, 1, 1, 1, 1, 1, 1, 1, 1, 1, 1,\n",
              "        1, 1, 1, 1, 1, 1, 1, 1, 1, 1, 1, 1, 1, 1, 1, 1, 1, 1, 1, 1, 1, 1,\n",
              "        1, 1, 1, 1, 1, 1, 1, 1, 1, 1, 1, 1, 1, 1, 1, 1]])"
            ]
          },
          "metadata": {},
          "execution_count": 30
        }
      ]
    },
    {
      "cell_type": "code",
      "source": [
        "mlb.classes_\n"
      ],
      "metadata": {
        "id": "G3R4dUmA4aW4",
        "colab": {
          "base_uri": "https://localhost:8080/"
        },
        "outputId": "5c96d464-f99b-49d6-d0be-5ea7493f3c7f"
      },
      "execution_count": 31,
      "outputs": [
        {
          "output_type": "execute_result",
          "data": {
            "text/plain": [
              "array(['!', '(', ')', '+', ',', '-', '0', '1', '2', '3', '4', '5', '6',\n",
              "       '7', '8', '9', '=', 'A', 'C', 'Delta', 'G', 'H', 'M', 'N', 'R',\n",
              "       'S', 'T', 'X', '[', ']', 'alpha', 'ascii_124', 'b', 'beta', 'cos',\n",
              "       'd', 'div', 'e', 'exists', 'f', 'forall', 'forward_slash', 'gamma',\n",
              "       'geq', 'gt', 'i', 'in', 'infty', 'int', 'j', 'k', 'l', 'lambda',\n",
              "       'ldots', 'leq', 'lim', 'log', 'lt', 'mu', 'neq', 'o', 'p', 'phi',\n",
              "       'pi', 'pm', 'prime', 'q', 'rightarrow', 'sigma', 'sin', 'sqrt',\n",
              "       'sum', 'tan', 'theta', 'times', 'u', 'v', 'w', 'y', 'z', '{', '}'],\n",
              "      dtype=object)"
            ]
          },
          "metadata": {},
          "execution_count": 31
        }
      ]
    },
    {
      "cell_type": "markdown",
      "source": [
        "# Add a model"
      ],
      "metadata": {
        "id": "0XcDLUDk4iUh"
      }
    },
    {
      "cell_type": "code",
      "source": [
        "from tensorflow.keras.models import Sequential\n",
        "from tensorflow.keras.layers import BatchNormalization\n",
        "from tensorflow.keras.layers import Conv2D\n",
        "from tensorflow.keras.layers import MaxPooling2D\n",
        "from tensorflow.keras.layers import Activation\n",
        "from tensorflow.keras.layers import Flatten\n",
        "from tensorflow.keras.layers import Dropout\n",
        "from tensorflow.keras.layers import Dense\n",
        "from keras import backend as K"
      ],
      "metadata": {
        "id": "b6UHPALF4aaz"
      },
      "execution_count": null,
      "outputs": []
    },
    {
      "cell_type": "code",
      "source": [
        "class myModel:\n",
        "    @staticmethod\n",
        "    def build(width, height, depth, classes, activFct=\"softmax\"): \n",
        "        #finalAct='softmax' for single-label classification || finalAct='sigmoid' for multi-label classification \n",
        "        # initialize the model along with the input shape to be\n",
        "        # \"channels last\" and the channels dimension itself\n",
        "        model = Sequential()\n",
        "        inputShape = (height, width, depth)\n",
        "        chanDim = -1\n",
        " \n",
        "        # if we are using \"channels first\", update the input shape\n",
        "        # and channels dimension\n",
        "        if K.image_data_format() == \"channels_first\":\n",
        "            inputShape = (depth, height, width)\n",
        "            chanDim = 1\n",
        "        # CONV => RELU => POOL\n",
        "        model.add(Conv2D(32, (2, 2), input_shape = inputShape)) \n",
        "        model.add(Activation('relu')) \n",
        "        model.add(MaxPooling2D(pool_size =(2, 2))) \n",
        "        \n",
        "        model.add(Conv2D(32, (2, 2))) \n",
        "        model.add(Activation('relu')) \n",
        "        model.add(MaxPooling2D(pool_size =(2, 2))) \n",
        "        \n",
        "        model.add(Conv2D(64, (2, 2))) \n",
        "        model.add(Activation('relu')) \n",
        "        model.add(MaxPooling2D(pool_size =(2, 2))) \n",
        "        \n",
        "        model.add(Flatten()) \n",
        "        model.add(Dense(64)) \n",
        "        model.add(Activation('relu')) \n",
        "        model.add(Dropout(0.5)) \n",
        "        model.add(Dense(classes)) \n",
        "        model.add(Activation(activFct))\n",
        "\n",
        " \n",
        "        # return the constructed network architecture\n",
        "        return model"
      ],
      "metadata": {
        "id": "lcxl2Odj4sXs"
      },
      "execution_count": null,
      "outputs": []
    },
    {
      "cell_type": "code",
      "source": [
        "# Building the model \n",
        "model = myModel.build(\n",
        "    width=img_dim[1], height=img_dim[0],\n",
        "    depth=img_dim[2], classes=82,activFct=\"softmax\") #for multi-class classification\n",
        "model.summary()\n",
        "print('Number of layers of our model : ',len(model.layers))"
      ],
      "metadata": {
        "id": "zJT3jPEAGybx",
        "colab": {
          "base_uri": "https://localhost:8080/"
        },
        "outputId": "ec9dcfa6-bcd2-43a4-b459-d0c971f72272"
      },
      "execution_count": null,
      "outputs": [
        {
          "output_type": "stream",
          "name": "stdout",
          "text": [
            "Model: \"sequential\"\n",
            "_________________________________________________________________\n",
            " Layer (type)                Output Shape              Param #   \n",
            "=================================================================\n",
            " conv2d (Conv2D)             (None, 44, 44, 32)        416       \n",
            "                                                                 \n",
            " activation (Activation)     (None, 44, 44, 32)        0         \n",
            "                                                                 \n",
            " max_pooling2d (MaxPooling2D  (None, 22, 22, 32)       0         \n",
            " )                                                               \n",
            "                                                                 \n",
            " conv2d_1 (Conv2D)           (None, 21, 21, 32)        4128      \n",
            "                                                                 \n",
            " activation_1 (Activation)   (None, 21, 21, 32)        0         \n",
            "                                                                 \n",
            " max_pooling2d_1 (MaxPooling  (None, 10, 10, 32)       0         \n",
            " 2D)                                                             \n",
            "                                                                 \n",
            " conv2d_2 (Conv2D)           (None, 9, 9, 64)          8256      \n",
            "                                                                 \n",
            " activation_2 (Activation)   (None, 9, 9, 64)          0         \n",
            "                                                                 \n",
            " max_pooling2d_2 (MaxPooling  (None, 4, 4, 64)         0         \n",
            " 2D)                                                             \n",
            "                                                                 \n",
            " flatten (Flatten)           (None, 1024)              0         \n",
            "                                                                 \n",
            " dense (Dense)               (None, 64)                65600     \n",
            "                                                                 \n",
            " activation_3 (Activation)   (None, 64)                0         \n",
            "                                                                 \n",
            " dropout (Dropout)           (None, 64)                0         \n",
            "                                                                 \n",
            " dense_1 (Dense)             (None, 82)                5330      \n",
            "                                                                 \n",
            " activation_4 (Activation)   (None, 82)                0         \n",
            "                                                                 \n",
            "=================================================================\n",
            "Total params: 83,730\n",
            "Trainable params: 83,730\n",
            "Non-trainable params: 0\n",
            "_________________________________________________________________\n",
            "Number of layers of our model :  15\n"
          ]
        }
      ]
    },
    {
      "cell_type": "markdown",
      "source": [
        "Adding another model"
      ],
      "metadata": {
        "id": "DcsVDNTFwrSS"
      }
    },
    {
      "cell_type": "code",
      "source": [
        "opt = Adam(learning_rate=LR, decay=LR / EPOCHS)"
      ],
      "metadata": {
        "id": "bsvgO1v76BUw"
      },
      "execution_count": null,
      "outputs": []
    },
    {
      "cell_type": "code",
      "source": [
        "# Compiling the model \n",
        "#import tensorflow.python.keras.optimizer_v2.adam.Adam\n",
        "#opt = RMSprop(lr=LR, rho=0.9, epsilon=None, decay=0.0)\n",
        "model.compile(loss='categorical_crossentropy',\n",
        "              optimizer=opt,\n",
        "              metrics=['accuracy']) "
      ],
      "metadata": {
        "id": "HD6kCJPV6BXm"
      },
      "execution_count": null,
      "outputs": []
    },
    {
      "cell_type": "code",
      "source": [
        "# data augmentation for training\n",
        "train_datagen = ImageDataGenerator(\n",
        "    rescale=1. / 255,\n",
        "    shear_range=0.0,\n",
        "    zoom_range=0.0,\n",
        "    featurewise_center=False,# set input mean to 0 over the dataset\n",
        "    samplewise_center=False,  # set each sample mean to 0\n",
        "    featurewise_std_normalization=False,  # divide inputs by std of dataset\n",
        "    samplewise_std_normalization=False,  # divide each input by its std\n",
        "    zca_whitening=False,  # apply ZCA whitening\n",
        "    rotation_range=0.0,  # randomly rotate images in the range (deg 0 to 180)\n",
        "    width_shift_range=0.0,  # randomly shift images horizontally\n",
        "    height_shift_range=0.0,  # randomly shift images vertically\n",
        "    horizontal_flip=False,  # randomly flip images\n",
        "    vertical_flip=False\n",
        "    )\n",
        "\n",
        "# data augmentation for testing\n",
        "test_datagen = ImageDataGenerator(rescale=1. / 255)"
      ],
      "metadata": {
        "id": "eY_5OHNQ6Fea"
      },
      "execution_count": null,
      "outputs": []
    },
    {
      "cell_type": "code",
      "source": [
        "train_generator = train_datagen.flow_from_directory(\n",
        "    train_data_dir,\n",
        "    target_size=(img_dim[0], img_dim[1]),\n",
        "    batch_size=BS,\n",
        "    class_mode='categorical')\n",
        "\n",
        "validation_generator = test_datagen.flow_from_directory(\n",
        "    test_data_dir,\n",
        "    target_size=(img_dim[0], img_dim[1]),\n",
        "    batch_size=BS,\n",
        "    class_mode='categorical')"
      ],
      "metadata": {
        "colab": {
          "base_uri": "https://localhost:8080/"
        },
        "id": "J-2gAFxI6Fhf",
        "outputId": "571d77a8-dbee-4370-9e8a-fa9e286d5aee"
      },
      "execution_count": null,
      "outputs": [
        {
          "output_type": "stream",
          "name": "stdout",
          "text": [
            "Found 263143 images belonging to 82 classes.\n",
            "Found 112831 images belonging to 82 classes.\n"
          ]
        }
      ]
    },
    {
      "cell_type": "code",
      "source": [
        "# Training\n",
        "history = model.fit(\n",
        "    train_generator,\n",
        "    steps_per_epoch=train_samples_nbr // BS,\n",
        "    epochs=EPOCHS,\n",
        "    validation_data=validation_generator,\n",
        "    validation_steps=test_samples_nbr // BS,\n",
        "    callbacks=[earlyStopping])"
      ],
      "metadata": {
        "colab": {
          "base_uri": "https://localhost:8080/"
        },
        "id": "flBGOehz6JFW",
        "outputId": "4276e9a2-7f9c-48fb-fdbf-82a3921c458b"
      },
      "execution_count": null,
      "outputs": [
        {
          "output_type": "stream",
          "name": "stdout",
          "text": [
            "Epoch 1/10\n",
            "2631/2631 [==============================] - ETA: 0s - loss: 1.4819 - accuracy: 0.6177WARNING:tensorflow:Early stopping conditioned on metric `val_acc` which is not available. Available metrics are: loss,accuracy,val_loss,val_accuracy\n",
            "2631/2631 [==============================] - 315s 119ms/step - loss: 1.4819 - accuracy: 0.6177 - val_loss: 0.5911 - val_accuracy: 0.8351\n",
            "Epoch 2/10\n",
            "2630/2631 [============================>.] - ETA: 0s - loss: 0.9577 - accuracy: 0.7339WARNING:tensorflow:Early stopping conditioned on metric `val_acc` which is not available. Available metrics are: loss,accuracy,val_loss,val_accuracy\n",
            "2631/2631 [==============================] - 192s 73ms/step - loss: 0.9577 - accuracy: 0.7339 - val_loss: 0.4732 - val_accuracy: 0.8655\n",
            "Epoch 3/10\n",
            "2630/2631 [============================>.] - ETA: 0s - loss: 0.8479 - accuracy: 0.7593WARNING:tensorflow:Early stopping conditioned on metric `val_acc` which is not available. Available metrics are: loss,accuracy,val_loss,val_accuracy\n",
            "2631/2631 [==============================] - 148s 56ms/step - loss: 0.8479 - accuracy: 0.7593 - val_loss: 0.4229 - val_accuracy: 0.8792\n",
            "Epoch 4/10\n",
            "2631/2631 [==============================] - ETA: 0s - loss: 0.7784 - accuracy: 0.7762WARNING:tensorflow:Early stopping conditioned on metric `val_acc` which is not available. Available metrics are: loss,accuracy,val_loss,val_accuracy\n",
            "2631/2631 [==============================] - 148s 56ms/step - loss: 0.7784 - accuracy: 0.7762 - val_loss: 0.4008 - val_accuracy: 0.8833\n",
            "Epoch 5/10\n",
            "2630/2631 [============================>.] - ETA: 0s - loss: 0.7272 - accuracy: 0.7899WARNING:tensorflow:Early stopping conditioned on metric `val_acc` which is not available. Available metrics are: loss,accuracy,val_loss,val_accuracy\n",
            "2631/2631 [==============================] - 149s 56ms/step - loss: 0.7271 - accuracy: 0.7899 - val_loss: 0.3714 - val_accuracy: 0.8913\n",
            "Epoch 6/10\n",
            "2631/2631 [==============================] - ETA: 0s - loss: 0.6900 - accuracy: 0.7998WARNING:tensorflow:Early stopping conditioned on metric `val_acc` which is not available. Available metrics are: loss,accuracy,val_loss,val_accuracy\n",
            "2631/2631 [==============================] - 147s 56ms/step - loss: 0.6900 - accuracy: 0.7998 - val_loss: 0.3456 - val_accuracy: 0.8995\n",
            "Epoch 7/10\n",
            "2630/2631 [============================>.] - ETA: 0s - loss: 0.6641 - accuracy: 0.8066WARNING:tensorflow:Early stopping conditioned on metric `val_acc` which is not available. Available metrics are: loss,accuracy,val_loss,val_accuracy\n",
            "2631/2631 [==============================] - 150s 57ms/step - loss: 0.6641 - accuracy: 0.8066 - val_loss: 0.3327 - val_accuracy: 0.9022\n",
            "Epoch 8/10\n",
            "2631/2631 [==============================] - ETA: 0s - loss: 0.6447 - accuracy: 0.8110WARNING:tensorflow:Early stopping conditioned on metric `val_acc` which is not available. Available metrics are: loss,accuracy,val_loss,val_accuracy\n",
            "2631/2631 [==============================] - 151s 58ms/step - loss: 0.6447 - accuracy: 0.8110 - val_loss: 0.3211 - val_accuracy: 0.9056\n",
            "Epoch 9/10\n",
            "2631/2631 [==============================] - ETA: 0s - loss: 0.6261 - accuracy: 0.8162WARNING:tensorflow:Early stopping conditioned on metric `val_acc` which is not available. Available metrics are: loss,accuracy,val_loss,val_accuracy\n",
            "2631/2631 [==============================] - 148s 56ms/step - loss: 0.6261 - accuracy: 0.8162 - val_loss: 0.3153 - val_accuracy: 0.9072\n",
            "Epoch 10/10\n",
            "2630/2631 [============================>.] - ETA: 0s - loss: 0.6131 - accuracy: 0.8185WARNING:tensorflow:Early stopping conditioned on metric `val_acc` which is not available. Available metrics are: loss,accuracy,val_loss,val_accuracy\n",
            "2631/2631 [==============================] - 144s 55ms/step - loss: 0.6131 - accuracy: 0.8185 - val_loss: 0.3103 - val_accuracy: 0.9087\n"
          ]
        }
      ]
    },
    {
      "cell_type": "markdown",
      "source": [
        "# Saving a model"
      ],
      "metadata": {
        "id": "45zMrccAJ9kp"
      }
    },
    {
      "cell_type": "code",
      "source": [
        "# plot_model(model, to_file='model_plot.png', show_shapes=True, show_layer_names=True);\n",
        "# save the model to disk\n",
        "print(\"[INFO] serializing network...\")\n",
        "#model.save(args[\"model\"])\n",
        "model.save(\"model.model\")\n",
        "model.save_weights(\"weights.h5\")\n",
        "#save the multi-label binarizer to disk\n",
        "print(\"[INFO] serializing label binarizer...\")\n",
        "# f = open(args[\"labelbin\"], \"wb\")\n",
        "f = open(\"labels.pickle\", \"wb\")\n",
        "f.write(pickle.dumps(mlb))\n",
        "f.close()\n"
      ],
      "metadata": {
        "id": "1gUjdmIH6JIU",
        "colab": {
          "base_uri": "https://localhost:8080/"
        },
        "outputId": "d04b65b4-e848-4059-8f74-f81f3cf83945"
      },
      "execution_count": null,
      "outputs": [
        {
          "output_type": "stream",
          "name": "stdout",
          "text": [
            "[INFO] serializing network...\n",
            "INFO:tensorflow:Assets written to: model.model/assets\n",
            "[INFO] serializing label binarizer...\n"
          ]
        }
      ]
    },
    {
      "cell_type": "code",
      "source": [
        "#probabilities = model.predict_generator(validation_generator,2000)\n",
        "\n",
        "# Evaluating the model / Get Validation accuracy on sample from validation set\n",
        "scores = model.evaluate(validation_generator,verbose=1) \n",
        "print(\"Accuracy = \", scores[1])\n"
      ],
      "metadata": {
        "id": "Ahzq_VFMJ71a",
        "colab": {
          "base_uri": "https://localhost:8080/"
        },
        "outputId": "e93cc90e-0cc0-4f59-93db-104f7c3984d5"
      },
      "execution_count": null,
      "outputs": [
        {
          "output_type": "stream",
          "name": "stdout",
          "text": [
            "1129/1129 [==============================] - 42s 38ms/step - loss: 0.3103 - accuracy: 0.9087\n",
            "Accuracy =  0.9087218642234802\n"
          ]
        }
      ]
    },
    {
      "cell_type": "code",
      "source": [
        "import matplotlib.pyplot as plt"
      ],
      "metadata": {
        "id": "y5InH5Z1J74Z"
      },
      "execution_count": null,
      "outputs": []
    },
    {
      "cell_type": "code",
      "source": [
        "\n",
        "\n",
        "# Plot training & validation accuracy values\n",
        "plt.plot(history.history['accuracy'])\n",
        "plt.plot(history.history['val_accuracy'])\n",
        "plt.title('Model accuracy')\n",
        "plt.ylabel('Accuracy')\n",
        "plt.xlabel('Epoch')\n",
        "plt.legend(['Train', 'Test'], loc='upper left')\n",
        "plt.savefig('model_accuary_plot.png')\n",
        "plt.show()"
      ],
      "metadata": {
        "id": "vFmyN25sKFjK",
        "colab": {
          "base_uri": "https://localhost:8080/",
          "height": 295
        },
        "outputId": "67560e62-8599-4f8b-acc4-e95be00854c1"
      },
      "execution_count": null,
      "outputs": [
        {
          "output_type": "display_data",
          "data": {
            "image/png": "[encoded data removed]",
            "text/plain": [
              "<Figure size 432x288 with 1 Axes>"
            ]
          },
          "metadata": {
            "needs_background": "light"
          }
        }
      ]
    },
    {
      "cell_type": "code",
      "source": [
        "# Plot training & validation loss values\n",
        "plt.plot(history.history['loss'])\n",
        "plt.plot(history.history['val_loss'])\n",
        "plt.title('Model loss')\n",
        "plt.ylabel('Loss')\n",
        "plt.xlabel('Epoch')\n",
        "plt.legend(['Train', 'Test'], loc='upper left')\n",
        "plt.savefig('model_loss_plot.png')\n",
        "plt.show()"
      ],
      "metadata": {
        "id": "DH6FL4fIKFlr",
        "colab": {
          "base_uri": "https://localhost:8080/",
          "height": 295
        },
        "outputId": "4ba68d22-1a54-479c-e9fe-624e13cb0fe8"
      },
      "execution_count": null,
      "outputs": [
        {
          "output_type": "display_data",
          "data": {
            "image/png": "[encoded data removed]",
            "text/plain": [
              "<Figure size 432x288 with 1 Axes>"
            ]
          },
          "metadata": {
            "needs_background": "light"
          }
        }
      ]
    },
    {
      "cell_type": "code",
      "source": [
        "# Train - Val plot\n",
        "fig1, ax_acc = plt.subplots()\n",
        "plt.plot(history.history['accuracy'])\n",
        "plt.plot(history.history['val_accuracy'])\n",
        "plt.xlabel('Epoch')\n",
        "plt.ylabel('Accuracy')\n",
        "plt.title('Model - Accuracy')\n",
        "plt.legend(['Training', 'Validation'], loc='lower right')\n",
        "plt.savefig(\"train_val_plot.png\")"
      ],
      "metadata": {
        "id": "eTxSSlePKJIs",
        "colab": {
          "base_uri": "https://localhost:8080/",
          "height": 295
        },
        "outputId": "d17b4957-6d17-4573-f4ea-2c910160d786"
      },
      "execution_count": null,
      "outputs": [
        {
          "output_type": "display_data",
          "data": {
            "image/png": "[encoded data removed]",
            "text/plain": [
              "<Figure size 432x288 with 1 Axes>"
            ]
          },
          "metadata": {
            "needs_background": "light"
          }
        }
      ]
    },
    {
      "cell_type": "markdown",
      "source": [
        "# Evaluation step"
      ],
      "metadata": {
        "id": "GJIq7p9DMTfT"
      }
    },
    {
      "cell_type": "code",
      "source": [
        "from keras.preprocessing.image import img_to_array\n",
        "from keras.models import load_model\n",
        "import matplotlib.pyplot as plt\n",
        "import numpy as np\n",
        "import argparse\n",
        "import imutils\n",
        "import pickle\n",
        "import cv2\n",
        "import os"
      ],
      "metadata": {
        "id": "80Wbjjo0MWxp"
      },
      "execution_count": 32,
      "outputs": []
    },
    {
      "cell_type": "code",
      "source": [
        "# load the image\n",
        "image = cv2.imread(\"/content/sample_data/lim.png\")\n",
        "print(image.shape)\n",
        "output = imutils.resize(image, width=400)\n",
        "plt.imshow(image) \n",
        "# pre-process the image for classification\n",
        "image = cv2.resize(image, (45, 45))\n",
        "image = image.astype(\"float\") / 255.0\n",
        "image = img_to_array(image)\n",
        "image = np.expand_dims(image, axis=0)\n",
        "print(\"after image size:\",image.shape)"
      ],
      "metadata": {
        "id": "_iHKB8WhMXP5",
        "colab": {
          "base_uri": "https://localhost:8080/",
          "height": 304
        },
        "outputId": "90515d48-6899-4a3e-8d9c-c8bacd3e2a79"
      },
      "execution_count": 78,
      "outputs": [
        {
          "output_type": "stream",
          "name": "stdout",
          "text": [
            "(57, 65, 3)\n",
            "after image size: (1, 45, 45, 3)\n"
          ]
        },
        {
          "output_type": "display_data",
          "data": {
            "image/png": "[encoded data removed]",
            "text/plain": [
              "<Figure size 432x288 with 1 Axes>"
            ]
          },
          "metadata": {
            "needs_background": "light"
          }
        }
      ]
    },
    {
      "cell_type": "code",
      "source": [
        "# load the trained convolutional neural network and the multi-label\n",
        "# binarizer\n",
        "print(\"[INFO] loading network...\")\n",
        "model = load_model(\"/content/sample_data/model.model\")\n",
        "#input=open(\"labels.pickle\", \"rb\").read()\n",
        "#mlb = pickle.loads(input)\n",
        "\n",
        "model_labels = pickle.loads(open(\"/content/sample_data/labels.pickle\", \"rb\").read())\n",
        "\n",
        "# loop over the indexes of the high confidence class labels"
      ],
      "metadata": {
        "id": "J4s-ud4fMXSt",
        "colab": {
          "base_uri": "https://localhost:8080/"
        },
        "outputId": "6d12e582-e81c-4b7c-e15e-a0640f597d84"
      },
      "execution_count": 47,
      "outputs": [
        {
          "output_type": "stream",
          "name": "stdout",
          "text": [
            "[INFO] loading network...\n"
          ]
        }
      ]
    },
    {
      "cell_type": "code",
      "source": [
        "# classify the input image then find the indexes of the two class\n",
        "# labels with the *largest* probability\n",
        "print(\"[INFO] classifying image...\")\n",
        "proba = model.predict(image)[0]\n",
        "idxs = np.argsort(proba)[::-1][:2]"
      ],
      "metadata": {
        "id": "XH2jcBRab5mV",
        "outputId": "525563a7-dbdc-461a-8c0c-19ccf17eecbf",
        "colab": {
          "base_uri": "https://localhost:8080/"
        }
      },
      "execution_count": 79,
      "outputs": [
        {
          "output_type": "stream",
          "name": "stdout",
          "text": [
            "[INFO] classifying image...\n"
          ]
        }
      ]
    },
    {
      "cell_type": "code",
      "source": [
        "mlb.classes_"
      ],
      "metadata": {
        "id": "hzjlyCoveTR5"
      },
      "execution_count": null,
      "outputs": []
    },
    {
      "cell_type": "code",
      "source": [
        "for (i, j) in enumerate(idxs):\n",
        "    # build the label and draw the label on the image\n",
        "    label = \"{}: {:.2f}%\".format(mlb.classes_[j], proba[j] * 100)\n",
        "    cv2.putText(output, label, (10, (i * 30) + 25), \n",
        "        cv2.FONT_HERSHEY_SIMPLEX, 0.7, (0, 255, 0), 2)"
      ],
      "metadata": {
        "id": "W4JCYwBmMzne"
      },
      "execution_count": 80,
      "outputs": []
    },
    {
      "cell_type": "code",
      "source": [
        "symbol_prob={}\n",
        "# show the probabilities for each of the individual labels\n",
        "for (label, p) in zip(mlb.classes_, proba):\n",
        "    #print(\"{}: {:.2f}%\".format(label, p * 100))\n",
        "    symbol_prob[label] = \"{:.2f}%\".format(p * 100)\n",
        "# show the output image\n",
        "#cv2.imshow(\"Output\", output)\n",
        "cv2.waitKey(0)\n",
        "\n",
        "highest_probability_match = sorted(symbol_prob.items(), key=lambda x: x[1], reverse=True)\n",
        "#print(highest_probability_match)\n",
        "#print(symbol_prob[mlb.classes_[proba.argmax(axis=-1)]])\n",
        "print (\"This Symbol is :\",' '.join(mlb.classes_[proba.argmax(axis=-1)]),\"with probability match \", symbol_prob[mlb.classes_[proba.argmax(axis=-1)]])\n",
        "#model.predict_classes(image)\n",
        "#result = \"This Symbol is : \".join(mlb.classes_[proba.argmax(axis=-1)])\n",
        "#print (\"The top 5 highest probailities are\\n \", highest_probability_match[:5])\n",
        "image = cv2.imread(\"/content/sample_data/lim.png\")\n",
        "plt.imshow(image) "
      ],
      "metadata": {
        "id": "brkmZ_bkMzqj",
        "colab": {
          "base_uri": "https://localhost:8080/",
          "height": 304
        },
        "outputId": "4522a71a-b3c4-446d-fa50-f9cdc55a6fca"
      },
      "execution_count": 82,
      "outputs": [
        {
          "output_type": "stream",
          "name": "stdout",
          "text": [
            "This Symbol is : l i m with probability match  99.99%\n"
          ]
        },
        {
          "output_type": "execute_result",
          "data": {
            "text/plain": [
              "<matplotlib.image.AxesImage at 0x7f146f9ce2d0>"
            ]
          },
          "metadata": {},
          "execution_count": 82
        },
        {
          "output_type": "display_data",
          "data": {
            "image/png": "[encoded data removed]",
            "text/plain": [
              "<Figure size 432x288 with 1 Axes>"
            ]
          },
          "metadata": {
            "needs_background": "light"
          }
        }
      ]
    },
    {
      "cell_type": "code",
      "source": [
        "import cv2\n",
        "from google.colab.patches import cv2_imshow\n",
        "\n",
        "font_scale=1.5\n",
        "font = cv2.FONT_HERSHEY_PLAIN\n",
        "cap=cv2.VideoCapture(\"/content/sample_data/video.mp4\")\n",
        "if not cap.isOpened():\n",
        "    cap=cv2.capturevideo(0)\n",
        "if not cap.isOpened():\n",
        "    raise IOError(\"Cannot open Video\")\n",
        "    \n",
        "    "
      ],
      "metadata": {
        "id": "OBQ2cRDkAq1N"
      },
      "execution_count": 72,
      "outputs": []
    },
    {
      "cell_type": "code",
      "source": [
        "cntr=0\n",
        "mode = 0\n",
        "count=0\n",
        "while cap.isOpened():\n",
        "  ret,frame=cap.read()\n",
        "  # wait for key and switch to mode\n",
        "  if not ret:\n",
        "        break\n",
        "  cntr = cntr+1\n",
        "  if((cntr%2) ==0):\n",
        "    print(\"inside\")\n",
        "    print(\"waiting for  reshape\")\n",
        "    img = cv2.resize(frame,(45,45),3)\n",
        "    print(img.shape)\n",
        "    #img = cv2.cvtColor(img, cv2.COLOR_BGR2GRAY)\n",
        "   \n",
        "    print(img.shape)\n",
        "     #image=image.reshape(45, 45)\n",
        "    print(\"image size= \",img.shape)\n",
        "    output = imutils.resize(img, width=400)\n",
        "     # pre-process the image for classification\n",
        "    image = cv2.resize(img, (45, 45),3)\n",
        "    image = image.astype(\"float\") / 255.0\n",
        "    image = img_to_array(image)\n",
        "    image = np.expand_dims(image, axis=0)\n",
        "    print(image.shape)\n",
        "    proba = model.predict(image)[0]\n",
        "    idxs = np.argsort(proba)[::-1][:2]\n",
        " \n",
        "    for (i, j) in enumerate(idxs):\n",
        "            # build the label and draw the label on the image\n",
        "      label = \"{}: {:.2f}%\".format(mlb.classes_[j], proba[j] * 100)\n",
        "      cv2.putText(output, label, (10, (i * 30) + 25), \n",
        "                   cv2.FONT_HERSHEY_SIMPLEX, 0.7, (0, 255, 0), 2)\n",
        "    symbol_prob={}\n",
        "        # show the probabilities for each of the individual labels\n",
        "    for (label, p) in zip(mlb.classes_, proba):\n",
        "            #print(\"{}: {:.2f}%\".format(label, p * 100))\n",
        "      symbol_prob[label] = \"{:.2f}%\".format(p * 100)\n",
        "\n",
        "    highest_probability_match = sorted(symbol_prob.items(), key=lambda x: x[1], reverse=True)\n",
        "    print (\"This Symbol is :\",' '.join(mlb.classes_[proba.argmax(axis=-1)]),\"with probability match \", highest_probability_match[0])\n",
        "    font = cv2.FONT_HERSHEY_COMPLEX\n",
        "    cv2.putText(frame,mlb.classes_[proba.argmax(axis=-1)],(0,50),font,1,(149,0,166),3)  #text,coordinate,font,size of text,color,thickness of font\n",
        "\n",
        "    #cv2.imshow(\"handwritten recognizarion Tutorials\",frame)\n",
        "    cv2_imshow(frame)\n",
        "\n",
        "    # Press Q on keyboard to  exit\n",
        "    if cv2.waitKey(10) & 0xFF == ord('q'):\n",
        "        break\n",
        "        \n",
        "# When everything done, release the capture\n",
        "cap.release()\n",
        "cv2.destroyAllWindows()\n"
      ],
      "metadata": {
        "id": "n1WCArLWR8tA",
        "outputId": "acb73ee4-a23d-491a-d06f-31bf8dc33dd2",
        "colab": {
          "base_uri": "https://localhost:8080/",
          "height": 1000
        }
      },
      "execution_count": 73,
      "outputs": [
        {
          "output_type": "stream",
          "name": "stdout",
          "text": [
            "inside\n",
            "waiting for  reshape\n",
            "(45, 45, 3)\n",
            "(45, 45, 3)\n",
            "image size=  (45, 45, 3)\n",
            "(1, 45, 45, 3)\n",
            "This Symbol is : 1 with probability match  ('!', '8.60%')\n"
          ]
        },
        {
          "output_type": "display_data",
          "data": {
            "image/png": "[encoded data removed]",
            "text/plain": [
              "<PIL.Image.Image image mode=RGB size=80x68 at 0x7F1470FA9290>"
            ]
          },
          "metadata": {}
        },
        {
          "output_type": "stream",
          "name": "stdout",
          "text": [
            "inside\n",
            "waiting for  reshape\n",
            "(45, 45, 3)\n",
            "(45, 45, 3)\n",
            "image size=  (45, 45, 3)\n",
            "(1, 45, 45, 3)\n",
            "This Symbol is : 1 with probability match  ('!', '8.60%')\n"
          ]
        },
        {
          "output_type": "display_data",
          "data": {
            "image/png": "[encoded data removed]",
            "text/plain": [
              "<PIL.Image.Image image mode=RGB size=80x68 at 0x7F14712F3210>"
            ]
          },
          "metadata": {}
        },
        {
          "output_type": "stream",
          "name": "stdout",
          "text": [
            "inside\n",
            "waiting for  reshape\n",
            "(45, 45, 3)\n",
            "(45, 45, 3)\n",
            "image size=  (45, 45, 3)\n",
            "(1, 45, 45, 3)\n",
            "This Symbol is : 1 with probability match  ('!', '8.60%')\n"
          ]
        },
        {
          "output_type": "display_data",
          "data": {
            "image/png": "[encoded data removed]",
            "text/plain": [
              "<PIL.Image.Image image mode=RGB size=80x68 at 0x7F147118FB10>"
            ]
          },
          "metadata": {}
        },
        {
          "output_type": "stream",
          "name": "stdout",
          "text": [
            "inside\n",
            "waiting for  reshape\n",
            "(45, 45, 3)\n",
            "(45, 45, 3)\n",
            "image size=  (45, 45, 3)\n",
            "(1, 45, 45, 3)\n",
            "This Symbol is : l with probability match  ('l', '66.69%')\n"
          ]
        },
        {
          "output_type": "display_data",
          "data": {
            "image/png": "[encoded data removed]",
            "text/plain": [
              "<PIL.Image.Image image mode=RGB size=80x68 at 0x7F1471B5B050>"
            ]
          },
          "metadata": {}
        },
        {
          "output_type": "stream",
          "name": "stdout",
          "text": [
            "inside\n",
            "waiting for  reshape\n",
            "(45, 45, 3)\n",
            "(45, 45, 3)\n",
            "image size=  (45, 45, 3)\n",
            "(1, 45, 45, 3)\n",
            "This Symbol is : l with probability match  ('l', '66.69%')\n"
          ]
        },
        {
          "output_type": "display_data",
          "data": {
            "image/png": "[encoded data removed]",
            "text/plain": [
              "<PIL.Image.Image image mode=RGB size=80x68 at 0x7F1470FA9350>"
            ]
          },
          "metadata": {}
        },
        {
          "output_type": "stream",
          "name": "stdout",
          "text": [
            "inside\n",
            "waiting for  reshape\n",
            "(45, 45, 3)\n",
            "(45, 45, 3)\n",
            "image size=  (45, 45, 3)\n",
            "(1, 45, 45, 3)\n",
            "This Symbol is : l with probability match  ('l', '66.69%')\n"
          ]
        },
        {
          "output_type": "display_data",
          "data": {
            "image/png": "[encoded data removed]",
            "text/plain": [
              "<PIL.Image.Image image mode=RGB size=80x68 at 0x7F1471B5B810>"
            ]
          },
          "metadata": {}
        },
        {
          "output_type": "stream",
          "name": "stdout",
          "text": [
            "inside\n",
            "waiting for  reshape\n",
            "(45, 45, 3)\n",
            "(45, 45, 3)\n",
            "image size=  (45, 45, 3)\n",
            "(1, 45, 45, 3)\n",
            "This Symbol is : l with probability match  ('l', '66.69%')\n"
          ]
        },
        {
          "output_type": "display_data",
          "data": {
            "image/png": "[encoded data removed]",
            "text/plain": [
              "<PIL.Image.Image image mode=RGB size=80x68 at 0x7F146F9E2110>"
            ]
          },
          "metadata": {}
        },
        {
          "output_type": "stream",
          "name": "stdout",
          "text": [
            "inside\n",
            "waiting for  reshape\n",
            "(45, 45, 3)\n",
            "(45, 45, 3)\n",
            "image size=  (45, 45, 3)\n",
            "(1, 45, 45, 3)\n",
            "This Symbol is : 1 with probability match  ('1', '71.39%')\n"
          ]
        },
        {
          "output_type": "display_data",
          "data": {
            "image/png": "[encoded data removed]",
            "text/plain": [
              "<PIL.Image.Image image mode=RGB size=80x68 at 0x7F147129E210>"
            ]
          },
          "metadata": {}
        },
        {
          "output_type": "stream",
          "name": "stdout",
          "text": [
            "inside\n",
            "waiting for  reshape\n",
            "(45, 45, 3)\n",
            "(45, 45, 3)\n",
            "image size=  (45, 45, 3)\n",
            "(1, 45, 45, 3)\n",
            "This Symbol is : 1 with probability match  ('1', '71.39%')\n"
          ]
        },
        {
          "output_type": "display_data",
          "data": {
            "image/png": "[encoded data removed]",
            "text/plain": [
              "<PIL.Image.Image image mode=RGB size=80x68 at 0x7F1470F03C10>"
            ]
          },
          "metadata": {}
        },
        {
          "output_type": "stream",
          "name": "stdout",
          "text": [
            "inside\n",
            "waiting for  reshape\n",
            "(45, 45, 3)\n",
            "(45, 45, 3)\n",
            "image size=  (45, 45, 3)\n",
            "(1, 45, 45, 3)\n",
            "This Symbol is : 1 with probability match  ('1', '71.39%')\n"
          ]
        },
        {
          "output_type": "display_data",
          "data": {
            "image/png": "[encoded data removed]",
            "text/plain": [
              "<PIL.Image.Image image mode=RGB size=80x68 at 0x7F1470EFF910>"
            ]
          },
          "metadata": {}
        },
        {
          "output_type": "stream",
          "name": "stdout",
          "text": [
            "inside\n",
            "waiting for  reshape\n",
            "(45, 45, 3)\n",
            "(45, 45, 3)\n",
            "image size=  (45, 45, 3)\n",
            "(1, 45, 45, 3)\n",
            "This Symbol is : 1 with probability match  ('1', '71.39%')\n"
          ]
        },
        {
          "output_type": "display_data",
          "data": {
            "image/png": "[encoded data removed]",
            "text/plain": [
              "<PIL.Image.Image image mode=RGB size=80x68 at 0x7F1470F1FE10>"
            ]
          },
          "metadata": {}
        },
        {
          "output_type": "stream",
          "name": "stdout",
          "text": [
            "inside\n",
            "waiting for  reshape\n",
            "(45, 45, 3)\n",
            "(45, 45, 3)\n",
            "image size=  (45, 45, 3)\n",
            "(1, 45, 45, 3)\n",
            "This Symbol is : i with probability match  ('j', '9.03%')\n"
          ]
        },
        {
          "output_type": "display_data",
          "data": {
            "image/png": "[encoded data removed]",
            "text/plain": [
              "<PIL.Image.Image image mode=RGB size=80x68 at 0x7F1470F03B10>"
            ]
          },
          "metadata": {}
        },
        {
          "output_type": "stream",
          "name": "stdout",
          "text": [
            "inside\n",
            "waiting for  reshape\n",
            "(45, 45, 3)\n",
            "(45, 45, 3)\n",
            "image size=  (45, 45, 3)\n",
            "(1, 45, 45, 3)\n",
            "This Symbol is : i with probability match  ('j', '9.03%')\n"
          ]
        },
        {
          "output_type": "display_data",
          "data": {
            "image/png": "[encoded data removed]",
            "text/plain": [
              "<PIL.Image.Image image mode=RGB size=80x68 at 0x7F1471C0B050>"
            ]
          },
          "metadata": {}
        },
        {
          "output_type": "stream",
          "name": "stdout",
          "text": [
            "inside\n",
            "waiting for  reshape\n",
            "(45, 45, 3)\n",
            "(45, 45, 3)\n",
            "image size=  (45, 45, 3)\n",
            "(1, 45, 45, 3)\n",
            "This Symbol is : i with probability match  ('j', '9.03%')\n"
          ]
        },
        {
          "output_type": "display_data",
          "data": {
            "image/png": "[encoded data removed]",
            "text/plain": [
              "<PIL.Image.Image image mode=RGB size=80x68 at 0x7F147118D190>"
            ]
          },
          "metadata": {}
        },
        {
          "output_type": "stream",
          "name": "stdout",
          "text": [
            "inside\n",
            "waiting for  reshape\n",
            "(45, 45, 3)\n",
            "(45, 45, 3)\n",
            "image size=  (45, 45, 3)\n",
            "(1, 45, 45, 3)\n",
            "This Symbol is : - with probability match  ('-', '63.27%')\n"
          ]
        },
        {
          "output_type": "display_data",
          "data": {
            "image/png": "[encoded data removed]",
            "text/plain": [
              "<PIL.Image.Image image mode=RGB size=80x68 at 0x7F147109C750>"
            ]
          },
          "metadata": {}
        },
        {
          "output_type": "stream",
          "name": "stdout",
          "text": [
            "inside\n",
            "waiting for  reshape\n",
            "(45, 45, 3)\n",
            "(45, 45, 3)\n",
            "image size=  (45, 45, 3)\n",
            "(1, 45, 45, 3)\n",
            "This Symbol is : - with probability match  ('-', '66.53%')\n"
          ]
        },
        {
          "output_type": "display_data",
          "data": {
            "image/png": "[encoded data removed]",
            "text/plain": [
              "<PIL.Image.Image image mode=RGB size=80x68 at 0x7F1475866690>"
            ]
          },
          "metadata": {}
        },
        {
          "output_type": "stream",
          "name": "stdout",
          "text": [
            "inside\n",
            "waiting for  reshape\n",
            "(45, 45, 3)\n",
            "(45, 45, 3)\n",
            "image size=  (45, 45, 3)\n",
            "(1, 45, 45, 3)\n",
            "This Symbol is : T with probability match  ('T', '86.88%')\n"
          ]
        },
        {
          "output_type": "display_data",
          "data": {
            "image/png": "[encoded data removed]",
            "text/plain": [
              "<PIL.Image.Image image mode=RGB size=80x68 at 0x7F1471010410>"
            ]
          },
          "metadata": {}
        },
        {
          "output_type": "stream",
          "name": "stdout",
          "text": [
            "inside\n",
            "waiting for  reshape\n",
            "(45, 45, 3)\n",
            "(45, 45, 3)\n",
            "image size=  (45, 45, 3)\n",
            "(1, 45, 45, 3)\n",
            "This Symbol is : T with probability match  ('T', '87.36%')\n"
          ]
        },
        {
          "output_type": "display_data",
          "data": {
            "image/png": "[encoded data removed]",
            "text/plain": [
              "<PIL.Image.Image image mode=RGB size=80x68 at 0x7F147127B3D0>"
            ]
          },
          "metadata": {}
        },
        {
          "output_type": "stream",
          "name": "stdout",
          "text": [
            "inside\n",
            "waiting for  reshape\n",
            "(45, 45, 3)\n",
            "(45, 45, 3)\n",
            "image size=  (45, 45, 3)\n",
            "(1, 45, 45, 3)\n",
            "This Symbol is : i with probability match  ('div', '3.58%')\n"
          ]
        },
        {
          "output_type": "display_data",
          "data": {
            "image/png": "[encoded data removed]",
            "text/plain": [
              "<PIL.Image.Image image mode=RGB size=80x68 at 0x7F1470F7AA50>"
            ]
          },
          "metadata": {}
        },
        {
          "output_type": "stream",
          "name": "stdout",
          "text": [
            "inside\n",
            "waiting for  reshape\n",
            "(45, 45, 3)\n",
            "(45, 45, 3)\n",
            "image size=  (45, 45, 3)\n",
            "(1, 45, 45, 3)\n",
            "This Symbol is : i with probability match  ('div', '3.31%')\n"
          ]
        },
        {
          "output_type": "display_data",
          "data": {
            "image/png": "[encoded data removed]",
            "text/plain": [
              "<PIL.Image.Image image mode=RGB size=80x68 at 0x7F1470ED5210>"
            ]
          },
          "metadata": {}
        },
        {
          "output_type": "stream",
          "name": "stdout",
          "text": [
            "inside\n",
            "waiting for  reshape\n",
            "(45, 45, 3)\n",
            "(45, 45, 3)\n",
            "image size=  (45, 45, 3)\n",
            "(1, 45, 45, 3)\n",
            "This Symbol is : i with probability match  ('R', '9.30%')\n"
          ]
        },
        {
          "output_type": "display_data",
          "data": {
            "image/png": "[encoded data removed]",
            "text/plain": [
              "<PIL.Image.Image image mode=RGB size=80x68 at 0x7F14711737D0>"
            ]
          },
          "metadata": {}
        },
        {
          "output_type": "stream",
          "name": "stdout",
          "text": [
            "inside\n",
            "waiting for  reshape\n",
            "(45, 45, 3)\n",
            "(45, 45, 3)\n",
            "image size=  (45, 45, 3)\n",
            "(1, 45, 45, 3)\n",
            "This Symbol is : i with probability match  ('R', '9.30%')\n"
          ]
        },
        {
          "output_type": "display_data",
          "data": {
            "image/png": "[encoded data removed]",
            "text/plain": [
              "<PIL.Image.Image image mode=RGB size=80x68 at 0x7F1470ED6390>"
            ]
          },
          "metadata": {}
        },
        {
          "output_type": "stream",
          "name": "stdout",
          "text": [
            "inside\n",
            "waiting for  reshape\n",
            "(45, 45, 3)\n",
            "(45, 45, 3)\n",
            "image size=  (45, 45, 3)\n",
            "(1, 45, 45, 3)\n",
            "This Symbol is : T with probability match  ('T', '81.97%')\n"
          ]
        },
        {
          "output_type": "display_data",
          "data": {
            "image/png": "[encoded data removed]",
            "text/plain": [
              "<PIL.Image.Image image mode=RGB size=80x68 at 0x7F1470FC7F90>"
            ]
          },
          "metadata": {}
        },
        {
          "output_type": "stream",
          "name": "stdout",
          "text": [
            "inside\n",
            "waiting for  reshape\n",
            "(45, 45, 3)\n",
            "(45, 45, 3)\n",
            "image size=  (45, 45, 3)\n",
            "(1, 45, 45, 3)\n",
            "This Symbol is : T with probability match  ('T', '81.97%')\n"
          ]
        },
        {
          "output_type": "display_data",
          "data": {
            "image/png": "[encoded data removed]",
            "text/plain": [
              "<PIL.Image.Image image mode=RGB size=80x68 at 0x7F1470F18790>"
            ]
          },
          "metadata": {}
        },
        {
          "output_type": "stream",
          "name": "stdout",
          "text": [
            "inside\n",
            "waiting for  reshape\n",
            "(45, 45, 3)\n",
            "(45, 45, 3)\n",
            "image size=  (45, 45, 3)\n",
            "(1, 45, 45, 3)\n",
            "This Symbol is : i with probability match  ('i', '82.43%')\n"
          ]
        },
        {
          "output_type": "display_data",
          "data": {
            "image/png": "[encoded data removed]",
            "text/plain": [
              "<PIL.Image.Image image mode=RGB size=80x68 at 0x7F147110E510>"
            ]
          },
          "metadata": {}
        },
        {
          "output_type": "stream",
          "name": "stdout",
          "text": [
            "inside\n",
            "waiting for  reshape\n",
            "(45, 45, 3)\n",
            "(45, 45, 3)\n",
            "image size=  (45, 45, 3)\n",
            "(1, 45, 45, 3)\n",
            "This Symbol is : i with probability match  ('i', '82.43%')\n"
          ]
        },
        {
          "output_type": "display_data",
          "data": {
            "image/png": "[encoded data removed]",
            "text/plain": [
              "<PIL.Image.Image image mode=RGB size=80x68 at 0x7F1470E86150>"
            ]
          },
          "metadata": {}
        },
        {
          "output_type": "stream",
          "name": "stdout",
          "text": [
            "inside\n",
            "waiting for  reshape\n",
            "(45, 45, 3)\n",
            "(45, 45, 3)\n",
            "image size=  (45, 45, 3)\n",
            "(1, 45, 45, 3)\n",
            "This Symbol is : = with probability match  ('=', '98.96%')\n"
          ]
        },
        {
          "output_type": "display_data",
          "data": {
            "image/png": "[encoded data removed]",
            "text/plain": [
              "<PIL.Image.Image image mode=RGB size=80x68 at 0x7F1471231BD0>"
            ]
          },
          "metadata": {}
        },
        {
          "output_type": "stream",
          "name": "stdout",
          "text": [
            "inside\n",
            "waiting for  reshape\n",
            "(45, 45, 3)\n",
            "(45, 45, 3)\n",
            "image size=  (45, 45, 3)\n",
            "(1, 45, 45, 3)\n",
            "This Symbol is : = with probability match  ('=', '98.96%')\n"
          ]
        },
        {
          "output_type": "display_data",
          "data": {
            "image/png": "[encoded data removed]",
            "text/plain": [
              "<PIL.Image.Image image mode=RGB size=80x68 at 0x7F1470E7D910>"
            ]
          },
          "metadata": {}
        },
        {
          "output_type": "stream",
          "name": "stdout",
          "text": [
            "inside\n",
            "waiting for  reshape\n",
            "(45, 45, 3)\n",
            "(45, 45, 3)\n",
            "image size=  (45, 45, 3)\n",
            "(1, 45, 45, 3)\n",
            "This Symbol is : N with probability match  ('N', '70.93%')\n"
          ]
        },
        {
          "output_type": "display_data",
          "data": {
            "image/png": "[encoded data removed]",
            "text/plain": [
              "<PIL.Image.Image image mode=RGB size=80x68 at 0x7F14710BBC90>"
            ]
          },
          "metadata": {}
        },
        {
          "output_type": "stream",
          "name": "stdout",
          "text": [
            "inside\n",
            "waiting for  reshape\n",
            "(45, 45, 3)\n",
            "(45, 45, 3)\n",
            "image size=  (45, 45, 3)\n",
            "(1, 45, 45, 3)\n",
            "This Symbol is : N with probability match  ('N', '73.96%')\n"
          ]
        },
        {
          "output_type": "display_data",
          "data": {
            "image/png": "[encoded data removed]",
            "text/plain": [
              "<PIL.Image.Image image mode=RGB size=80x68 at 0x7F1471231D50>"
            ]
          },
          "metadata": {}
        },
        {
          "output_type": "stream",
          "name": "stdout",
          "text": [
            "inside\n",
            "waiting for  reshape\n",
            "(45, 45, 3)\n",
            "(45, 45, 3)\n",
            "image size=  (45, 45, 3)\n",
            "(1, 45, 45, 3)\n",
            "This Symbol is : A with probability match  ('A', '55.87%')\n"
          ]
        },
        {
          "output_type": "display_data",
          "data": {
            "image/png": "[encoded data removed]",
            "text/plain": [
              "<PIL.Image.Image image mode=RGB size=80x68 at 0x7F147100D3D0>"
            ]
          },
          "metadata": {}
        },
        {
          "output_type": "stream",
          "name": "stdout",
          "text": [
            "inside\n",
            "waiting for  reshape\n",
            "(45, 45, 3)\n",
            "(45, 45, 3)\n",
            "image size=  (45, 45, 3)\n",
            "(1, 45, 45, 3)\n",
            "This Symbol is : A with probability match  ('A', '55.72%')\n"
          ]
        },
        {
          "output_type": "display_data",
          "data": {
            "image/png": "[encoded data removed]",
            "text/plain": [
              "<PIL.Image.Image image mode=RGB size=80x68 at 0x7F1470F45E90>"
            ]
          },
          "metadata": {}
        },
        {
          "output_type": "stream",
          "name": "stdout",
          "text": [
            "inside\n",
            "waiting for  reshape\n",
            "(45, 45, 3)\n",
            "(45, 45, 3)\n",
            "image size=  (45, 45, 3)\n",
            "(1, 45, 45, 3)\n",
            "This Symbol is : 1 with probability match  ('1', '76.99%')\n"
          ]
        },
        {
          "output_type": "display_data",
          "data": {
            "image/png": "[encoded data removed]",
            "text/plain": [
              "<PIL.Image.Image image mode=RGB size=80x68 at 0x7F1470F80590>"
            ]
          },
          "metadata": {}
        },
        {
          "output_type": "stream",
          "name": "stdout",
          "text": [
            "inside\n",
            "waiting for  reshape\n",
            "(45, 45, 3)\n",
            "(45, 45, 3)\n",
            "image size=  (45, 45, 3)\n",
            "(1, 45, 45, 3)\n",
            "This Symbol is : 1 with probability match  ('1', '76.99%')\n"
          ]
        },
        {
          "output_type": "display_data",
          "data": {
            "image/png": "[encoded data removed]",
            "text/plain": [
              "<PIL.Image.Image image mode=RGB size=80x68 at 0x7F1470EB1710>"
            ]
          },
          "metadata": {}
        },
        {
          "output_type": "stream",
          "name": "stdout",
          "text": [
            "inside\n",
            "waiting for  reshape\n",
            "(45, 45, 3)\n",
            "(45, 45, 3)\n",
            "image size=  (45, 45, 3)\n",
            "(1, 45, 45, 3)\n",
            "This Symbol is : H with probability match  ('H', '49.86%')\n"
          ]
        },
        {
          "output_type": "display_data",
          "data": {
            "image/png": "[encoded data removed]",
            "text/plain": [
              "<PIL.Image.Image image mode=RGB size=80x68 at 0x7F14712DF850>"
            ]
          },
          "metadata": {}
        },
        {
          "output_type": "stream",
          "name": "stdout",
          "text": [
            "inside\n",
            "waiting for  reshape\n",
            "(45, 45, 3)\n",
            "(45, 45, 3)\n",
            "image size=  (45, 45, 3)\n",
            "(1, 45, 45, 3)\n",
            "This Symbol is : H with probability match  ('H', '49.29%')\n"
          ]
        },
        {
          "output_type": "display_data",
          "data": {
            "image/png": "[encoded data removed]",
            "text/plain": [
              "<PIL.Image.Image image mode=RGB size=80x68 at 0x7F1470E47310>"
            ]
          },
          "metadata": {}
        },
        {
          "output_type": "stream",
          "name": "stdout",
          "text": [
            "inside\n",
            "waiting for  reshape\n",
            "(45, 45, 3)\n",
            "(45, 45, 3)\n",
            "image size=  (45, 45, 3)\n",
            "(1, 45, 45, 3)\n",
            "This Symbol is : k with probability match  ('R', '6.92%')\n"
          ]
        },
        {
          "output_type": "display_data",
          "data": {
            "image/png": "[encoded data removed]",
            "text/plain": [
              "<PIL.Image.Image image mode=RGB size=80x68 at 0x7F1470E47F90>"
            ]
          },
          "metadata": {}
        },
        {
          "output_type": "stream",
          "name": "stdout",
          "text": [
            "inside\n",
            "waiting for  reshape\n",
            "(45, 45, 3)\n",
            "(45, 45, 3)\n",
            "image size=  (45, 45, 3)\n",
            "(1, 45, 45, 3)\n",
            "This Symbol is : k with probability match  ('R', '6.96%')\n"
          ]
        },
        {
          "output_type": "display_data",
          "data": {
            "image/png": "[encoded data removed]",
            "text/plain": [
              "<PIL.Image.Image image mode=RGB size=80x68 at 0x7F1470E56510>"
            ]
          },
          "metadata": {}
        },
        {
          "output_type": "stream",
          "name": "stdout",
          "text": [
            "inside\n",
            "waiting for  reshape\n",
            "(45, 45, 3)\n",
            "(45, 45, 3)\n",
            "image size=  (45, 45, 3)\n",
            "(1, 45, 45, 3)\n",
            "This Symbol is : [ with probability match  ('[', '66.26%')\n"
          ]
        },
        {
          "output_type": "display_data",
          "data": {
            "image/png": "[encoded data removed]",
            "text/plain": [
              "<PIL.Image.Image image mode=RGB size=80x68 at 0x7F1470E7DD50>"
            ]
          },
          "metadata": {}
        },
        {
          "output_type": "stream",
          "name": "stdout",
          "text": [
            "inside\n",
            "waiting for  reshape\n",
            "(45, 45, 3)\n",
            "(45, 45, 3)\n",
            "image size=  (45, 45, 3)\n",
            "(1, 45, 45, 3)\n",
            "This Symbol is : t a n with probability match  ('tan', '57.62%')\n"
          ]
        },
        {
          "output_type": "display_data",
          "data": {
            "image/png": "[encoded data removed]",
            "text/plain": [
              "<PIL.Image.Image image mode=RGB size=80x68 at 0x7F1470E47550>"
            ]
          },
          "metadata": {}
        },
        {
          "output_type": "stream",
          "name": "stdout",
          "text": [
            "inside\n",
            "waiting for  reshape\n",
            "(45, 45, 3)\n",
            "(45, 45, 3)\n",
            "image size=  (45, 45, 3)\n",
            "(1, 45, 45, 3)\n",
            "This Symbol is : t a n with probability match  ('tan', '55.56%')\n"
          ]
        },
        {
          "output_type": "display_data",
          "data": {
            "image/png": "[encoded data removed]",
            "text/plain": [
              "<PIL.Image.Image image mode=RGB size=80x68 at 0x7F1470FE6310>"
            ]
          },
          "metadata": {}
        },
        {
          "output_type": "stream",
          "name": "stdout",
          "text": [
            "inside\n",
            "waiting for  reshape\n",
            "(45, 45, 3)\n",
            "(45, 45, 3)\n",
            "image size=  (45, 45, 3)\n",
            "(1, 45, 45, 3)\n",
            "This Symbol is : d with probability match  ('d', '96.73%')\n"
          ]
        },
        {
          "output_type": "display_data",
          "data": {
            "image/png": "[encoded data removed]",
            "text/plain": [
              "<PIL.Image.Image image mode=RGB size=80x68 at 0x7F1471B5AE10>"
            ]
          },
          "metadata": {}
        },
        {
          "output_type": "stream",
          "name": "stdout",
          "text": [
            "inside\n",
            "waiting for  reshape\n",
            "(45, 45, 3)\n",
            "(45, 45, 3)\n",
            "image size=  (45, 45, 3)\n",
            "(1, 45, 45, 3)\n",
            "This Symbol is : d with probability match  ('d', '96.66%')\n"
          ]
        },
        {
          "output_type": "display_data",
          "data": {
            "image/png": "[encoded data removed]",
            "text/plain": [
              "<PIL.Image.Image image mode=RGB size=80x68 at 0x7F147120DD90>"
            ]
          },
          "metadata": {}
        },
        {
          "output_type": "stream",
          "name": "stdout",
          "text": [
            "inside\n",
            "waiting for  reshape\n",
            "(45, 45, 3)\n",
            "(45, 45, 3)\n",
            "image size=  (45, 45, 3)\n",
            "(1, 45, 45, 3)\n",
            "This Symbol is : d with probability match  ('d', '73.74%')\n"
          ]
        },
        {
          "output_type": "display_data",
          "data": {
            "image/png": "[encoded data removed]",
            "text/plain": [
              "<PIL.Image.Image image mode=RGB size=80x68 at 0x7F1470E11C10>"
            ]
          },
          "metadata": {}
        },
        {
          "output_type": "stream",
          "name": "stdout",
          "text": [
            "inside\n",
            "waiting for  reshape\n",
            "(45, 45, 3)\n",
            "(45, 45, 3)\n",
            "image size=  (45, 45, 3)\n",
            "(1, 45, 45, 3)\n",
            "This Symbol is : d with probability match  ('d', '74.74%')\n"
          ]
        },
        {
          "output_type": "display_data",
          "data": {
            "image/png": "[encoded data removed]",
            "text/plain": [
              "<PIL.Image.Image image mode=RGB size=80x68 at 0x7F1470E0D910>"
            ]
          },
          "metadata": {}
        },
        {
          "output_type": "stream",
          "name": "stdout",
          "text": [
            "inside\n",
            "waiting for  reshape\n",
            "(45, 45, 3)\n",
            "(45, 45, 3)\n",
            "image size=  (45, 45, 3)\n",
            "(1, 45, 45, 3)\n",
            "This Symbol is : i with probability match  ('i', '72.91%')\n"
          ]
        },
        {
          "output_type": "display_data",
          "data": {
            "image/png": "[encoded data removed]",
            "text/plain": [
              "<PIL.Image.Image image mode=RGB size=80x68 at 0x7F14710109D0>"
            ]
          },
          "metadata": {}
        },
        {
          "output_type": "stream",
          "name": "stdout",
          "text": [
            "inside\n",
            "waiting for  reshape\n",
            "(45, 45, 3)\n",
            "(45, 45, 3)\n",
            "image size=  (45, 45, 3)\n",
            "(1, 45, 45, 3)\n",
            "This Symbol is : p with probability match  ('p', '92.80%')\n"
          ]
        },
        {
          "output_type": "display_data",
          "data": {
            "image/png": "[encoded data removed]",
            "text/plain": [
              "<PIL.Image.Image image mode=RGB size=80x68 at 0x7F14713276D0>"
            ]
          },
          "metadata": {}
        },
        {
          "output_type": "stream",
          "name": "stdout",
          "text": [
            "inside\n",
            "waiting for  reshape\n",
            "(45, 45, 3)\n",
            "(45, 45, 3)\n",
            "image size=  (45, 45, 3)\n",
            "(1, 45, 45, 3)\n",
            "This Symbol is : p with probability match  ('p', '92.78%')\n"
          ]
        },
        {
          "output_type": "display_data",
          "data": {
            "image/png": "[encoded data removed]",
            "text/plain": [
              "<PIL.Image.Image image mode=RGB size=80x68 at 0x7F1470E717D0>"
            ]
          },
          "metadata": {}
        },
        {
          "output_type": "stream",
          "name": "stdout",
          "text": [
            "inside\n",
            "waiting for  reshape\n",
            "(45, 45, 3)\n",
            "(45, 45, 3)\n",
            "image size=  (45, 45, 3)\n",
            "(1, 45, 45, 3)\n",
            "This Symbol is : k with probability match  ('G', '3.33%')\n"
          ]
        },
        {
          "output_type": "display_data",
          "data": {
            "image/png": "[encoded data removed]",
            "text/plain": [
              "<PIL.Image.Image image mode=RGB size=80x68 at 0x7F14710DEA90>"
            ]
          },
          "metadata": {}
        },
        {
          "output_type": "stream",
          "name": "stdout",
          "text": [
            "inside\n",
            "waiting for  reshape\n",
            "(45, 45, 3)\n",
            "(45, 45, 3)\n",
            "image size=  (45, 45, 3)\n",
            "(1, 45, 45, 3)\n",
            "This Symbol is : k with probability match  ('G', '3.25%')\n"
          ]
        },
        {
          "output_type": "display_data",
          "data": {
            "image/png": "[encoded data removed]",
            "text/plain": [
              "<PIL.Image.Image image mode=RGB size=80x68 at 0x7F14711AC910>"
            ]
          },
          "metadata": {}
        },
        {
          "output_type": "stream",
          "name": "stdout",
          "text": [
            "inside\n",
            "waiting for  reshape\n",
            "(45, 45, 3)\n",
            "(45, 45, 3)\n",
            "image size=  (45, 45, 3)\n",
            "(1, 45, 45, 3)\n",
            "This Symbol is : i with probability match  ('i', '52.60%')\n"
          ]
        },
        {
          "output_type": "display_data",
          "data": {
            "image/png": "[encoded data removed]",
            "text/plain": [
              "<PIL.Image.Image image mode=RGB size=80x68 at 0x7F147124F650>"
            ]
          },
          "metadata": {}
        },
        {
          "output_type": "stream",
          "name": "stdout",
          "text": [
            "inside\n",
            "waiting for  reshape\n",
            "(45, 45, 3)\n",
            "(45, 45, 3)\n",
            "image size=  (45, 45, 3)\n",
            "(1, 45, 45, 3)\n",
            "This Symbol is : i with probability match  ('i', '52.60%')\n"
          ]
        },
        {
          "output_type": "display_data",
          "data": {
            "image/png": "[encoded data removed]",
            "text/plain": [
              "<PIL.Image.Image image mode=RGB size=80x68 at 0x7F1470FC3110>"
            ]
          },
          "metadata": {}
        },
        {
          "output_type": "stream",
          "name": "stdout",
          "text": [
            "inside\n",
            "waiting for  reshape\n",
            "(45, 45, 3)\n",
            "(45, 45, 3)\n",
            "image size=  (45, 45, 3)\n",
            "(1, 45, 45, 3)\n",
            "This Symbol is : f with probability match  ('f', '99.71%')\n"
          ]
        },
        {
          "output_type": "display_data",
          "data": {
            "image/png": "[encoded data removed]",
            "text/plain": [
              "<PIL.Image.Image image mode=RGB size=80x68 at 0x7F1470FC7B10>"
            ]
          },
          "metadata": {}
        },
        {
          "output_type": "stream",
          "name": "stdout",
          "text": [
            "inside\n",
            "waiting for  reshape\n",
            "(45, 45, 3)\n",
            "(45, 45, 3)\n",
            "image size=  (45, 45, 3)\n",
            "(1, 45, 45, 3)\n",
            "This Symbol is : f with probability match  ('f', '99.71%')\n"
          ]
        },
        {
          "output_type": "display_data",
          "data": {
            "image/png": "[encoded data removed]",
            "text/plain": [
              "<PIL.Image.Image image mode=RGB size=80x68 at 0x7F14710ECD90>"
            ]
          },
          "metadata": {}
        },
        {
          "output_type": "stream",
          "name": "stdout",
          "text": [
            "inside\n",
            "waiting for  reshape\n",
            "(45, 45, 3)\n",
            "(45, 45, 3)\n",
            "image size=  (45, 45, 3)\n",
            "(1, 45, 45, 3)\n",
            "This Symbol is : 4 with probability match  ('4', '78.24%')\n"
          ]
        },
        {
          "output_type": "display_data",
          "data": {
            "image/png": "[encoded data removed]",
            "text/plain": [
              "<PIL.Image.Image image mode=RGB size=80x68 at 0x7F1471272ED0>"
            ]
          },
          "metadata": {}
        },
        {
          "output_type": "stream",
          "name": "stdout",
          "text": [
            "inside\n",
            "waiting for  reshape\n",
            "(45, 45, 3)\n",
            "(45, 45, 3)\n",
            "image size=  (45, 45, 3)\n",
            "(1, 45, 45, 3)\n",
            "This Symbol is : 4 with probability match  ('mu', '8.19%')\n"
          ]
        },
        {
          "output_type": "display_data",
          "data": {
            "image/png": "[encoded data removed]",
            "text/plain": [
              "<PIL.Image.Image image mode=RGB size=80x68 at 0x7F146F9F2A10>"
            ]
          },
          "metadata": {}
        },
        {
          "output_type": "stream",
          "name": "stdout",
          "text": [
            "inside\n",
            "waiting for  reshape\n",
            "(45, 45, 3)\n",
            "(45, 45, 3)\n",
            "image size=  (45, 45, 3)\n",
            "(1, 45, 45, 3)\n",
            "This Symbol is : 4 with probability match  ('mu', '7.98%')\n"
          ]
        },
        {
          "output_type": "display_data",
          "data": {
            "image/png": "[encoded data removed]",
            "text/plain": [
              "<PIL.Image.Image image mode=RGB size=80x68 at 0x7F147128FE50>"
            ]
          },
          "metadata": {}
        },
        {
          "output_type": "stream",
          "name": "stdout",
          "text": [
            "inside\n",
            "waiting for  reshape\n",
            "(45, 45, 3)\n",
            "(45, 45, 3)\n",
            "image size=  (45, 45, 3)\n",
            "(1, 45, 45, 3)\n",
            "This Symbol is : i with probability match  ('i', '86.87%')\n"
          ]
        },
        {
          "output_type": "display_data",
          "data": {
            "image/png": "[encoded data removed]",
            "text/plain": [
              "<PIL.Image.Image image mode=RGB size=80x68 at 0x7F1470E3B6D0>"
            ]
          },
          "metadata": {}
        },
        {
          "output_type": "stream",
          "name": "stdout",
          "text": [
            "inside\n",
            "waiting for  reshape\n",
            "(45, 45, 3)\n",
            "(45, 45, 3)\n",
            "image size=  (45, 45, 3)\n",
            "(1, 45, 45, 3)\n",
            "This Symbol is : i with probability match  ('i', '86.87%')\n"
          ]
        },
        {
          "output_type": "display_data",
          "data": {
            "image/png": "[encoded data removed]",
            "text/plain": [
              "<PIL.Image.Image image mode=RGB size=80x68 at 0x7F1471327E10>"
            ]
          },
          "metadata": {}
        },
        {
          "output_type": "stream",
          "name": "stdout",
          "text": [
            "inside\n",
            "waiting for  reshape\n",
            "(45, 45, 3)\n",
            "(45, 45, 3)\n",
            "image size=  (45, 45, 3)\n",
            "(1, 45, 45, 3)\n",
            "This Symbol is : k with probability match  ('H', '8.49%')\n"
          ]
        },
        {
          "output_type": "display_data",
          "data": {
            "image/png": "[encoded data removed]",
            "text/plain": [
              "<PIL.Image.Image image mode=RGB size=80x68 at 0x7F1470FA9050>"
            ]
          },
          "metadata": {}
        },
        {
          "output_type": "stream",
          "name": "stdout",
          "text": [
            "inside\n",
            "waiting for  reshape\n",
            "(45, 45, 3)\n",
            "(45, 45, 3)\n",
            "image size=  (45, 45, 3)\n",
            "(1, 45, 45, 3)\n",
            "This Symbol is : k with probability match  ('k', '69.45%')\n"
          ]
        },
        {
          "output_type": "display_data",
          "data": {
            "image/png": "[encoded data removed]",
            "text/plain": [
              "<PIL.Image.Image image mode=RGB size=80x68 at 0x7F14710888D0>"
            ]
          },
          "metadata": {}
        },
        {
          "output_type": "stream",
          "name": "stdout",
          "text": [
            "inside\n",
            "waiting for  reshape\n",
            "(45, 45, 3)\n",
            "(45, 45, 3)\n",
            "image size=  (45, 45, 3)\n",
            "(1, 45, 45, 3)\n",
            "This Symbol is : k with probability match  ('k', '69.45%')\n"
          ]
        },
        {
          "output_type": "display_data",
          "data": {
            "image/png": "[encoded data removed]",
            "text/plain": [
              "<PIL.Image.Image image mode=RGB size=80x68 at 0x7F1470F188D0>"
            ]
          },
          "metadata": {}
        },
        {
          "output_type": "stream",
          "name": "stdout",
          "text": [
            "inside\n",
            "waiting for  reshape\n",
            "(45, 45, 3)\n",
            "(45, 45, 3)\n",
            "image size=  (45, 45, 3)\n",
            "(1, 45, 45, 3)\n",
            "This Symbol is : i with probability match  ('1', '7.01%')\n"
          ]
        },
        {
          "output_type": "display_data",
          "data": {
            "image/png": "[encoded data removed]",
            "text/plain": [
              "<PIL.Image.Image image mode=RGB size=80x68 at 0x7F1471010A10>"
            ]
          },
          "metadata": {}
        },
        {
          "output_type": "stream",
          "name": "stdout",
          "text": [
            "inside\n",
            "waiting for  reshape\n",
            "(45, 45, 3)\n",
            "(45, 45, 3)\n",
            "image size=  (45, 45, 3)\n",
            "(1, 45, 45, 3)\n",
            "This Symbol is : i with probability match  ('X', '9.87%')\n"
          ]
        },
        {
          "output_type": "display_data",
          "data": {
            "image/png": "[encoded data removed]",
            "text/plain": [
              "<PIL.Image.Image image mode=RGB size=80x68 at 0x7F1470E385D0>"
            ]
          },
          "metadata": {}
        },
        {
          "output_type": "stream",
          "name": "stdout",
          "text": [
            "inside\n",
            "waiting for  reshape\n",
            "(45, 45, 3)\n",
            "(45, 45, 3)\n",
            "image size=  (45, 45, 3)\n",
            "(1, 45, 45, 3)\n",
            "This Symbol is : 2 with probability match  ('2', '56.83%')\n"
          ]
        },
        {
          "output_type": "display_data",
          "data": {
            "image/png": "[encoded data removed]",
            "text/plain": [
              "<PIL.Image.Image image mode=RGB size=80x68 at 0x7F1470E7DF90>"
            ]
          },
          "metadata": {}
        },
        {
          "output_type": "stream",
          "name": "stdout",
          "text": [
            "inside\n",
            "waiting for  reshape\n",
            "(45, 45, 3)\n",
            "(45, 45, 3)\n",
            "image size=  (45, 45, 3)\n",
            "(1, 45, 45, 3)\n",
            "This Symbol is : 2 with probability match  ('2', '56.83%')\n"
          ]
        },
        {
          "output_type": "display_data",
          "data": {
            "image/png": "[encoded data removed]",
            "text/plain": [
              "<PIL.Image.Image image mode=RGB size=80x68 at 0x7F1470F1F590>"
            ]
          },
          "metadata": {}
        },
        {
          "output_type": "stream",
          "name": "stdout",
          "text": [
            "inside\n",
            "waiting for  reshape\n",
            "(45, 45, 3)\n",
            "(45, 45, 3)\n",
            "image size=  (45, 45, 3)\n",
            "(1, 45, 45, 3)\n",
            "This Symbol is : 2 with probability match  ('2', '87.70%')\n"
          ]
        },
        {
          "output_type": "display_data",
          "data": {
            "image/png": "[encoded data removed]",
            "text/plain": [
              "<PIL.Image.Image image mode=RGB size=80x68 at 0x7F1470FA9810>"
            ]
          },
          "metadata": {}
        },
        {
          "output_type": "stream",
          "name": "stdout",
          "text": [
            "inside\n",
            "waiting for  reshape\n",
            "(45, 45, 3)\n",
            "(45, 45, 3)\n",
            "image size=  (45, 45, 3)\n",
            "(1, 45, 45, 3)\n",
            "This Symbol is : 2 with probability match  ('2', '84.63%')\n"
          ]
        },
        {
          "output_type": "display_data",
          "data": {
            "image/png": "[encoded data removed]",
            "text/plain": [
              "<PIL.Image.Image image mode=RGB size=80x68 at 0x7F1470DCA810>"
            ]
          },
          "metadata": {}
        },
        {
          "output_type": "stream",
          "name": "stdout",
          "text": [
            "inside\n",
            "waiting for  reshape\n",
            "(45, 45, 3)\n",
            "(45, 45, 3)\n",
            "image size=  (45, 45, 3)\n",
            "(1, 45, 45, 3)\n",
            "This Symbol is : N with probability match  ('N', '82.91%')\n"
          ]
        },
        {
          "output_type": "display_data",
          "data": {
            "image/png": "[encoded data removed]",
            "text/plain": [
              "<PIL.Image.Image image mode=RGB size=80x68 at 0x7F1470F1FE10>"
            ]
          },
          "metadata": {}
        },
        {
          "output_type": "stream",
          "name": "stdout",
          "text": [
            "inside\n",
            "waiting for  reshape\n",
            "(45, 45, 3)\n",
            "(45, 45, 3)\n",
            "image size=  (45, 45, 3)\n",
            "(1, 45, 45, 3)\n",
            "This Symbol is : l d o t s with probability match  ('ldots', '98.26%')\n"
          ]
        },
        {
          "output_type": "display_data",
          "data": {
            "image/png": "[encoded data removed]",
            "text/plain": [
              "<PIL.Image.Image image mode=RGB size=80x68 at 0x7F1470E567D0>"
            ]
          },
          "metadata": {}
        },
        {
          "output_type": "stream",
          "name": "stdout",
          "text": [
            "inside\n",
            "waiting for  reshape\n",
            "(45, 45, 3)\n",
            "(45, 45, 3)\n",
            "image size=  (45, 45, 3)\n",
            "(1, 45, 45, 3)\n",
            "This Symbol is : l d o t s with probability match  ('ldots', '98.26%')\n"
          ]
        },
        {
          "output_type": "display_data",
          "data": {
            "image/png": "[encoded data removed]",
            "text/plain": [
              "<PIL.Image.Image image mode=RGB size=80x68 at 0x7F1470F510D0>"
            ]
          },
          "metadata": {}
        },
        {
          "output_type": "stream",
          "name": "stdout",
          "text": [
            "inside\n",
            "waiting for  reshape\n",
            "(45, 45, 3)\n",
            "(45, 45, 3)\n",
            "image size=  (45, 45, 3)\n",
            "(1, 45, 45, 3)\n",
            "This Symbol is : 6 with probability match  ('6', '42.86%')\n"
          ]
        },
        {
          "output_type": "display_data",
          "data": {
            "image/png": "[encoded data removed]",
            "text/plain": [
              "<PIL.Image.Image image mode=RGB size=80x68 at 0x7F1470FA9BD0>"
            ]
          },
          "metadata": {}
        },
        {
          "output_type": "stream",
          "name": "stdout",
          "text": [
            "inside\n",
            "waiting for  reshape\n",
            "(45, 45, 3)\n",
            "(45, 45, 3)\n",
            "image size=  (45, 45, 3)\n",
            "(1, 45, 45, 3)\n",
            "This Symbol is : k with probability match  ('k', '43.21%')\n"
          ]
        },
        {
          "output_type": "display_data",
          "data": {
            "image/png": "[encoded data removed]",
            "text/plain": [
              "<PIL.Image.Image image mode=RGB size=80x68 at 0x7F1470E3BE50>"
            ]
          },
          "metadata": {}
        },
        {
          "output_type": "stream",
          "name": "stdout",
          "text": [
            "inside\n",
            "waiting for  reshape\n",
            "(45, 45, 3)\n",
            "(45, 45, 3)\n",
            "image size=  (45, 45, 3)\n",
            "(1, 45, 45, 3)\n",
            "This Symbol is : i n f t y with probability match  ('tan', '9.17%')\n"
          ]
        },
        {
          "output_type": "display_data",
          "data": {
            "image/png": "[encoded data removed]",
            "text/plain": [
              "<PIL.Image.Image image mode=RGB size=80x68 at 0x7F1470ED6550>"
            ]
          },
          "metadata": {}
        },
        {
          "output_type": "stream",
          "name": "stdout",
          "text": [
            "inside\n",
            "waiting for  reshape\n",
            "(45, 45, 3)\n",
            "(45, 45, 3)\n",
            "image size=  (45, 45, 3)\n",
            "(1, 45, 45, 3)\n",
            "This Symbol is : i n f t y with probability match  ('tan', '9.17%')\n"
          ]
        },
        {
          "output_type": "display_data",
          "data": {
            "image/png": "[encoded data removed]",
            "text/plain": [
              "<PIL.Image.Image image mode=RGB size=80x68 at 0x7F1471302F10>"
            ]
          },
          "metadata": {}
        },
        {
          "output_type": "stream",
          "name": "stdout",
          "text": [
            "inside\n",
            "waiting for  reshape\n",
            "(45, 45, 3)\n",
            "(45, 45, 3)\n",
            "image size=  (45, 45, 3)\n",
            "(1, 45, 45, 3)\n",
            "This Symbol is : 1 with probability match  ('1', '71.93%')\n"
          ]
        },
        {
          "output_type": "display_data",
          "data": {
            "image/png": "[encoded data removed]",
            "text/plain": [
              "<PIL.Image.Image image mode=RGB size=80x68 at 0x7F1470D92410>"
            ]
          },
          "metadata": {}
        },
        {
          "output_type": "stream",
          "name": "stdout",
          "text": [
            "inside\n",
            "waiting for  reshape\n",
            "(45, 45, 3)\n",
            "(45, 45, 3)\n",
            "image size=  (45, 45, 3)\n",
            "(1, 45, 45, 3)\n",
            "This Symbol is : j with probability match  ('j', '60.73%')\n"
          ]
        },
        {
          "output_type": "display_data",
          "data": {
            "image/png": "[encoded data removed]",
            "text/plain": [
              "<PIL.Image.Image image mode=RGB size=80x68 at 0x7F1470D8CA90>"
            ]
          },
          "metadata": {}
        },
        {
          "output_type": "stream",
          "name": "stdout",
          "text": [
            "inside\n",
            "waiting for  reshape\n",
            "(45, 45, 3)\n",
            "(45, 45, 3)\n",
            "image size=  (45, 45, 3)\n",
            "(1, 45, 45, 3)\n",
            "This Symbol is : j with probability match  ('j', '60.73%')\n"
          ]
        },
        {
          "output_type": "display_data",
          "data": {
            "image/png": "[encoded data removed]",
            "text/plain": [
              "<PIL.Image.Image image mode=RGB size=80x68 at 0x7F1470FA6390>"
            ]
          },
          "metadata": {}
        },
        {
          "output_type": "stream",
          "name": "stdout",
          "text": [
            "inside\n",
            "waiting for  reshape\n",
            "(45, 45, 3)\n",
            "(45, 45, 3)\n",
            "image size=  (45, 45, 3)\n",
            "(1, 45, 45, 3)\n",
            "This Symbol is : k with probability match  ('k', '55.93%')\n"
          ]
        },
        {
          "output_type": "display_data",
          "data": {
            "image/png": "[encoded data removed]",
            "text/plain": [
              "<PIL.Image.Image image mode=RGB size=80x68 at 0x7F1470E5D5D0>"
            ]
          },
          "metadata": {}
        },
        {
          "output_type": "stream",
          "name": "stdout",
          "text": [
            "inside\n",
            "waiting for  reshape\n",
            "(45, 45, 3)\n",
            "(45, 45, 3)\n",
            "image size=  (45, 45, 3)\n",
            "(1, 45, 45, 3)\n",
            "This Symbol is : k with probability match  ('k', '55.93%')\n"
          ]
        },
        {
          "output_type": "display_data",
          "data": {
            "image/png": "[encoded data removed]",
            "text/plain": [
              "<PIL.Image.Image image mode=RGB size=80x68 at 0x7F1470E148D0>"
            ]
          },
          "metadata": {}
        },
        {
          "output_type": "stream",
          "name": "stdout",
          "text": [
            "inside\n",
            "waiting for  reshape\n",
            "(45, 45, 3)\n",
            "(45, 45, 3)\n",
            "image size=  (45, 45, 3)\n",
            "(1, 45, 45, 3)\n",
            "This Symbol is : 1 with probability match  ('1', '57.89%')\n"
          ]
        },
        {
          "output_type": "display_data",
          "data": {
            "image/png": "[encoded data removed]",
            "text/plain": [
              "<PIL.Image.Image image mode=RGB size=80x68 at 0x7F1470DDA650>"
            ]
          },
          "metadata": {}
        },
        {
          "output_type": "stream",
          "name": "stdout",
          "text": [
            "inside\n",
            "waiting for  reshape\n",
            "(45, 45, 3)\n",
            "(45, 45, 3)\n",
            "image size=  (45, 45, 3)\n",
            "(1, 45, 45, 3)\n",
            "This Symbol is : 1 with probability match  ('1', '57.91%')\n"
          ]
        },
        {
          "output_type": "display_data",
          "data": {
            "image/png": "[encoded data removed]",
            "text/plain": [
              "<PIL.Image.Image image mode=RGB size=80x68 at 0x7F1470E50550>"
            ]
          },
          "metadata": {}
        },
        {
          "output_type": "stream",
          "name": "stdout",
          "text": [
            "inside\n",
            "waiting for  reshape\n",
            "(45, 45, 3)\n",
            "(45, 45, 3)\n",
            "image size=  (45, 45, 3)\n",
            "(1, 45, 45, 3)\n",
            "This Symbol is : 1 with probability match  ('1', '96.19%')\n"
          ]
        },
        {
          "output_type": "display_data",
          "data": {
            "image/png": "[encoded data removed]",
            "text/plain": [
              "<PIL.Image.Image image mode=RGB size=80x68 at 0x7F1470E4CF90>"
            ]
          },
          "metadata": {}
        },
        {
          "output_type": "stream",
          "name": "stdout",
          "text": [
            "inside\n",
            "waiting for  reshape\n",
            "(45, 45, 3)\n",
            "(45, 45, 3)\n",
            "image size=  (45, 45, 3)\n",
            "(1, 45, 45, 3)\n",
            "This Symbol is : 1 with probability match  ('1', '96.19%')\n"
          ]
        },
        {
          "output_type": "display_data",
          "data": {
            "image/png": "[encoded data removed]",
            "text/plain": [
              "<PIL.Image.Image image mode=RGB size=80x68 at 0x7F1471278450>"
            ]
          },
          "metadata": {}
        },
        {
          "output_type": "stream",
          "name": "stdout",
          "text": [
            "inside\n",
            "waiting for  reshape\n",
            "(45, 45, 3)\n",
            "(45, 45, 3)\n",
            "image size=  (45, 45, 3)\n",
            "(1, 45, 45, 3)\n",
            "This Symbol is : 1 with probability match  ('1', '56.08%')\n"
          ]
        },
        {
          "output_type": "display_data",
          "data": {
            "image/png": "[encoded data removed]",
            "text/plain": [
              "<PIL.Image.Image image mode=RGB size=80x68 at 0x7F1470D40410>"
            ]
          },
          "metadata": {}
        },
        {
          "output_type": "stream",
          "name": "stdout",
          "text": [
            "inside\n",
            "waiting for  reshape\n",
            "(45, 45, 3)\n",
            "(45, 45, 3)\n",
            "image size=  (45, 45, 3)\n",
            "(1, 45, 45, 3)\n",
            "This Symbol is : 1 with probability match  ('1', '56.08%')\n"
          ]
        },
        {
          "output_type": "display_data",
          "data": {
            "image/png": "[encoded data removed]",
            "text/plain": [
              "<PIL.Image.Image image mode=RGB size=80x68 at 0x7F14710DA5D0>"
            ]
          },
          "metadata": {}
        },
        {
          "output_type": "stream",
          "name": "stdout",
          "text": [
            "inside\n",
            "waiting for  reshape\n",
            "(45, 45, 3)\n",
            "(45, 45, 3)\n",
            "image size=  (45, 45, 3)\n",
            "(1, 45, 45, 3)\n",
            "This Symbol is : i with probability match  ('i', '78.97%')\n"
          ]
        },
        {
          "output_type": "display_data",
          "data": {
            "image/png": "[encoded data removed]",
            "text/plain": [
              "<PIL.Image.Image image mode=RGB size=80x68 at 0x7F147627E890>"
            ]
          },
          "metadata": {}
        },
        {
          "output_type": "stream",
          "name": "stdout",
          "text": [
            "inside\n",
            "waiting for  reshape\n",
            "(45, 45, 3)\n",
            "(45, 45, 3)\n",
            "image size=  (45, 45, 3)\n",
            "(1, 45, 45, 3)\n",
            "This Symbol is : l i m with probability match  ('lim', '99.98%')\n"
          ]
        },
        {
          "output_type": "display_data",
          "data": {
            "image/png": "[encoded data removed]",
            "text/plain": [
              "<PIL.Image.Image image mode=RGB size=80x68 at 0x7F1476198ED0>"
            ]
          },
          "metadata": {}
        },
        {
          "output_type": "stream",
          "name": "stdout",
          "text": [
            "inside\n",
            "waiting for  reshape\n",
            "(45, 45, 3)\n",
            "(45, 45, 3)\n",
            "image size=  (45, 45, 3)\n",
            "(1, 45, 45, 3)\n",
            "This Symbol is : l i m with probability match  ('lim', '99.98%')\n"
          ]
        },
        {
          "output_type": "display_data",
          "data": {
            "image/png": "[encoded data removed]",
            "text/plain": [
              "<PIL.Image.Image image mode=RGB size=80x68 at 0x7F147467C610>"
            ]
          },
          "metadata": {}
        },
        {
          "output_type": "stream",
          "name": "stdout",
          "text": [
            "inside\n",
            "waiting for  reshape\n",
            "(45, 45, 3)\n",
            "(45, 45, 3)\n",
            "image size=  (45, 45, 3)\n",
            "(1, 45, 45, 3)\n",
            "This Symbol is : l i m with probability match  ('lim', '99.95%')\n"
          ]
        },
        {
          "output_type": "display_data",
          "data": {
            "image/png": "[encoded data removed]",
            "text/plain": [
              "<PIL.Image.Image image mode=RGB size=80x68 at 0x7F1470F3E7D0>"
            ]
          },
          "metadata": {}
        },
        {
          "output_type": "stream",
          "name": "stdout",
          "text": [
            "inside\n",
            "waiting for  reshape\n",
            "(45, 45, 3)\n",
            "(45, 45, 3)\n",
            "image size=  (45, 45, 3)\n",
            "(1, 45, 45, 3)\n",
            "This Symbol is : l i m with probability match  ('lim', '99.95%')\n"
          ]
        },
        {
          "output_type": "display_data",
          "data": {
            "image/png": "[encoded data removed]",
            "text/plain": [
              "<PIL.Image.Image image mode=RGB size=80x68 at 0x7F1476038150>"
            ]
          },
          "metadata": {}
        },
        {
          "output_type": "stream",
          "name": "stdout",
          "text": [
            "inside\n",
            "waiting for  reshape\n",
            "(45, 45, 3)\n",
            "(45, 45, 3)\n",
            "image size=  (45, 45, 3)\n",
            "(1, 45, 45, 3)\n",
            "This Symbol is : l t with probability match  ('lt', '54.93%')\n"
          ]
        },
        {
          "output_type": "display_data",
          "data": {
            "image/png": "[encoded data removed]",
            "text/plain": [
              "<PIL.Image.Image image mode=RGB size=80x68 at 0x7F1475613510>"
            ]
          },
          "metadata": {}
        },
        {
          "output_type": "stream",
          "name": "stdout",
          "text": [
            "inside\n",
            "waiting for  reshape\n",
            "(45, 45, 3)\n",
            "(45, 45, 3)\n",
            "image size=  (45, 45, 3)\n",
            "(1, 45, 45, 3)\n",
            "This Symbol is : l t with probability match  ('i', '9.32%')\n"
          ]
        },
        {
          "output_type": "display_data",
          "data": {
            "image/png": "[encoded data removed]",
            "text/plain": [
              "<PIL.Image.Image image mode=RGB size=80x68 at 0x7F1475626050>"
            ]
          },
          "metadata": {}
        },
        {
          "output_type": "stream",
          "name": "stdout",
          "text": [
            "inside\n",
            "waiting for  reshape\n",
            "(45, 45, 3)\n",
            "(45, 45, 3)\n",
            "image size=  (45, 45, 3)\n",
            "(1, 45, 45, 3)\n",
            "This Symbol is : N with probability match  ('mu', '7.53%')\n"
          ]
        },
        {
          "output_type": "display_data",
          "data": {
            "image/png": "[encoded data removed]",
            "text/plain": [
              "<PIL.Image.Image image mode=RGB size=80x68 at 0x7F1475FB9050>"
            ]
          },
          "metadata": {}
        },
        {
          "output_type": "stream",
          "name": "stdout",
          "text": [
            "inside\n",
            "waiting for  reshape\n",
            "(45, 45, 3)\n",
            "(45, 45, 3)\n",
            "image size=  (45, 45, 3)\n",
            "(1, 45, 45, 3)\n",
            "This Symbol is : N with probability match  ('mu', '8.91%')\n"
          ]
        },
        {
          "output_type": "display_data",
          "data": {
            "image/png": "[encoded data removed]",
            "text/plain": [
              "<PIL.Image.Image image mode=RGB size=80x68 at 0x7F1472776590>"
            ]
          },
          "metadata": {}
        },
        {
          "output_type": "stream",
          "name": "stdout",
          "text": [
            "inside\n",
            "waiting for  reshape\n",
            "(45, 45, 3)\n",
            "(45, 45, 3)\n",
            "image size=  (45, 45, 3)\n",
            "(1, 45, 45, 3)\n",
            "This Symbol is : N with probability match  ('N', '69.18%')\n"
          ]
        },
        {
          "output_type": "display_data",
          "data": {
            "image/png": "[encoded data removed]",
            "text/plain": [
              "<PIL.Image.Image image mode=RGB size=80x68 at 0x7F147628D3D0>"
            ]
          },
          "metadata": {}
        },
        {
          "output_type": "stream",
          "name": "stdout",
          "text": [
            "inside\n",
            "waiting for  reshape\n",
            "(45, 45, 3)\n",
            "(45, 45, 3)\n",
            "image size=  (45, 45, 3)\n",
            "(1, 45, 45, 3)\n",
            "This Symbol is : N with probability match  ('N', '70.09%')\n"
          ]
        },
        {
          "output_type": "display_data",
          "data": {
            "image/png": "[encoded data removed]",
            "text/plain": [
              "<PIL.Image.Image image mode=RGB size=80x68 at 0x7F146FA67A90>"
            ]
          },
          "metadata": {}
        },
        {
          "output_type": "stream",
          "name": "stdout",
          "text": [
            "inside\n",
            "waiting for  reshape\n",
            "(45, 45, 3)\n",
            "(45, 45, 3)\n",
            "image size=  (45, 45, 3)\n",
            "(1, 45, 45, 3)\n",
            "This Symbol is : w with probability match  ('w', '84.08%')\n"
          ]
        },
        {
          "output_type": "display_data",
          "data": {
            "image/png": "[encoded data removed]",
            "text/plain": [
              "<PIL.Image.Image image mode=RGB size=80x68 at 0x7F1475720CD0>"
            ]
          },
          "metadata": {}
        },
        {
          "output_type": "stream",
          "name": "stdout",
          "text": [
            "inside\n",
            "waiting for  reshape\n",
            "(45, 45, 3)\n",
            "(45, 45, 3)\n",
            "image size=  (45, 45, 3)\n",
            "(1, 45, 45, 3)\n",
            "This Symbol is : + with probability match  ('+', '85.04%')\n"
          ]
        },
        {
          "output_type": "display_data",
          "data": {
            "image/png": "[encoded data removed]",
            "text/plain": [
              "<PIL.Image.Image image mode=RGB size=80x68 at 0x7F1472779690>"
            ]
          },
          "metadata": {}
        },
        {
          "output_type": "stream",
          "name": "stdout",
          "text": [
            "inside\n",
            "waiting for  reshape\n",
            "(45, 45, 3)\n",
            "(45, 45, 3)\n",
            "image size=  (45, 45, 3)\n",
            "(1, 45, 45, 3)\n",
            "This Symbol is : + with probability match  ('+', '84.39%')\n"
          ]
        },
        {
          "output_type": "display_data",
          "data": {
            "image/png": "[encoded data removed]",
            "text/plain": [
              "<PIL.Image.Image image mode=RGB size=80x68 at 0x7F1475FB9190>"
            ]
          },
          "metadata": {}
        },
        {
          "output_type": "stream",
          "name": "stdout",
          "text": [
            "inside\n",
            "waiting for  reshape\n",
            "(45, 45, 3)\n",
            "(45, 45, 3)\n",
            "image size=  (45, 45, 3)\n",
            "(1, 45, 45, 3)\n",
            "This Symbol is : y with probability match  ('7', '9.67%')\n"
          ]
        },
        {
          "output_type": "display_data",
          "data": {
            "image/png": "[encoded data removed]",
            "text/plain": [
              "<PIL.Image.Image image mode=RGB size=80x68 at 0x7F14762D3350>"
            ]
          },
          "metadata": {}
        },
        {
          "output_type": "stream",
          "name": "stdout",
          "text": [
            "inside\n",
            "waiting for  reshape\n",
            "(45, 45, 3)\n",
            "(45, 45, 3)\n",
            "image size=  (45, 45, 3)\n",
            "(1, 45, 45, 3)\n",
            "This Symbol is : y with probability match  ('7', '9.67%')\n"
          ]
        },
        {
          "output_type": "display_data",
          "data": {
            "image/png": "[encoded data removed]",
            "text/plain": [
              "<PIL.Image.Image image mode=RGB size=80x68 at 0x7F1472779F10>"
            ]
          },
          "metadata": {}
        },
        {
          "output_type": "stream",
          "name": "stdout",
          "text": [
            "inside\n",
            "waiting for  reshape\n",
            "(45, 45, 3)\n",
            "(45, 45, 3)\n",
            "image size=  (45, 45, 3)\n",
            "(1, 45, 45, 3)\n",
            "This Symbol is : M with probability match  ('M', '74.03%')\n"
          ]
        },
        {
          "output_type": "display_data",
          "data": {
            "image/png": "[encoded data removed]",
            "text/plain": [
              "<PIL.Image.Image image mode=RGB size=80x68 at 0x7F147A83B250>"
            ]
          },
          "metadata": {}
        },
        {
          "output_type": "stream",
          "name": "stdout",
          "text": [
            "inside\n",
            "waiting for  reshape\n",
            "(45, 45, 3)\n",
            "(45, 45, 3)\n",
            "image size=  (45, 45, 3)\n",
            "(1, 45, 45, 3)\n",
            "This Symbol is : M with probability match  ('M', '73.52%')\n"
          ]
        },
        {
          "output_type": "display_data",
          "data": {
            "image/png": "[encoded data removed]",
            "text/plain": [
              "<PIL.Image.Image image mode=RGB size=80x68 at 0x7F1472776D90>"
            ]
          },
          "metadata": {}
        },
        {
          "output_type": "stream",
          "name": "stdout",
          "text": [
            "inside\n",
            "waiting for  reshape\n",
            "(45, 45, 3)\n",
            "(45, 45, 3)\n",
            "image size=  (45, 45, 3)\n",
            "(1, 45, 45, 3)\n",
            "This Symbol is : 1 with probability match  ('1', '92.05%')\n"
          ]
        },
        {
          "output_type": "display_data",
          "data": {
            "image/png": "[encoded data removed]",
            "text/plain": [
              "<PIL.Image.Image image mode=RGB size=80x68 at 0x7F147627E850>"
            ]
          },
          "metadata": {}
        },
        {
          "output_type": "stream",
          "name": "stdout",
          "text": [
            "inside\n",
            "waiting for  reshape\n",
            "(45, 45, 3)\n",
            "(45, 45, 3)\n",
            "image size=  (45, 45, 3)\n",
            "(1, 45, 45, 3)\n",
            "This Symbol is : b with probability match  ('T', '6.07%')\n"
          ]
        },
        {
          "output_type": "display_data",
          "data": {
            "image/png": "[encoded data removed]",
            "text/plain": [
              "<PIL.Image.Image image mode=RGB size=80x68 at 0x7F1472776810>"
            ]
          },
          "metadata": {}
        },
        {
          "output_type": "stream",
          "name": "stdout",
          "text": [
            "inside\n",
            "waiting for  reshape\n",
            "(45, 45, 3)\n",
            "(45, 45, 3)\n",
            "image size=  (45, 45, 3)\n",
            "(1, 45, 45, 3)\n",
            "This Symbol is : b with probability match  ('d', '9.59%')\n"
          ]
        },
        {
          "output_type": "display_data",
          "data": {
            "image/png": "[encoded data removed]",
            "text/plain": [
              "<PIL.Image.Image image mode=RGB size=80x68 at 0x7F14761187D0>"
            ]
          },
          "metadata": {}
        },
        {
          "output_type": "stream",
          "name": "stdout",
          "text": [
            "inside\n",
            "waiting for  reshape\n",
            "(45, 45, 3)\n",
            "(45, 45, 3)\n",
            "image size=  (45, 45, 3)\n",
            "(1, 45, 45, 3)\n",
            "This Symbol is : N with probability match  ('N', '32.80%')\n"
          ]
        },
        {
          "output_type": "display_data",
          "data": {
            "image/png": "[encoded data removed]",
            "text/plain": [
              "<PIL.Image.Image image mode=RGB size=80x68 at 0x7F147A8477D0>"
            ]
          },
          "metadata": {}
        },
        {
          "output_type": "stream",
          "name": "stdout",
          "text": [
            "inside\n",
            "waiting for  reshape\n",
            "(45, 45, 3)\n",
            "(45, 45, 3)\n",
            "image size=  (45, 45, 3)\n",
            "(1, 45, 45, 3)\n",
            "This Symbol is : N with probability match  ('N', '33.18%')\n"
          ]
        },
        {
          "output_type": "display_data",
          "data": {
            "image/png": "[encoded data removed]",
            "text/plain": [
              "<PIL.Image.Image image mode=RGB size=80x68 at 0x7F1472810A50>"
            ]
          },
          "metadata": {}
        },
        {
          "output_type": "stream",
          "name": "stdout",
          "text": [
            "inside\n",
            "waiting for  reshape\n",
            "(45, 45, 3)\n",
            "(45, 45, 3)\n",
            "image size=  (45, 45, 3)\n",
            "(1, 45, 45, 3)\n",
            "This Symbol is : p i with probability match  ('pi', '91.84%')\n"
          ]
        },
        {
          "output_type": "display_data",
          "data": {
            "image/png": "[encoded data removed]",
            "text/plain": [
              "<PIL.Image.Image image mode=RGB size=80x68 at 0x7F14752E53D0>"
            ]
          },
          "metadata": {}
        },
        {
          "output_type": "stream",
          "name": "stdout",
          "text": [
            "inside\n",
            "waiting for  reshape\n",
            "(45, 45, 3)\n",
            "(45, 45, 3)\n",
            "image size=  (45, 45, 3)\n",
            "(1, 45, 45, 3)\n",
            "This Symbol is : p i with probability match  ('pi', '91.84%')\n"
          ]
        },
        {
          "output_type": "display_data",
          "data": {
            "image/png": "[encoded data removed]",
            "text/plain": [
              "<PIL.Image.Image image mode=RGB size=80x68 at 0x7F14753E0810>"
            ]
          },
          "metadata": {}
        },
        {
          "output_type": "stream",
          "name": "stdout",
          "text": [
            "inside\n",
            "waiting for  reshape\n",
            "(45, 45, 3)\n",
            "(45, 45, 3)\n",
            "image size=  (45, 45, 3)\n",
            "(1, 45, 45, 3)\n",
            "This Symbol is : = with probability match  ('-', '9.29%')\n"
          ]
        },
        {
          "output_type": "display_data",
          "data": {
            "image/png": "[encoded data removed]",
            "text/plain": [
              "<PIL.Image.Image image mode=RGB size=80x68 at 0x7F14752E5610>"
            ]
          },
          "metadata": {}
        },
        {
          "output_type": "stream",
          "name": "stdout",
          "text": [
            "inside\n",
            "waiting for  reshape\n",
            "(45, 45, 3)\n",
            "(45, 45, 3)\n",
            "image size=  (45, 45, 3)\n",
            "(1, 45, 45, 3)\n",
            "This Symbol is : p m with probability match  ('pm', '99.99%')\n"
          ]
        },
        {
          "output_type": "display_data",
          "data": {
            "image/png": "[encoded data removed]",
            "text/plain": [
              "<PIL.Image.Image image mode=RGB size=80x68 at 0x7F14727764D0>"
            ]
          },
          "metadata": {}
        },
        {
          "output_type": "stream",
          "name": "stdout",
          "text": [
            "inside\n",
            "waiting for  reshape\n",
            "(45, 45, 3)\n",
            "(45, 45, 3)\n",
            "image size=  (45, 45, 3)\n",
            "(1, 45, 45, 3)\n",
            "This Symbol is : p m with probability match  ('pm', '99.99%')\n"
          ]
        },
        {
          "output_type": "display_data",
          "data": {
            "image/png": "[encoded data removed]",
            "text/plain": [
              "<PIL.Image.Image image mode=RGB size=80x68 at 0x7F147609F090>"
            ]
          },
          "metadata": {}
        },
        {
          "output_type": "stream",
          "name": "stdout",
          "text": [
            "inside\n",
            "waiting for  reshape\n",
            "(45, 45, 3)\n",
            "(45, 45, 3)\n",
            "image size=  (45, 45, 3)\n",
            "(1, 45, 45, 3)\n",
            "This Symbol is : ! with probability match  ('!', '99.75%')\n"
          ]
        },
        {
          "output_type": "display_data",
          "data": {
            "image/png": "[encoded data removed]",
            "text/plain": [
              "<PIL.Image.Image image mode=RGB size=80x68 at 0x7F1475626710>"
            ]
          },
          "metadata": {}
        },
        {
          "output_type": "stream",
          "name": "stdout",
          "text": [
            "inside\n",
            "waiting for  reshape\n",
            "(45, 45, 3)\n",
            "(45, 45, 3)\n",
            "image size=  (45, 45, 3)\n",
            "(1, 45, 45, 3)\n",
            "This Symbol is : ! with probability match  ('!', '99.75%')\n"
          ]
        },
        {
          "output_type": "display_data",
          "data": {
            "image/png": "[encoded data removed]",
            "text/plain": [
              "<PIL.Image.Image image mode=RGB size=80x68 at 0x7F1475611A10>"
            ]
          },
          "metadata": {}
        },
        {
          "output_type": "stream",
          "name": "stdout",
          "text": [
            "inside\n",
            "waiting for  reshape\n",
            "(45, 45, 3)\n",
            "(45, 45, 3)\n",
            "image size=  (45, 45, 3)\n",
            "(1, 45, 45, 3)\n",
            "This Symbol is : 4 with probability match  ('4', '96.11%')\n"
          ]
        },
        {
          "output_type": "display_data",
          "data": {
            "image/png": "[encoded data removed]",
            "text/plain": [
              "<PIL.Image.Image image mode=RGB size=80x68 at 0x7F147467B790>"
            ]
          },
          "metadata": {}
        },
        {
          "output_type": "stream",
          "name": "stdout",
          "text": [
            "inside\n",
            "waiting for  reshape\n",
            "(45, 45, 3)\n",
            "(45, 45, 3)\n",
            "image size=  (45, 45, 3)\n",
            "(1, 45, 45, 3)\n",
            "This Symbol is : 4 with probability match  ('4', '96.11%')\n"
          ]
        },
        {
          "output_type": "display_data",
          "data": {
            "image/png": "[encoded data removed]",
            "text/plain": [
              "<PIL.Image.Image image mode=RGB size=80x68 at 0x7F1475275D90>"
            ]
          },
          "metadata": {}
        },
        {
          "output_type": "stream",
          "name": "stdout",
          "text": [
            "inside\n",
            "waiting for  reshape\n",
            "(45, 45, 3)\n",
            "(45, 45, 3)\n",
            "image size=  (45, 45, 3)\n",
            "(1, 45, 45, 3)\n",
            "This Symbol is : N with probability match  ('N', '83.47%')\n"
          ]
        },
        {
          "output_type": "display_data",
          "data": {
            "image/png": "[encoded data removed]",
            "text/plain": [
              "<PIL.Image.Image image mode=RGB size=80x68 at 0x7F147467C0D0>"
            ]
          },
          "metadata": {}
        },
        {
          "output_type": "stream",
          "name": "stdout",
          "text": [
            "inside\n",
            "waiting for  reshape\n",
            "(45, 45, 3)\n",
            "(45, 45, 3)\n",
            "image size=  (45, 45, 3)\n",
            "(1, 45, 45, 3)\n",
            "This Symbol is : N with probability match  ('N', '83.97%')\n"
          ]
        },
        {
          "output_type": "display_data",
          "data": {
            "image/png": "[encoded data removed]",
            "text/plain": [
              "<PIL.Image.Image image mode=RGB size=80x68 at 0x7F14754405D0>"
            ]
          },
          "metadata": {}
        },
        {
          "output_type": "stream",
          "name": "stdout",
          "text": [
            "inside\n",
            "waiting for  reshape\n",
            "(45, 45, 3)\n",
            "(45, 45, 3)\n",
            "image size=  (45, 45, 3)\n",
            "(1, 45, 45, 3)\n",
            "This Symbol is : + with probability match  ('+', '92.32%')\n"
          ]
        },
        {
          "output_type": "display_data",
          "data": {
            "image/png": "[encoded data removed]",
            "text/plain": [
              "<PIL.Image.Image image mode=RGB size=80x68 at 0x7F14752E55D0>"
            ]
          },
          "metadata": {}
        },
        {
          "output_type": "stream",
          "name": "stdout",
          "text": [
            "inside\n",
            "waiting for  reshape\n",
            "(45, 45, 3)\n",
            "(45, 45, 3)\n",
            "image size=  (45, 45, 3)\n",
            "(1, 45, 45, 3)\n",
            "This Symbol is : + with probability match  ('+', '92.32%')\n"
          ]
        },
        {
          "output_type": "display_data",
          "data": {
            "image/png": "[encoded data removed]",
            "text/plain": [
              "<PIL.Image.Image image mode=RGB size=80x68 at 0x7F147462FC90>"
            ]
          },
          "metadata": {}
        },
        {
          "output_type": "stream",
          "name": "stdout",
          "text": [
            "inside\n",
            "waiting for  reshape\n",
            "(45, 45, 3)\n",
            "(45, 45, 3)\n",
            "image size=  (45, 45, 3)\n",
            "(1, 45, 45, 3)\n",
            "This Symbol is : 5 with probability match  ('i', '8.65%')\n"
          ]
        },
        {
          "output_type": "display_data",
          "data": {
            "image/png": "[encoded data removed]",
            "text/plain": [
              "<PIL.Image.Image image mode=RGB size=80x68 at 0x7F1474F5DF10>"
            ]
          },
          "metadata": {}
        },
        {
          "output_type": "stream",
          "name": "stdout",
          "text": [
            "inside\n",
            "waiting for  reshape\n",
            "(45, 45, 3)\n",
            "(45, 45, 3)\n",
            "image size=  (45, 45, 3)\n",
            "(1, 45, 45, 3)\n",
            "This Symbol is : 5 with probability match  ('i', '8.65%')\n"
          ]
        },
        {
          "output_type": "display_data",
          "data": {
            "image/png": "[encoded data removed]",
            "text/plain": [
              "<PIL.Image.Image image mode=RGB size=80x68 at 0x7F1472776D10>"
            ]
          },
          "metadata": {}
        },
        {
          "output_type": "stream",
          "name": "stdout",
          "text": [
            "inside\n",
            "waiting for  reshape\n",
            "(45, 45, 3)\n",
            "(45, 45, 3)\n",
            "image size=  (45, 45, 3)\n",
            "(1, 45, 45, 3)\n",
            "This Symbol is : 7 with probability match  ('7', '86.08%')\n"
          ]
        },
        {
          "output_type": "display_data",
          "data": {
            "image/png": "[encoded data removed]",
            "text/plain": [
              "<PIL.Image.Image image mode=RGB size=80x68 at 0x7F1475FA4190>"
            ]
          },
          "metadata": {}
        },
        {
          "output_type": "stream",
          "name": "stdout",
          "text": [
            "inside\n",
            "waiting for  reshape\n",
            "(45, 45, 3)\n",
            "(45, 45, 3)\n",
            "image size=  (45, 45, 3)\n",
            "(1, 45, 45, 3)\n",
            "This Symbol is : 7 with probability match  ('7', '86.08%')\n"
          ]
        },
        {
          "output_type": "display_data",
          "data": {
            "image/png": "[encoded data removed]",
            "text/plain": [
              "<PIL.Image.Image image mode=RGB size=80x68 at 0x7F14752AE550>"
            ]
          },
          "metadata": {}
        },
        {
          "output_type": "stream",
          "name": "stdout",
          "text": [
            "inside\n",
            "waiting for  reshape\n",
            "(45, 45, 3)\n",
            "(45, 45, 3)\n",
            "image size=  (45, 45, 3)\n",
            "(1, 45, 45, 3)\n",
            "This Symbol is : R with probability match  ('R', '85.21%')\n"
          ]
        },
        {
          "output_type": "display_data",
          "data": {
            "image/png": "[encoded data removed]",
            "text/plain": [
              "<PIL.Image.Image image mode=RGB size=80x68 at 0x7F14752BCC90>"
            ]
          },
          "metadata": {}
        },
        {
          "output_type": "stream",
          "name": "stdout",
          "text": [
            "inside\n",
            "waiting for  reshape\n",
            "(45, 45, 3)\n",
            "(45, 45, 3)\n",
            "image size=  (45, 45, 3)\n",
            "(1, 45, 45, 3)\n",
            "This Symbol is : R with probability match  ('R', '84.85%')\n"
          ]
        },
        {
          "output_type": "display_data",
          "data": {
            "image/png": "[encoded data removed]",
            "text/plain": [
              "<PIL.Image.Image image mode=RGB size=80x68 at 0x7F14751C7D10>"
            ]
          },
          "metadata": {}
        },
        {
          "output_type": "stream",
          "name": "stdout",
          "text": [
            "inside\n",
            "waiting for  reshape\n",
            "(45, 45, 3)\n",
            "(45, 45, 3)\n",
            "image size=  (45, 45, 3)\n",
            "(1, 45, 45, 3)\n",
            "This Symbol is : s i n with probability match  ('sin', '83.20%')\n"
          ]
        },
        {
          "output_type": "display_data",
          "data": {
            "image/png": "[encoded data removed]",
            "text/plain": [
              "<PIL.Image.Image image mode=RGB size=80x68 at 0x7F1475FB9A50>"
            ]
          },
          "metadata": {}
        },
        {
          "output_type": "stream",
          "name": "stdout",
          "text": [
            "inside\n",
            "waiting for  reshape\n",
            "(45, 45, 3)\n",
            "(45, 45, 3)\n",
            "image size=  (45, 45, 3)\n",
            "(1, 45, 45, 3)\n",
            "This Symbol is : s i n with probability match  ('sin', '85.47%')\n"
          ]
        },
        {
          "output_type": "display_data",
          "data": {
            "image/png": "[encoded data removed]",
            "text/plain": [
              "<PIL.Image.Image image mode=RGB size=80x68 at 0x7F14751C7E10>"
            ]
          },
          "metadata": {}
        },
        {
          "output_type": "stream",
          "name": "stdout",
          "text": [
            "inside\n",
            "waiting for  reshape\n",
            "(45, 45, 3)\n",
            "(45, 45, 3)\n",
            "image size=  (45, 45, 3)\n",
            "(1, 45, 45, 3)\n",
            "This Symbol is : k with probability match  ('k', '76.16%')\n"
          ]
        },
        {
          "output_type": "display_data",
          "data": {
            "image/png": "[encoded data removed]",
            "text/plain": [
              "<PIL.Image.Image image mode=RGB size=80x68 at 0x7F14757F2110>"
            ]
          },
          "metadata": {}
        },
        {
          "output_type": "stream",
          "name": "stdout",
          "text": [
            "inside\n",
            "waiting for  reshape\n",
            "(45, 45, 3)\n",
            "(45, 45, 3)\n",
            "image size=  (45, 45, 3)\n",
            "(1, 45, 45, 3)\n",
            "This Symbol is : k with probability match  ('k', '76.18%')\n"
          ]
        },
        {
          "output_type": "display_data",
          "data": {
            "image/png": "[encoded data removed]",
            "text/plain": [
              "<PIL.Image.Image image mode=RGB size=80x68 at 0x7F1475396E50>"
            ]
          },
          "metadata": {}
        },
        {
          "output_type": "stream",
          "name": "stdout",
          "text": [
            "inside\n",
            "waiting for  reshape\n",
            "(45, 45, 3)\n",
            "(45, 45, 3)\n",
            "image size=  (45, 45, 3)\n",
            "(1, 45, 45, 3)\n",
            "This Symbol is : R with probability match  ('R', '64.01%')\n"
          ]
        },
        {
          "output_type": "display_data",
          "data": {
            "image/png": "[encoded data removed]",
            "text/plain": [
              "<PIL.Image.Image image mode=RGB size=80x68 at 0x7F147280A450>"
            ]
          },
          "metadata": {}
        },
        {
          "output_type": "stream",
          "name": "stdout",
          "text": [
            "inside\n",
            "waiting for  reshape\n",
            "(45, 45, 3)\n",
            "(45, 45, 3)\n",
            "image size=  (45, 45, 3)\n",
            "(1, 45, 45, 3)\n",
            "This Symbol is : R with probability match  ('R', '65.94%')\n"
          ]
        },
        {
          "output_type": "display_data",
          "data": {
            "image/png": "[encoded data removed]",
            "text/plain": [
              "<PIL.Image.Image image mode=RGB size=80x68 at 0x7F147245A5D0>"
            ]
          },
          "metadata": {}
        },
        {
          "output_type": "stream",
          "name": "stdout",
          "text": [
            "inside\n",
            "waiting for  reshape\n",
            "(45, 45, 3)\n",
            "(45, 45, 3)\n",
            "image size=  (45, 45, 3)\n",
            "(1, 45, 45, 3)\n",
            "This Symbol is : R with probability match  ('R', '66.26%')\n"
          ]
        },
        {
          "output_type": "display_data",
          "data": {
            "image/png": "[encoded data removed]",
            "text/plain": [
              "<PIL.Image.Image image mode=RGB size=80x68 at 0x7F1472819C10>"
            ]
          },
          "metadata": {}
        },
        {
          "output_type": "stream",
          "name": "stdout",
          "text": [
            "inside\n",
            "waiting for  reshape\n",
            "(45, 45, 3)\n",
            "(45, 45, 3)\n",
            "image size=  (45, 45, 3)\n",
            "(1, 45, 45, 3)\n",
            "This Symbol is : i with probability match  ('2', '5.49%')\n"
          ]
        },
        {
          "output_type": "display_data",
          "data": {
            "image/png": "[encoded data removed]",
            "text/plain": [
              "<PIL.Image.Image image mode=RGB size=80x68 at 0x7F14752DAF50>"
            ]
          },
          "metadata": {}
        },
        {
          "output_type": "stream",
          "name": "stdout",
          "text": [
            "inside\n",
            "waiting for  reshape\n",
            "(45, 45, 3)\n",
            "(45, 45, 3)\n",
            "image size=  (45, 45, 3)\n",
            "(1, 45, 45, 3)\n",
            "This Symbol is : i with probability match  ('2', '5.49%')\n"
          ]
        },
        {
          "output_type": "display_data",
          "data": {
            "image/png": "[encoded data removed]",
            "text/plain": [
              "<PIL.Image.Image image mode=RGB size=80x68 at 0x7F14755AD810>"
            ]
          },
          "metadata": {}
        },
        {
          "output_type": "stream",
          "name": "stdout",
          "text": [
            "inside\n",
            "waiting for  reshape\n",
            "(45, 45, 3)\n",
            "(45, 45, 3)\n",
            "image size=  (45, 45, 3)\n",
            "(1, 45, 45, 3)\n",
            "This Symbol is : T with probability match  ('T', '77.14%')\n"
          ]
        },
        {
          "output_type": "display_data",
          "data": {
            "image/png": "[encoded data removed]",
            "text/plain": [
              "<PIL.Image.Image image mode=RGB size=80x68 at 0x7F147A814B90>"
            ]
          },
          "metadata": {}
        },
        {
          "output_type": "stream",
          "name": "stdout",
          "text": [
            "inside\n",
            "waiting for  reshape\n",
            "(45, 45, 3)\n",
            "(45, 45, 3)\n",
            "image size=  (45, 45, 3)\n",
            "(1, 45, 45, 3)\n",
            "This Symbol is : T with probability match  ('T', '76.46%')\n"
          ]
        },
        {
          "output_type": "display_data",
          "data": {
            "image/png": "[encoded data removed]",
            "text/plain": [
              "<PIL.Image.Image image mode=RGB size=80x68 at 0x7F1472776A10>"
            ]
          },
          "metadata": {}
        },
        {
          "output_type": "stream",
          "name": "stdout",
          "text": [
            "inside\n",
            "waiting for  reshape\n",
            "(45, 45, 3)\n",
            "(45, 45, 3)\n",
            "image size=  (45, 45, 3)\n",
            "(1, 45, 45, 3)\n",
            "This Symbol is : T with probability match  ('T', '76.46%')\n"
          ]
        },
        {
          "output_type": "display_data",
          "data": {
            "image/png": "[encoded data removed]",
            "text/plain": [
              "<PIL.Image.Image image mode=RGB size=80x68 at 0x7F14710DA750>"
            ]
          },
          "metadata": {}
        },
        {
          "output_type": "stream",
          "name": "stdout",
          "text": [
            "inside\n",
            "waiting for  reshape\n",
            "(45, 45, 3)\n",
            "(45, 45, 3)\n",
            "image size=  (45, 45, 3)\n",
            "(1, 45, 45, 3)\n",
            "This Symbol is : T with probability match  ('T', '76.46%')\n"
          ]
        },
        {
          "output_type": "display_data",
          "data": {
            "image/png": "[encoded data removed]",
            "text/plain": [
              "<PIL.Image.Image image mode=RGB size=80x68 at 0x7F1475855750>"
            ]
          },
          "metadata": {}
        },
        {
          "output_type": "stream",
          "name": "stdout",
          "text": [
            "inside\n",
            "waiting for  reshape\n",
            "(45, 45, 3)\n",
            "(45, 45, 3)\n",
            "image size=  (45, 45, 3)\n",
            "(1, 45, 45, 3)\n",
            "This Symbol is : l i m with probability match  ('lim', '99.60%')\n"
          ]
        },
        {
          "output_type": "display_data",
          "data": {
            "image/png": "[encoded data removed]",
            "text/plain": [
              "<PIL.Image.Image image mode=RGB size=80x68 at 0x7F14754B3FD0>"
            ]
          },
          "metadata": {}
        },
        {
          "output_type": "stream",
          "name": "stdout",
          "text": [
            "inside\n",
            "waiting for  reshape\n",
            "(45, 45, 3)\n",
            "(45, 45, 3)\n",
            "image size=  (45, 45, 3)\n",
            "(1, 45, 45, 3)\n",
            "This Symbol is : l i m with probability match  ('lim', '99.59%')\n"
          ]
        },
        {
          "output_type": "display_data",
          "data": {
            "image/png": "[encoded data removed]",
            "text/plain": [
              "<PIL.Image.Image image mode=RGB size=80x68 at 0x7F14754E1B90>"
            ]
          },
          "metadata": {}
        },
        {
          "output_type": "stream",
          "name": "stdout",
          "text": [
            "inside\n",
            "waiting for  reshape\n",
            "(45, 45, 3)\n",
            "(45, 45, 3)\n",
            "image size=  (45, 45, 3)\n",
            "(1, 45, 45, 3)\n",
            "This Symbol is : l i m with probability match  ('lim', '99.59%')\n"
          ]
        },
        {
          "output_type": "display_data",
          "data": {
            "image/png": "[encoded data removed]",
            "text/plain": [
              "<PIL.Image.Image image mode=RGB size=80x68 at 0x7F1472779B50>"
            ]
          },
          "metadata": {}
        },
        {
          "output_type": "stream",
          "name": "stdout",
          "text": [
            "inside\n",
            "waiting for  reshape\n",
            "(45, 45, 3)\n",
            "(45, 45, 3)\n",
            "image size=  (45, 45, 3)\n",
            "(1, 45, 45, 3)\n",
            "This Symbol is : N with probability match  ('H', '8.73%')\n"
          ]
        },
        {
          "output_type": "display_data",
          "data": {
            "image/png": "[encoded data removed]",
            "text/plain": [
              "<PIL.Image.Image image mode=RGB size=80x68 at 0x7F1474F65950>"
            ]
          },
          "metadata": {}
        },
        {
          "output_type": "stream",
          "name": "stdout",
          "text": [
            "inside\n",
            "waiting for  reshape\n",
            "(45, 45, 3)\n",
            "(45, 45, 3)\n",
            "image size=  (45, 45, 3)\n",
            "(1, 45, 45, 3)\n",
            "This Symbol is : N with probability match  ('H', '8.78%')\n"
          ]
        },
        {
          "output_type": "display_data",
          "data": {
            "image/png": "[encoded data removed]",
            "text/plain": [
              "<PIL.Image.Image image mode=RGB size=80x68 at 0x7F147A814F90>"
            ]
          },
          "metadata": {}
        },
        {
          "output_type": "stream",
          "name": "stdout",
          "text": [
            "inside\n",
            "waiting for  reshape\n",
            "(45, 45, 3)\n",
            "(45, 45, 3)\n",
            "image size=  (45, 45, 3)\n",
            "(1, 45, 45, 3)\n",
            "This Symbol is : 3 with probability match  ('3', '98.60%')\n"
          ]
        },
        {
          "output_type": "display_data",
          "data": {
            "image/png": "[encoded data removed]",
            "text/plain": [
              "<PIL.Image.Image image mode=RGB size=80x68 at 0x7F147577F950>"
            ]
          },
          "metadata": {}
        },
        {
          "output_type": "stream",
          "name": "stdout",
          "text": [
            "inside\n",
            "waiting for  reshape\n",
            "(45, 45, 3)\n",
            "(45, 45, 3)\n",
            "image size=  (45, 45, 3)\n",
            "(1, 45, 45, 3)\n",
            "This Symbol is : 3 with probability match  ('3', '98.16%')\n"
          ]
        },
        {
          "output_type": "display_data",
          "data": {
            "image/png": "[encoded data removed]",
            "text/plain": [
              "<PIL.Image.Image image mode=RGB size=80x68 at 0x7F14754D4510>"
            ]
          },
          "metadata": {}
        },
        {
          "output_type": "stream",
          "name": "stdout",
          "text": [
            "inside\n",
            "waiting for  reshape\n",
            "(45, 45, 3)\n",
            "(45, 45, 3)\n",
            "image size=  (45, 45, 3)\n",
            "(1, 45, 45, 3)\n",
            "This Symbol is : 3 with probability match  ('3', '98.16%')\n"
          ]
        },
        {
          "output_type": "display_data",
          "data": {
            "image/png": "[encoded data removed]",
            "text/plain": [
              "<PIL.Image.Image image mode=RGB size=80x68 at 0x7F147627EC10>"
            ]
          },
          "metadata": {}
        },
        {
          "output_type": "stream",
          "name": "stdout",
          "text": [
            "inside\n",
            "waiting for  reshape\n",
            "(45, 45, 3)\n",
            "(45, 45, 3)\n",
            "image size=  (45, 45, 3)\n",
            "(1, 45, 45, 3)\n",
            "This Symbol is : X with probability match  ('X', '58.31%')\n"
          ]
        },
        {
          "output_type": "display_data",
          "data": {
            "image/png": "[encoded data removed]",
            "text/plain": [
              "<PIL.Image.Image image mode=RGB size=80x68 at 0x7F1474F5DA10>"
            ]
          },
          "metadata": {}
        },
        {
          "output_type": "stream",
          "name": "stdout",
          "text": [
            "inside\n",
            "waiting for  reshape\n",
            "(45, 45, 3)\n",
            "(45, 45, 3)\n",
            "image size=  (45, 45, 3)\n",
            "(1, 45, 45, 3)\n",
            "This Symbol is : X with probability match  ('X', '73.92%')\n"
          ]
        },
        {
          "output_type": "display_data",
          "data": {
            "image/png": "[encoded data removed]",
            "text/plain": [
              "<PIL.Image.Image image mode=RGB size=80x68 at 0x7F14711B2E50>"
            ]
          },
          "metadata": {}
        },
        {
          "output_type": "stream",
          "name": "stdout",
          "text": [
            "inside\n",
            "waiting for  reshape\n",
            "(45, 45, 3)\n",
            "(45, 45, 3)\n",
            "image size=  (45, 45, 3)\n",
            "(1, 45, 45, 3)\n",
            "This Symbol is : G with probability match  ('q', '8.56%')\n"
          ]
        },
        {
          "output_type": "display_data",
          "data": {
            "image/png": "[encoded data removed]",
            "text/plain": [
              "<PIL.Image.Image image mode=RGB size=80x68 at 0x7F1470EFF290>"
            ]
          },
          "metadata": {}
        },
        {
          "output_type": "stream",
          "name": "stdout",
          "text": [
            "inside\n",
            "waiting for  reshape\n",
            "(45, 45, 3)\n",
            "(45, 45, 3)\n",
            "image size=  (45, 45, 3)\n",
            "(1, 45, 45, 3)\n",
            "This Symbol is : G with probability match  ('q', '8.56%')\n"
          ]
        },
        {
          "output_type": "display_data",
          "data": {
            "image/png": "[encoded data removed]",
            "text/plain": [
              "<PIL.Image.Image image mode=RGB size=80x68 at 0x7F147A81AF90>"
            ]
          },
          "metadata": {}
        },
        {
          "output_type": "stream",
          "name": "stdout",
          "text": [
            "inside\n",
            "waiting for  reshape\n",
            "(45, 45, 3)\n",
            "(45, 45, 3)\n",
            "image size=  (45, 45, 3)\n",
            "(1, 45, 45, 3)\n",
            "This Symbol is : i with probability match  ('i', '96.52%')\n"
          ]
        },
        {
          "output_type": "display_data",
          "data": {
            "image/png": "[encoded data removed]",
            "text/plain": [
              "<PIL.Image.Image image mode=RGB size=80x68 at 0x7F15784856D0>"
            ]
          },
          "metadata": {}
        },
        {
          "output_type": "stream",
          "name": "stdout",
          "text": [
            "inside\n",
            "waiting for  reshape\n",
            "(45, 45, 3)\n",
            "(45, 45, 3)\n",
            "image size=  (45, 45, 3)\n",
            "(1, 45, 45, 3)\n",
            "This Symbol is : i with probability match  ('i', '96.52%')\n"
          ]
        },
        {
          "output_type": "display_data",
          "data": {
            "image/png": "[encoded data removed]",
            "text/plain": [
              "<PIL.Image.Image image mode=RGB size=80x68 at 0x7F14755AD390>"
            ]
          },
          "metadata": {}
        },
        {
          "output_type": "stream",
          "name": "stdout",
          "text": [
            "inside\n",
            "waiting for  reshape\n",
            "(45, 45, 3)\n",
            "(45, 45, 3)\n",
            "image size=  (45, 45, 3)\n",
            "(1, 45, 45, 3)\n",
            "This Symbol is : N with probability match  ('N', '58.80%')\n"
          ]
        },
        {
          "output_type": "display_data",
          "data": {
            "image/png": "[encoded data removed]",
            "text/plain": [
              "<PIL.Image.Image image mode=RGB size=80x68 at 0x7F147467B1D0>"
            ]
          },
          "metadata": {}
        },
        {
          "output_type": "stream",
          "name": "stdout",
          "text": [
            "inside\n",
            "waiting for  reshape\n",
            "(45, 45, 3)\n",
            "(45, 45, 3)\n",
            "image size=  (45, 45, 3)\n",
            "(1, 45, 45, 3)\n",
            "This Symbol is : N with probability match  ('N', '54.35%')\n"
          ]
        },
        {
          "output_type": "display_data",
          "data": {
            "image/png": "[encoded data removed]",
            "text/plain": [
              "<PIL.Image.Image image mode=RGB size=80x68 at 0x7F147526BD10>"
            ]
          },
          "metadata": {}
        },
        {
          "output_type": "stream",
          "name": "stdout",
          "text": [
            "inside\n",
            "waiting for  reshape\n",
            "(45, 45, 3)\n",
            "(45, 45, 3)\n",
            "image size=  (45, 45, 3)\n",
            "(1, 45, 45, 3)\n",
            "This Symbol is : N with probability match  ('N', '66.80%')\n"
          ]
        },
        {
          "output_type": "display_data",
          "data": {
            "image/png": "[encoded data removed]",
            "text/plain": [
              "<PIL.Image.Image image mode=RGB size=80x68 at 0x7F1475669D90>"
            ]
          },
          "metadata": {}
        },
        {
          "output_type": "stream",
          "name": "stdout",
          "text": [
            "inside\n",
            "waiting for  reshape\n",
            "(45, 45, 3)\n",
            "(45, 45, 3)\n",
            "image size=  (45, 45, 3)\n",
            "(1, 45, 45, 3)\n",
            "This Symbol is : N with probability match  ('N', '64.57%')\n"
          ]
        },
        {
          "output_type": "display_data",
          "data": {
            "image/png": "[encoded data removed]",
            "text/plain": [
              "<PIL.Image.Image image mode=RGB size=80x68 at 0x7F1476149810>"
            ]
          },
          "metadata": {}
        },
        {
          "output_type": "stream",
          "name": "stdout",
          "text": [
            "inside\n",
            "waiting for  reshape\n",
            "(45, 45, 3)\n",
            "(45, 45, 3)\n",
            "image size=  (45, 45, 3)\n",
            "(1, 45, 45, 3)\n",
            "This Symbol is : 4 with probability match  ('v', '8.06%')\n"
          ]
        },
        {
          "output_type": "display_data",
          "data": {
            "image/png": "[encoded data removed]",
            "text/plain": [
              "<PIL.Image.Image image mode=RGB size=80x68 at 0x7F14752AE550>"
            ]
          },
          "metadata": {}
        },
        {
          "output_type": "stream",
          "name": "stdout",
          "text": [
            "inside\n",
            "waiting for  reshape\n",
            "(45, 45, 3)\n",
            "(45, 45, 3)\n",
            "image size=  (45, 45, 3)\n",
            "(1, 45, 45, 3)\n",
            "This Symbol is : 4 with probability match  ('v', '8.56%')\n"
          ]
        },
        {
          "output_type": "display_data",
          "data": {
            "image/png": "[encoded data removed]",
            "text/plain": [
              "<PIL.Image.Image image mode=RGB size=80x68 at 0x7F146F9D8DD0>"
            ]
          },
          "metadata": {}
        },
        {
          "output_type": "stream",
          "name": "stdout",
          "text": [
            "inside\n",
            "waiting for  reshape\n",
            "(45, 45, 3)\n",
            "(45, 45, 3)\n",
            "image size=  (45, 45, 3)\n",
            "(1, 45, 45, 3)\n",
            "This Symbol is : 4 with probability match  ('v', '8.56%')\n"
          ]
        },
        {
          "output_type": "display_data",
          "data": {
            "image/png": "[encoded data removed]",
            "text/plain": [
              "<PIL.Image.Image image mode=RGB size=80x68 at 0x7F147462FF10>"
            ]
          },
          "metadata": {}
        },
        {
          "output_type": "stream",
          "name": "stdout",
          "text": [
            "inside\n",
            "waiting for  reshape\n",
            "(45, 45, 3)\n",
            "(45, 45, 3)\n",
            "image size=  (45, 45, 3)\n",
            "(1, 45, 45, 3)\n",
            "This Symbol is : y with probability match  ('y', '99.98%')\n"
          ]
        },
        {
          "output_type": "display_data",
          "data": {
            "image/png": "[encoded data removed]",
            "text/plain": [
              "<PIL.Image.Image image mode=RGB size=80x68 at 0x7F1476266210>"
            ]
          },
          "metadata": {}
        },
        {
          "output_type": "stream",
          "name": "stdout",
          "text": [
            "inside\n",
            "waiting for  reshape\n",
            "(45, 45, 3)\n",
            "(45, 45, 3)\n",
            "image size=  (45, 45, 3)\n",
            "(1, 45, 45, 3)\n",
            "This Symbol is : y with probability match  ('y', '99.98%')\n"
          ]
        },
        {
          "output_type": "display_data",
          "data": {
            "image/png": "[encoded data removed]",
            "text/plain": [
              "<PIL.Image.Image image mode=RGB size=80x68 at 0x7F1472776B50>"
            ]
          },
          "metadata": {}
        },
        {
          "output_type": "stream",
          "name": "stdout",
          "text": [
            "inside\n",
            "waiting for  reshape\n",
            "(45, 45, 3)\n",
            "(45, 45, 3)\n",
            "image size=  (45, 45, 3)\n",
            "(1, 45, 45, 3)\n",
            "This Symbol is : 2 with probability match  ('2', '65.36%')\n"
          ]
        },
        {
          "output_type": "display_data",
          "data": {
            "image/png": "[encoded data removed]",
            "text/plain": [
              "<PIL.Image.Image image mode=RGB size=80x68 at 0x7F1476244190>"
            ]
          },
          "metadata": {}
        },
        {
          "output_type": "stream",
          "name": "stdout",
          "text": [
            "inside\n",
            "waiting for  reshape\n",
            "(45, 45, 3)\n",
            "(45, 45, 3)\n",
            "image size=  (45, 45, 3)\n",
            "(1, 45, 45, 3)\n",
            "This Symbol is : 2 with probability match  ('2', '60.73%')\n"
          ]
        },
        {
          "output_type": "display_data",
          "data": {
            "image/png": "[encoded data removed]",
            "text/plain": [
              "<PIL.Image.Image image mode=RGB size=80x68 at 0x7F146FA33A10>"
            ]
          },
          "metadata": {}
        },
        {
          "output_type": "stream",
          "name": "stdout",
          "text": [
            "inside\n",
            "waiting for  reshape\n",
            "(45, 45, 3)\n",
            "(45, 45, 3)\n",
            "image size=  (45, 45, 3)\n",
            "(1, 45, 45, 3)\n",
            "This Symbol is : A with probability match  ('1', '5.44%')\n"
          ]
        },
        {
          "output_type": "display_data",
          "data": {
            "image/png": "[encoded data removed]",
            "text/plain": [
              "<PIL.Image.Image image mode=RGB size=80x68 at 0x7F1475FB2790>"
            ]
          },
          "metadata": {}
        },
        {
          "output_type": "stream",
          "name": "stdout",
          "text": [
            "inside\n",
            "waiting for  reshape\n",
            "(45, 45, 3)\n",
            "(45, 45, 3)\n",
            "image size=  (45, 45, 3)\n",
            "(1, 45, 45, 3)\n",
            "This Symbol is : A with probability match  ('1', '5.44%')\n"
          ]
        },
        {
          "output_type": "display_data",
          "data": {
            "image/png": "[encoded data removed]",
            "text/plain": [
              "<PIL.Image.Image image mode=RGB size=80x68 at 0x7F1475FB4C50>"
            ]
          },
          "metadata": {}
        },
        {
          "output_type": "stream",
          "name": "stdout",
          "text": [
            "inside\n",
            "waiting for  reshape\n",
            "(45, 45, 3)\n",
            "(45, 45, 3)\n",
            "image size=  (45, 45, 3)\n",
            "(1, 45, 45, 3)\n",
            "This Symbol is : A with probability match  ('1', '5.44%')\n"
          ]
        },
        {
          "output_type": "display_data",
          "data": {
            "image/png": "[encoded data removed]",
            "text/plain": [
              "<PIL.Image.Image image mode=RGB size=80x68 at 0x7F146FA33510>"
            ]
          },
          "metadata": {}
        },
        {
          "output_type": "stream",
          "name": "stdout",
          "text": [
            "inside\n",
            "waiting for  reshape\n",
            "(45, 45, 3)\n",
            "(45, 45, 3)\n",
            "image size=  (45, 45, 3)\n",
            "(1, 45, 45, 3)\n",
            "This Symbol is : A with probability match  ('1', '5.44%')\n"
          ]
        },
        {
          "output_type": "display_data",
          "data": {
            "image/png": "[encoded data removed]",
            "text/plain": [
              "<PIL.Image.Image image mode=RGB size=80x68 at 0x7F1475611C10>"
            ]
          },
          "metadata": {}
        },
        {
          "output_type": "stream",
          "name": "stdout",
          "text": [
            "inside\n",
            "waiting for  reshape\n",
            "(45, 45, 3)\n",
            "(45, 45, 3)\n",
            "image size=  (45, 45, 3)\n",
            "(1, 45, 45, 3)\n",
            "This Symbol is : A with probability match  ('1', '5.44%')\n"
          ]
        },
        {
          "output_type": "display_data",
          "data": {
            "image/png": "[encoded data removed]",
            "text/plain": [
              "<PIL.Image.Image image mode=RGB size=80x68 at 0x7F1475311750>"
            ]
          },
          "metadata": {}
        },
        {
          "output_type": "stream",
          "name": "stdout",
          "text": [
            "inside\n",
            "waiting for  reshape\n",
            "(45, 45, 3)\n",
            "(45, 45, 3)\n",
            "image size=  (45, 45, 3)\n",
            "(1, 45, 45, 3)\n",
            "This Symbol is : A with probability match  ('1', '5.44%')\n"
          ]
        },
        {
          "output_type": "display_data",
          "data": {
            "image/png": "[encoded data removed]",
            "text/plain": [
              "<PIL.Image.Image image mode=RGB size=80x68 at 0x7F14752CEA90>"
            ]
          },
          "metadata": {}
        },
        {
          "output_type": "stream",
          "name": "stdout",
          "text": [
            "inside\n",
            "waiting for  reshape\n",
            "(45, 45, 3)\n",
            "(45, 45, 3)\n",
            "image size=  (45, 45, 3)\n",
            "(1, 45, 45, 3)\n",
            "This Symbol is : A with probability match  ('1', '5.44%')\n"
          ]
        },
        {
          "output_type": "display_data",
          "data": {
            "image/png": "[encoded data removed]",
            "text/plain": [
              "<PIL.Image.Image image mode=RGB size=80x68 at 0x7F14754ACCD0>"
            ]
          },
          "metadata": {}
        },
        {
          "output_type": "stream",
          "name": "stdout",
          "text": [
            "inside\n",
            "waiting for  reshape\n",
            "(45, 45, 3)\n",
            "(45, 45, 3)\n",
            "image size=  (45, 45, 3)\n",
            "(1, 45, 45, 3)\n",
            "This Symbol is : A with probability match  ('1', '5.44%')\n"
          ]
        },
        {
          "output_type": "display_data",
          "data": {
            "image/png": "[encoded data removed]",
            "text/plain": [
              "<PIL.Image.Image image mode=RGB size=80x68 at 0x7F1475396410>"
            ]
          },
          "metadata": {}
        },
        {
          "output_type": "stream",
          "name": "stdout",
          "text": [
            "inside\n",
            "waiting for  reshape\n",
            "(45, 45, 3)\n",
            "(45, 45, 3)\n",
            "image size=  (45, 45, 3)\n",
            "(1, 45, 45, 3)\n",
            "This Symbol is : A with probability match  ('1', '5.44%')\n"
          ]
        },
        {
          "output_type": "display_data",
          "data": {
            "image/png": "[encoded data removed]",
            "text/plain": [
              "<PIL.Image.Image image mode=RGB size=80x68 at 0x7F14753B6E10>"
            ]
          },
          "metadata": {}
        },
        {
          "output_type": "stream",
          "name": "stdout",
          "text": [
            "inside\n",
            "waiting for  reshape\n",
            "(45, 45, 3)\n",
            "(45, 45, 3)\n",
            "image size=  (45, 45, 3)\n",
            "(1, 45, 45, 3)\n",
            "This Symbol is : A with probability match  ('1', '5.44%')\n"
          ]
        },
        {
          "output_type": "display_data",
          "data": {
            "image/png": "[encoded data removed]",
            "text/plain": [
              "<PIL.Image.Image image mode=RGB size=80x68 at 0x7F14728BB2D0>"
            ]
          },
          "metadata": {}
        },
        {
          "output_type": "stream",
          "name": "stdout",
          "text": [
            "inside\n",
            "waiting for  reshape\n",
            "(45, 45, 3)\n",
            "(45, 45, 3)\n",
            "image size=  (45, 45, 3)\n",
            "(1, 45, 45, 3)\n",
            "This Symbol is : A with probability match  ('1', '5.44%')\n"
          ]
        },
        {
          "output_type": "display_data",
          "data": {
            "image/png": "[encoded data removed]",
            "text/plain": [
              "<PIL.Image.Image image mode=RGB size=80x68 at 0x7F1474F6A250>"
            ]
          },
          "metadata": {}
        },
        {
          "output_type": "stream",
          "name": "stdout",
          "text": [
            "inside\n",
            "waiting for  reshape\n",
            "(45, 45, 3)\n",
            "(45, 45, 3)\n",
            "image size=  (45, 45, 3)\n",
            "(1, 45, 45, 3)\n",
            "This Symbol is : A with probability match  ('1', '5.44%')\n"
          ]
        },
        {
          "output_type": "display_data",
          "data": {
            "image/png": "[encoded data removed]",
            "text/plain": [
              "<PIL.Image.Image image mode=RGB size=80x68 at 0x7F1476243490>"
            ]
          },
          "metadata": {}
        }
      ]
    }
  ]
}