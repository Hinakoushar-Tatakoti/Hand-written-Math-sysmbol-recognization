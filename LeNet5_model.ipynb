{
  "cells": [
    {
      "cell_type": "markdown",
      "metadata": {
        "id": "view-in-github",
        "colab_type": "text"
      },
      "source": [
        "<a href=\"https://colab.research.google.com/github/Hinakoushar-Tatakoti/Hand-written-Math-sysmbol-recognization/blob/master/LeNet5_model.ipynb\" target=\"_parent\"><img src=\"https://colab.research.google.com/assets/colab-badge.svg\" alt=\"Open In Colab\"/></a>"
      ]
    },
    {
      "cell_type": "markdown",
      "metadata": {
        "id": "IWZ4Q_hR2Xp1"
      },
      "source": [
        "# Extracting Data from Kaggle"
      ]
    },
    {
      "cell_type": "code",
      "execution_count": 1,
      "metadata": {
        "id": "grghMaRl2bam"
      },
      "outputs": [],
      "source": [
        "!pip install -q kaggle"
      ]
    },
    {
      "cell_type": "code",
      "execution_count": null,
      "metadata": {
        "id": "0S7vAfZ32bd3"
      },
      "outputs": [],
      "source": [
        "from google.colab import files\n",
        "files.upload()"
      ]
    },
    {
      "cell_type": "code",
      "execution_count": 3,
      "metadata": {
        "id": "UhLyg6wN2d5H"
      },
      "outputs": [],
      "source": [
        "! mkdir ~/.kaggle"
      ]
    },
    {
      "cell_type": "code",
      "execution_count": 4,
      "metadata": {
        "id": "sNYRk3Wz2d8G"
      },
      "outputs": [],
      "source": [
        "!cp kaggle.json ~/.kaggle/"
      ]
    },
    {
      "cell_type": "code",
      "execution_count": 5,
      "metadata": {
        "id": "P52dUv9d2hNH"
      },
      "outputs": [],
      "source": [
        "! chmod 600 ~/.kaggle/kaggle.json"
      ]
    },
    {
      "cell_type": "code",
      "execution_count": 6,
      "metadata": {
        "colab": {
          "base_uri": "https://localhost:8080/"
        },
        "id": "yzkTNLu32hQI",
        "outputId": "37c1b0ac-9ac0-4214-dcbb-72569cfb8849"
      },
      "outputs": [
        {
          "output_type": "stream",
          "name": "stdout",
          "text": [
            "Downloading handwrittenmathsymbols.zip to /content\n",
            " 99% 338M/343M [00:09<00:00, 37.9MB/s]\n",
            "100% 343M/343M [00:09<00:00, 38.5MB/s]\n"
          ]
        }
      ],
      "source": [
        "!kaggle datasets download -d xainano/handwrittenmathsymbols"
      ]
    },
    {
      "cell_type": "code",
      "execution_count": null,
      "metadata": {
        "id": "_qoSLiZv2hWa"
      },
      "outputs": [],
      "source": [
        "!unzip  handwrittenmathsymbols.zip"
      ]
    },
    {
      "cell_type": "code",
      "execution_count": null,
      "metadata": {
        "id": "l97SfdMP2lFg"
      },
      "outputs": [],
      "source": [
        "!unrar x data.rar \"/content/data/images/\""
      ]
    },
    {
      "cell_type": "code",
      "execution_count": 9,
      "metadata": {
        "colab": {
          "base_uri": "https://localhost:8080/"
        },
        "id": "iUHSoFGo2lIn",
        "outputId": "04d41664-0d6b-4239-bf84-e25983d3c503"
      },
      "outputs": [
        {
          "output_type": "stream",
          "name": "stdout",
          "text": [
            "Collecting split-folders\n",
            "  Downloading split_folders-0.5.1-py3-none-any.whl (8.4 kB)\n",
            "Installing collected packages: split-folders\n",
            "Successfully installed split-folders-0.5.1\n"
          ]
        }
      ],
      "source": [
        "!pip install split-folders"
      ]
    },
    {
      "cell_type": "code",
      "execution_count": 9,
      "metadata": {
        "id": "gQ_DI0x02lK_"
      },
      "outputs": [],
      "source": [
        ""
      ]
    },
    {
      "cell_type": "markdown",
      "metadata": {
        "id": "XS3Zq9tm2qrA"
      },
      "source": [
        "# PreProcessing"
      ]
    },
    {
      "cell_type": "code",
      "execution_count": 10,
      "metadata": {
        "colab": {
          "base_uri": "https://localhost:8080/"
        },
        "id": "SGfxqleF2t4Y",
        "outputId": "f3da73be-5221-4872-d9b5-9bb2d4612410"
      },
      "outputs": [
        {
          "output_type": "stream",
          "name": "stdout",
          "text": [
            "['lambda', 'pm', 'C', 'beta', '6', 'sin', '7', 'ldots', '8', 'int', 'q', 'e', 'M', 'o', 'X', 'N', '-', 'log', 'tan', 'prime', 'u', 'A', 'forall', 'in', 'y', 'ascii_124', '(', ',', 'exists', 'd', 'R', 'alpha', 'sum', 'div', 'i', 'sigma', '9', 'T', '5', '+', 'forward_slash', 'gamma', 'pi', '4', 'rightarrow', 'l', 'G', 'geq', '2', 'f', '!', 'lim', '=', 'mu', 'S', 'w', 'theta', 'p', ']', 'times', '{', 'H', 'leq', '0', 'phi', ')', 'Delta', 'k', 'j', '}', 'z', 'gt', 'lt', 'v', 'b', 'sqrt', 'infty', '1', '3', '[', 'cos', 'neq']\n"
          ]
        }
      ],
      "source": [
        "\n",
        "import numpy as np \n",
        "import pandas as pd \n",
        "\n",
        "\n",
        "import os\n",
        "print(os.listdir(\"/content/data/images/extracted_images/\"))"
      ]
    },
    {
      "cell_type": "code",
      "execution_count": 11,
      "metadata": {
        "id": "jHGqPBA326JZ"
      },
      "outputs": [],
      "source": [
        "import os\n",
        "import numpy as np\n",
        "from tqdm import tqdm\n",
        "from fastai import *\n",
        "import torch\n",
        "from fastai.vision import *\n",
        "%matplotlib inline\n",
        "from fastai.callbacks import *\n",
        "import cv2\n",
        "import pandas as pd\n",
        "import splitfolders\n",
        "\n",
        "from tensorflow.keras.preprocessing.image import ImageDataGenerator\n",
        "from tensorflow.keras.preprocessing import image\n",
        "import matplotlib.pyplot as plt\n",
        "import tensorflow as tf\n",
        "import cv2 as cv\n",
        "import numpy as np"
      ]
    },
    {
      "cell_type": "code",
      "execution_count": 12,
      "metadata": {
        "id": "u4AmcK3a26OF"
      },
      "outputs": [],
      "source": [
        "image_load_size = 64\n",
        "bs = 24"
      ]
    },
    {
      "cell_type": "code",
      "execution_count": 13,
      "metadata": {
        "id": "ZQ69Dlux3a87"
      },
      "outputs": [],
      "source": [
        "labels= ['-', 'j', 'v', 'u', '[', 'i', 'M', '5', '7', ']', 'y', 'A', \n",
        "          'prime', 'b', 'S', 'in', 'pi', 'lt', '}', 'w', '3', 'k', 'X', 'H', 'log', 'beta', 'o',\n",
        "          'lambda', '=', 'div', '0', '(', 'infty', 'N', 'C', 'phi', 'd', '8', 'R', 'alpha', \n",
        "          'forall', '4', 'ascii_124', 'q', 'p', 'pm', 'e', '6', 'z', 'G', 'l', 'theta', \n",
        "          'leq', 'cos', 'ldots', 'lim', 'int', 'gt', '2', 'sin', ')', 'sqrt', '+', 'f', \n",
        "          'geq', 'T', '9', 'Delta', 'exists', 'forward_slash', 'tan', ',', 'sigma', 'mu',\n",
        "          'rightarrow', 'neq', 'sum', '{', '!', '1', 'times', 'gamma']"
      ]
    },
    {
      "cell_type": "code",
      "execution_count": 14,
      "metadata": {
        "colab": {
          "base_uri": "https://localhost:8080/"
        },
        "id": "J6Byck7-3L6J",
        "outputId": "a0cd2b8b-8679-41a7-dab5-de35325a6b67"
      },
      "outputs": [
        {
          "output_type": "stream",
          "name": "stdout",
          "text": [
            "Found 282007 images belonging to 82 classes.\n",
            "Found 93967 images belonging to 82 classes.\n"
          ]
        }
      ],
      "source": [
        "train_path = \"/content/data/images/extracted_images\"\n",
        "\n",
        "train_datagen = ImageDataGenerator(\n",
        "    rescale = 1./255, \n",
        "    shear_range = 0.2, \n",
        "    zoom_range = 0.2,\n",
        "    validation_split = 0.25\n",
        ")\n",
        "train_set = train_datagen.flow_from_directory(\n",
        "    train_path, \n",
        "    target_size = (45, 45), \n",
        "    color_mode = 'grayscale',\n",
        "    batch_size = 32,\n",
        "    class_mode = 'categorical',\n",
        "    classes = labels,\n",
        "    shuffle = True,\n",
        "    subset='training',\n",
        "    seed = 123\n",
        ")\n",
        "\n",
        "test_set = train_datagen.flow_from_directory(\n",
        "    train_path, \n",
        "    target_size = (45, 45), \n",
        "    color_mode = 'grayscale',\n",
        "    batch_size = 32,\n",
        "    class_mode = 'categorical',\n",
        "    classes = labels,\n",
        "    shuffle = True,\n",
        "    subset='validation',\n",
        "    seed = 123\n",
        ")"
      ]
    },
    {
      "cell_type": "code",
      "execution_count": 15,
      "metadata": {
        "id": "09o9LdIg3MCB"
      },
      "outputs": [],
      "source": [
        "def symbol(ind):\n",
        "    symbols = labels\n",
        "    symb = symbols[ind.argmax()]\n",
        "    return symb"
      ]
    },
    {
      "cell_type": "code",
      "execution_count": 16,
      "metadata": {
        "colab": {
          "base_uri": "https://localhost:8080/",
          "height": 312
        },
        "id": "l-lxGpyL3MEW",
        "outputId": "3d7aade3-5815-45ed-8ab5-5987c3950001"
      },
      "outputs": [
        {
          "output_type": "display_data",
          "data": {
            "image/png": "[encoded data removed]",
            "text/plain": [
              "<Figure size 1440x1440 with 10 Axes>"
            ]
          },
          "metadata": {
            "needs_background": "light"
          }
        },
        {
          "output_type": "stream",
          "name": "stdout",
          "text": [
            "y\n",
            "1\n",
            "X\n",
            "1\n",
            "6\n",
            "d\n",
            "tan\n",
            "T\n",
            "cos\n",
            "1\n"
          ]
        }
      ],
      "source": [
        "imgs, leb = next(train_set)\n",
        "\n",
        "def plotImages(images_arr):\n",
        "    fig, axes = plt.subplots(1, 10, figsize = (20,20))\n",
        "    axes = axes.flatten()\n",
        "    for img, ax in zip(images_arr, axes):\n",
        "        ax.imshow(cv.cvtColor(img, cv.COLOR_RGB2BGR))\n",
        "        ax.axis('off')\n",
        "    plt.tight_layout()\n",
        "    plt.show()\n",
        "    \n",
        "plotImages(imgs)\n",
        "for i in range(10):\n",
        "    print(symbol(leb[i]))"
      ]
    },
    {
      "cell_type": "markdown",
      "metadata": {
        "id": "OMH475xr4f1s"
      },
      "source": [
        "# Using LeNet-5 with some changes"
      ]
    },
    {
      "cell_type": "code",
      "execution_count": 17,
      "metadata": {
        "id": "yll8g1KK4jNr"
      },
      "outputs": [],
      "source": [
        "model = tf.keras.models.Sequential()\n",
        "\n",
        "# First Convolutional Block\n",
        "model.add(tf.keras.layers.Conv2D(filters=32, kernel_size=(5,5), padding='same', activation='relu', input_shape=(45, 45, 1)))\n",
        "model.add(tf.keras.layers.MaxPool2D(strides=2))\n",
        "\n",
        "# Second Convolutional Block\n",
        "model.add(tf.keras.layers.Conv2D(filters=48, kernel_size=(5,5), padding='valid', activation='relu'))\n",
        "model.add(tf.keras.layers.MaxPool2D(strides=2))\n",
        "\n",
        "# Classifier Head\n",
        "model.add(tf.keras.layers.Flatten())\n",
        "model.add(tf.keras.layers.Dense(256, activation='relu'))\n",
        "model.add(tf.keras.layers.Dense(84, activation='relu'))\n",
        "model.add(tf.keras.layers.Dense(82, activation='softmax'))"
      ]
    },
    {
      "cell_type": "code",
      "execution_count": 18,
      "metadata": {
        "colab": {
          "base_uri": "https://localhost:8080/"
        },
        "id": "e-nqVptr4jRB",
        "outputId": "1f79af28-a8e0-4cc5-d025-3f552ca53774"
      },
      "outputs": [
        {
          "output_type": "stream",
          "name": "stdout",
          "text": [
            "Model: \"sequential\"\n",
            "_________________________________________________________________\n",
            " Layer (type)                Output Shape              Param #   \n",
            "=================================================================\n",
            " conv2d (Conv2D)             (None, 45, 45, 32)        832       \n",
            "                                                                 \n",
            " max_pooling2d (MaxPooling2D  (None, 22, 22, 32)       0         \n",
            " )                                                               \n",
            "                                                                 \n",
            " conv2d_1 (Conv2D)           (None, 18, 18, 48)        38448     \n",
            "                                                                 \n",
            " max_pooling2d_1 (MaxPooling  (None, 9, 9, 48)         0         \n",
            " 2D)                                                             \n",
            "                                                                 \n",
            " conv2d_2 (Conv2D)           (None, 5, 5, 64)          76864     \n",
            "                                                                 \n",
            " max_pooling2d_2 (MaxPooling  (None, 2, 2, 64)         0         \n",
            " 2D)                                                             \n",
            "                                                                 \n",
            " flatten (Flatten)           (None, 256)               0         \n",
            "                                                                 \n",
            " dense (Dense)               (None, 256)               65792     \n",
            "                                                                 \n",
            " dense_1 (Dense)             (None, 84)                21588     \n",
            "                                                                 \n",
            " dense_2 (Dense)             (None, 82)                6970      \n",
            "                                                                 \n",
            "=================================================================\n",
            "Total params: 210,494\n",
            "Trainable params: 210,494\n",
            "Non-trainable params: 0\n",
            "_________________________________________________________________\n"
          ]
        }
      ],
      "source": [
        "model.summary()"
      ]
    },
    {
      "cell_type": "code",
      "execution_count": 19,
      "metadata": {
        "id": "Moo2aYgS4oxw"
      },
      "outputs": [],
      "source": [
        "adam = tf.keras.optimizers.Adam(learning_rate = 5e-4)\n",
        "model.compile(optimizer = adam, loss = 'categorical_crossentropy', metrics = ['accuracy'])\n",
        "\n"
      ]
    },
    {
      "cell_type": "code",
      "execution_count": 20,
      "metadata": {
        "colab": {
          "base_uri": "https://localhost:8080/"
        },
        "id": "u5gzOzGX4o02",
        "outputId": "f8f7bc08-6747-4d8f-bccd-2409fd000ed1"
      },
      "outputs": [
        {
          "output_type": "stream",
          "name": "stdout",
          "text": [
            "Epoch 1/3\n",
            "8813/8813 [==============================] - 1573s 178ms/step - loss: 0.8213 - accuracy: 0.7769 - val_loss: 0.4744 - val_accuracy: 0.8574\n",
            "Epoch 2/3\n",
            "8813/8813 [==============================] - 1648s 187ms/step - loss: 0.4053 - accuracy: 0.8779 - val_loss: 0.3668 - val_accuracy: 0.8879\n",
            "Epoch 3/3\n",
            "8813/8813 [==============================] - 1695s 192ms/step - loss: 0.3323 - accuracy: 0.8979 - val_loss: 0.3079 - val_accuracy: 0.9053\n"
          ]
        },
        {
          "output_type": "execute_result",
          "data": {
            "text/plain": [
              "<keras.callbacks.History at 0x7fb927266dd0>"
            ]
          },
          "metadata": {},
          "execution_count": 20
        }
      ],
      "source": [
        "model.fit(train_set, validation_data = test_set, epochs = 3)"
      ]
    },
    {
      "cell_type": "code",
      "execution_count": 20,
      "metadata": {
        "id": "9OLMCb7759tQ"
      },
      "outputs": [],
      "source": [
        ""
      ]
    },
    {
      "cell_type": "markdown",
      "metadata": {
        "id": "O1yCE38g5-VQ"
      },
      "source": [
        "# Model Evaluation"
      ]
    },
    {
      "cell_type": "code",
      "execution_count": 25,
      "metadata": {
        "colab": {
          "base_uri": "https://localhost:8080/"
        },
        "id": "s6XnOMqa59xB",
        "outputId": "26c694e3-2941-4488-8633-90d6fd5f1b93"
      },
      "outputs": [
        {
          "output_type": "stream",
          "name": "stdout",
          "text": [
            "2937/2937 [==============================] - 163s 56ms/step - loss: 0.3079 - accuracy: 0.9058\n",
            "0.3079117238521576 0.9057754278182983\n"
          ]
        }
      ],
      "source": [
        "val_loss, val_accuracy = model.evaluate(test_set)\n",
        "print(val_loss,val_accuracy)"
      ]
    },
    {
      "cell_type": "markdown",
      "metadata": {
        "id": "Ufz5vPx-6Co2"
      },
      "source": [
        "# Model Predictions\n"
      ]
    },
    {
      "cell_type": "code",
      "execution_count": 26,
      "metadata": {
        "id": "wM_uWdT759z-"
      },
      "outputs": [],
      "source": [
        "def prediction(image_path):\n",
        "    img = cv.imread(image_path, cv.IMREAD_GRAYSCALE)\n",
        "    plt.imshow(img, cmap = 'gray')\n",
        "    img = cv.resize(img,(45, 45))\n",
        "    norm_image = cv.normalize(img, None, alpha = 0, beta = 1, norm_type = cv.NORM_MINMAX, dtype = cv.CV_32F)\n",
        "    norm_image = norm_image.reshape((norm_image.shape[0], norm_image.shape[1], 1))\n",
        "    case = np.asarray([norm_image])\n",
        "    pred = model.predict([case])\n",
        "    \n",
        "    return 'Prediction: ' + symbol(pred)"
      ]
    },
    {
      "cell_type": "code",
      "execution_count": 27,
      "metadata": {
        "colab": {
          "base_uri": "https://localhost:8080/",
          "height": 287
        },
        "id": "jVZ_BOFl6IMi",
        "outputId": "26d15f38-6117-40af-bd03-445874ef95d3"
      },
      "outputs": [
        {
          "output_type": "stream",
          "name": "stdout",
          "text": [
            "Prediction: 0\n"
          ]
        },
        {
          "output_type": "display_data",
          "data": {
            "image/png": "[encoded data removed]",
            "text/plain": [
              "<Figure size 432x288 with 1 Axes>"
            ]
          },
          "metadata": {
            "needs_background": "light"
          }
        }
      ],
      "source": [
        "image1_path = '/content/sample_data/zero.png'\n",
        "p1 = prediction(image1_path)\n",
        "print(p1)"
      ]
    },
    {
      "cell_type": "code",
      "execution_count": 28,
      "metadata": {
        "colab": {
          "base_uri": "https://localhost:8080/",
          "height": 287
        },
        "id": "bQltJP_c6Jwa",
        "outputId": "1aba4283-c951-4c05-e8dd-3142fe5f3362"
      },
      "outputs": [
        {
          "output_type": "stream",
          "name": "stdout",
          "text": [
            "Prediction: ldots\n"
          ]
        },
        {
          "output_type": "display_data",
          "data": {
            "image/png": "[encoded data removed]",
            "text/plain": [
              "<Figure size 432x288 with 1 Axes>"
            ]
          },
          "metadata": {
            "needs_background": "light"
          }
        }
      ],
      "source": [
        "image2_path = '/content/sample_data/plus.png'\n",
        "p2 = prediction(image2_path)\n",
        "print(p2)"
      ]
    },
    {
      "cell_type": "code",
      "execution_count": 29,
      "metadata": {
        "colab": {
          "base_uri": "https://localhost:8080/",
          "height": 287
        },
        "id": "47ApQd0n6LmX",
        "outputId": "befca7d1-89c6-44f5-839c-ceea364311a0"
      },
      "outputs": [
        {
          "output_type": "stream",
          "name": "stdout",
          "text": [
            "Prediction: (\n"
          ]
        },
        {
          "output_type": "display_data",
          "data": {
            "image/png": "[encoded data removed]",
            "text/plain": [
              "<Figure size 432x288 with 1 Axes>"
            ]
          },
          "metadata": {
            "needs_background": "light"
          }
        }
      ],
      "source": [
        "image3_path = '/content/sample_data/left_curve.png'\n",
        "p3 = prediction(image3_path)\n",
        "print(p3)"
      ]
    },
    {
      "cell_type": "code",
      "source": [
        "image3_path = '/content/sample_data/rightarrow.jpg'\n",
        "p3 = prediction(image3_path)\n",
        "print(p3)"
      ],
      "metadata": {
        "colab": {
          "base_uri": "https://localhost:8080/",
          "height": 287
        },
        "id": "wtsMfy_-1BEX",
        "outputId": "a1ee7461-d196-4aaa-8707-1bbb8a761d9e"
      },
      "execution_count": 30,
      "outputs": [
        {
          "output_type": "stream",
          "name": "stdout",
          "text": [
            "Prediction: ldots\n"
          ]
        },
        {
          "output_type": "display_data",
          "data": {
            "image/png": "[encoded data removed]",
            "text/plain": [
              "<Figure size 432x288 with 1 Axes>"
            ]
          },
          "metadata": {
            "needs_background": "light"
          }
        }
      ]
    }
  ],
  "metadata": {
    "accelerator": "GPU",
    "colab": {
      "name": "LeNet5_model.ipynb",
      "provenance": [],
      "authorship_tag": "ABX9TyPXLdocDoOf0+RImfnEVdoK",
      "include_colab_link": true
    },
    "kernelspec": {
      "display_name": "Python 3",
      "name": "python3"
    },
    "language_info": {
      "name": "python"
    }
  },
  "nbformat": 4,
  "nbformat_minor": 0
}