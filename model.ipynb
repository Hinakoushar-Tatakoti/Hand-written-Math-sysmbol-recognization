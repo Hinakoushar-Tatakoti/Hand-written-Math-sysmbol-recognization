{
  "nbformat": 4,
  "nbformat_minor": 0,
  "metadata": {
    "colab": {
      "name": "Untitled2.ipynb",
      "provenance": [],
      "authorship_tag": "ABX9TyPFAMJEgnLTBbo0yALRkAI4",
      "include_colab_link": true
    },
    "kernelspec": {
      "name": "python3",
      "display_name": "Python 3"
    },
    "language_info": {
      "name": "python"
    }
  },
  "cells": [
    {
      "cell_type": "markdown",
      "metadata": {
        "id": "view-in-github",
        "colab_type": "text"
      },
      "source": [
        "<a href=\"https://colab.research.google.com/github/Hinakoushar-Tatakoti/Hand-written-Math-sysmbol-recognization/blob/master/model.ipynb\" target=\"_parent\"><img src=\"https://colab.research.google.com/assets/colab-badge.svg\" alt=\"Open In Colab\"/></a>"
      ]
    },
    {
      "cell_type": "code",
      "execution_count": 1,
      "metadata": {
        "id": "gqqS0olRvIBR"
      },
      "outputs": [],
      "source": [
        "## import statements\n",
        "\n",
        "import tensorflow as tf\n",
        "from tensorflow.keras.models import Sequential\n",
        "from tensorflow.keras.layers import BatchNormalization\n",
        "from tensorflow.keras.layers import Conv2D\n",
        "from tensorflow.keras.layers import MaxPooling2D\n",
        "from tensorflow.keras.layers import Activation\n",
        "from tensorflow.keras.layers import Flatten\n",
        "from tensorflow.keras.layers import Dropout\n",
        "from tensorflow.keras.layers import Dense\n",
        "from keras import backend as K\n"
      ]
    },
    {
      "cell_type": "code",
      "source": [
        "class VGGNet:\n",
        "    @staticmethod\n",
        "    def build(width, height, depth, classes, activFct=\"softmax\"): \n",
        "        model = Sequential()\n",
        "        inputShape = (height, width, depth)\n",
        "        chanDim = -1\n",
        " \n",
        "        # if we are using \"channels first\", update the input shape\n",
        "        # and channels dimension\n",
        "        if K.image_data_format() == \"channels_first\":\n",
        "            inputShape = (depth, height, width)\n",
        "            chanDim = 1\n",
        "        # CONV => RELU => POOL\n",
        "        model.add(Conv2D(32, (2, 2), input_shape = inputShape)) \n",
        "        model.add(Activation('relu')) \n",
        "        model.add(MaxPooling2D(pool_size =(2, 2))) \n",
        "        \n",
        "        model.add(Conv2D(32, (2, 2))) \n",
        "        model.add(Activation('relu')) \n",
        "        model.add(MaxPooling2D(pool_size =(2, 2))) \n",
        "        \n",
        "        model.add(Conv2D(64, (2, 2))) \n",
        "        model.add(Activation('relu')) \n",
        "        model.add(MaxPooling2D(pool_size =(2, 2))) \n",
        "        \n",
        "        model.add(Flatten()) \n",
        "        model.add(Dense(64)) \n",
        "        model.add(Activation('relu')) \n",
        "        model.add(Dropout(0.5)) \n",
        "        model.add(Dense(classes)) \n",
        "        model.add(Activation(activFct))\n",
        "        return model"
      ],
      "metadata": {
        "id": "tRQ94wJbvRrY"
      },
      "execution_count": 2,
      "outputs": []
    }
  ]
}