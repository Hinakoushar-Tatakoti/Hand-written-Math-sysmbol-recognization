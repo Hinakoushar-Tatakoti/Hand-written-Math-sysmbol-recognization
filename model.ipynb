{
 "cells": [
  {
   "cell_type": "code",
   "execution_count": 4,
   "metadata": {},
   "outputs": [],
   "source": [
    "import tensorflow as tf\n"
   ]
  },
  {
   "cell_type": "code",
   "execution_count": 12,
   "metadata": {},
   "outputs": [],
   "source": [
    "from tensorflow.keras.models import Sequential\n",
    "from tensorflow.keras.layers import BatchNormalization\n",
    "from tensorflow.keras.layers import Conv2D\n",
    "from tensorflow.keras.layers import MaxPooling2D\n",
    "from tensorflow.keras.layers import Activation\n",
    "from tensorflow.keras.layers import Flatten\n",
    "from tensorflow.keras.layers import Dropout\n",
    "from tensorflow.keras.layers import Dense\n",
    "from keras import backend as K\n"
   ]
  },
  {
   "cell_type": "code",
   "execution_count": 13,
   "metadata": {},
   "outputs": [],
   "source": [
    "class VGGNet:\n",
    "    @staticmethod\n",
    "    def build(width, height, depth, classes, activFct=\"softmax\"): \n",
    "        #finalAct='softmax' for single-label classification || finalAct='sigmoid' for multi-label classification \n",
    "        # initialize the model along with the input shape to be\n",
    "        # \"channels last\" and the channels dimension itself\n",
    "        model = Sequential()\n",
    "        inputShape = (height, width, depth)\n",
    "        chanDim = -1\n",
    " \n",
    "        # if we are using \"channels first\", update the input shape\n",
    "        # and channels dimension\n",
    "        if K.image_data_format() == \"channels_first\":\n",
    "            inputShape = (depth, height, width)\n",
    "            chanDim = 1\n",
    "        # CONV => RELU => POOL\n",
    "        model.add(Conv2D(32, (2, 2), input_shape = inputShape)) \n",
    "        model.add(Activation('relu')) \n",
    "        model.add(MaxPooling2D(pool_size =(2, 2))) \n",
    "        \n",
    "        model.add(Conv2D(32, (2, 2))) \n",
    "        model.add(Activation('relu')) \n",
    "        model.add(MaxPooling2D(pool_size =(2, 2))) \n",
    "        \n",
    "        model.add(Conv2D(64, (2, 2))) \n",
    "        model.add(Activation('relu')) \n",
    "        model.add(MaxPooling2D(pool_size =(2, 2))) \n",
    "        \n",
    "        model.add(Flatten()) \n",
    "        model.add(Dense(64)) \n",
    "        model.add(Activation('relu')) \n",
    "        model.add(Dropout(0.5)) \n",
    "        model.add(Dense(classes)) \n",
    "        model.add(Activation(activFct))\n",
    "\n",
    " \n",
    "        # return the constructed network architecture\n",
    "        return model"
   ]
  }
 ],
 "metadata": {
  "kernelspec": {
   "display_name": "Python 3",
   "language": "python",
   "name": "python3"
  },
  "language_info": {
   "codemirror_mode": {
    "name": "ipython",
    "version": 3
   },
   "file_extension": ".py",
   "mimetype": "text/x-python",
   "name": "python",
   "nbconvert_exporter": "python",
   "pygments_lexer": "ipython3",
   "version": "3.8.3"
  }
 },
 "nbformat": 4,
 "nbformat_minor": 4
}
