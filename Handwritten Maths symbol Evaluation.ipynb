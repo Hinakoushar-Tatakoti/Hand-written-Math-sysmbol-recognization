{
 "cells": [
  {
   "cell_type": "code",
   "execution_count": 1,
   "metadata": {},
   "outputs": [],
   "source": [
    "from keras.preprocessing.image import img_to_array\n",
    "from keras.models import load_model\n",
    "import numpy as np\n",
    "import argparse\n",
    "import imutils\n",
    "import pickle\n",
    "import cv2\n",
    "import os"
   ]
  },
  {
   "cell_type": "code",
   "execution_count": 3,
   "metadata": {},
   "outputs": [
    {
     "name": "stdout",
     "output_type": "stream",
     "text": [
      "(45, 45, 3)\n"
     ]
    }
   ],
   "source": [
    "# load the image\n",
    "image = cv2.imread(\")_2247.jpg\")\n",
    "print(image.shape)\n",
    "output = imutils.resize(image, width=400)\n",
    " \n",
    "# pre-process the image for classification\n",
    "image = cv2.resize(image, (45, 45))\n",
    "image = image.astype(\"float\") / 255.0\n",
    "image = img_to_array(image)\n",
    "image = np.expand_dims(image, axis=0)"
   ]
  },
  {
   "cell_type": "code",
   "execution_count": 4,
   "metadata": {},
   "outputs": [
    {
     "name": "stdout",
     "output_type": "stream",
     "text": [
      "[INFO] loading network...\n",
      "[INFO] classifying image...\n"
     ]
    }
   ],
   "source": [
    "# load the trained convolutional neural network and the multi-label\n",
    "# binarizer\n",
    "print(\"[INFO] loading network...\")\n",
    "model = load_model(\"model.model\")\n",
    "mlb = pickle.loads(open(\"labels.pickle\", \"rb\").read())\n",
    " \n",
    " #%%\n",
    "# classify the input image then find the indexes of the two class\n",
    "# labels with the *largest* probability\n",
    "print(\"[INFO] classifying image...\")\n",
    "proba = model.predict(image)[0]\n",
    "idxs = np.argsort(proba)[::-1][:2]\n",
    "# loop over the indexes of the high confidence class labels"
   ]
  },
  {
   "cell_type": "code",
   "execution_count": 5,
   "metadata": {},
   "outputs": [],
   "source": [
    "for (i, j) in enumerate(idxs):\n",
    "    # build the label and draw the label on the image\n",
    "    label = \"{}: {:.2f}%\".format(mlb.classes_[j], proba[j] * 100)\n",
    "    cv2.putText(output, label, (10, (i * 30) + 25), \n",
    "        cv2.FONT_HERSHEY_SIMPLEX, 0.7, (0, 255, 0), 2)"
   ]
  },
  {
   "cell_type": "code",
   "execution_count": 6,
   "metadata": {},
   "outputs": [
    {
     "name": "stdout",
     "output_type": "stream",
     "text": [
      "!: 0.00%\n",
      "(: 0.00%\n",
      "): 97.66%\n",
      "+: 0.00%\n",
      ",: 1.02%\n",
      "-: 0.00%\n",
      "0: 0.00%\n",
      "1: 0.54%\n",
      "2: 0.72%\n",
      "3: 0.00%\n",
      "4: 0.00%\n",
      "5: 0.00%\n",
      "6: 0.00%\n",
      "7: 0.00%\n",
      "8: 0.00%\n",
      "9: 0.00%\n",
      "=: 0.00%\n",
      "A: 0.00%\n",
      "C: 0.00%\n",
      "D: 0.00%\n",
      "G: 0.00%\n",
      "H: 0.00%\n",
      "M: 0.00%\n",
      "N: 0.00%\n",
      "R: 0.00%\n",
      "S: 0.00%\n",
      "T: 0.00%\n",
      "X: 0.00%\n",
      "[: 0.00%\n",
      "]: 0.00%\n",
      "_: 0.00%\n",
      "a: 0.01%\n",
      "b: 0.00%\n",
      "c: 0.00%\n",
      "d: 0.00%\n",
      "e: 0.00%\n",
      "f: 0.00%\n",
      "g: 0.00%\n",
      "h: 0.00%\n",
      "i: 0.00%\n",
      "j: 0.00%\n",
      "k: 0.00%\n",
      "l: 0.00%\n",
      "m: 0.00%\n",
      "n: 0.00%\n",
      "o: 0.00%\n",
      "p: 0.00%\n",
      "q: 0.00%\n",
      "r: 0.00%\n",
      "s: 0.00%\n",
      "t: 0.00%\n",
      "u: 0.00%\n",
      "v: 0.00%\n",
      "w: 0.00%\n",
      "x: 0.00%\n",
      "y: 0.00%\n",
      "z: 0.00%\n",
      "{: 0.00%\n",
      "}: 0.00%\n",
      "This Symbol is : )\n"
     ]
    }
   ],
   "source": [
    "# show the probabilities for each of the individual labels\n",
    "for (label, p) in zip(mlb.classes_, proba):\n",
    "    print(\"{}: {:.2f}%\".format(label, p * 100))\n",
    "# show the output image\n",
    "cv2.imshow(\"Output\", output)\n",
    "cv2.waitKey(0)\n",
    "\n",
    "print (\"This Symbol is :\",' '.join(mlb.classes_[proba.argmax(axis=-1)]))\n",
    "#model.predict_classes(image)\n",
    "#result = \"This Symbol is : \".join(mlb.classes_[proba.argmax(axis=-1)])"
   ]
  }
 ],
 "metadata": {
  "kernelspec": {
   "display_name": "Python 3",
   "language": "python",
   "name": "python3"
  },
  "language_info": {
   "codemirror_mode": {
    "name": "ipython",
    "version": 3
   },
   "file_extension": ".py",
   "mimetype": "text/x-python",
   "name": "python",
   "nbconvert_exporter": "python",
   "pygments_lexer": "ipython3",
   "version": "3.8.3"
  }
 },
 "nbformat": 4,
 "nbformat_minor": 4
}
