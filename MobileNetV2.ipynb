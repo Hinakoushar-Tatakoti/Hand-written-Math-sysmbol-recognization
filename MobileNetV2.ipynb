{
  "cells": [
    {
      "cell_type": "markdown",
      "metadata": {
        "id": "view-in-github",
        "colab_type": "text"
      },
      "source": [
        "<a href=\"https://colab.research.google.com/github/Hinakoushar-Tatakoti/Hand-written-Math-sysmbol-recognization/blob/master/MobileNetV2.ipynb\" target=\"_parent\"><img src=\"https://colab.research.google.com/assets/colab-badge.svg\" alt=\"Open In Colab\"/></a>"
      ]
    },
    {
      "cell_type": "code",
      "execution_count": 3,
      "metadata": {
        "id": "2W63ei7FCN_J"
      },
      "outputs": [],
      "source": [
        "import os\n",
        "import pandas as pd\n",
        "from sklearn.model_selection import train_test_split\n",
        "import tensorflow as tf\n",
        "from tensorflow import keras\n",
        "from tensorflow.keras.layers import Dense, Activation,Dropout,Conv2D, MaxPooling2D,BatchNormalization\n",
        "from tensorflow.keras.optimizers import Adam, Adamax\n",
        "from tensorflow.keras.metrics import categorical_crossentropy\n",
        "from tensorflow.keras import regularizers\n",
        "from tensorflow.keras.preprocessing.image import ImageDataGenerator\n",
        "from tensorflow.keras.models import Model, load_model, Sequential"
      ]
    },
    {
      "cell_type": "code",
      "source": [
        "!pip install -q kaggle\n",
        "from google.colab import files\n",
        "files.upload()\n",
        "! mkdir ~/.kaggle\n",
        "!cp kaggle.json ~/.kaggle/\n",
        "! chmod 600 ~/.kaggle/kaggle.json\n",
        "!kaggle datasets download -d xainano/handwrittenmathsymbols\n",
        "!unzip  handwrittenmathsymbols.zip\n",
        "!unrar x data.rar \"/content/data/\""
      ],
      "metadata": {
        "id": "tNDo46H4ERRY"
      },
      "execution_count": null,
      "outputs": []
    },
    {
      "cell_type": "code",
      "execution_count": null,
      "metadata": {
        "id": "QPcfeeyUCN_L"
      },
      "outputs": [],
      "source": [
        "\n",
        "sdir=r'/content/data/extracted_images'\n",
        "classlist=os.listdir(sdir)\n",
        "filepaths=[]\n",
        "labels=[]\n",
        "classes=[]\n",
        "for klass in classlist:    \n",
        "    classpath=os.path.join(sdir, klass)\n",
        "    if os.path.isdir(classpath): \n",
        "        classes.append(klass)\n",
        "        flist=os.listdir(classpath)\n",
        "        for f in flist:\n",
        "            fpath=os.path.join(classpath,f)\n",
        "            if os.path.isfile(fpath):\n",
        "                filepaths.append(fpath)\n",
        "                labels.append(klass)\n"
      ]
    },
    {
      "cell_type": "code",
      "source": [
        ""
      ],
      "metadata": {
        "id": "YG-Iu6u8EPff"
      },
      "execution_count": null,
      "outputs": []
    },
    {
      "cell_type": "code",
      "execution_count": null,
      "metadata": {
        "id": "54wkUvV7CN_L"
      },
      "outputs": [],
      "source": [
        "fseries=pd.Series(filepaths, name='filepaths')\n",
        "Lseries=pd.Series (labels, name='labels')\n",
        "df=pd.concat([fseries, Lseries], axis=1)\n",
        "balance=df['labels'].value_counts()\n",
        "print (balance) # dataset is reasonably balanced\n",
        "train_split=.8\n",
        "test_split=.05\n",
        "dummy_split=test_split/(1-train_split)\n",
        "train_df, dummy_df=train_test_split(df, train_size=train_split, shuffle=True, random_state = 123)\n",
        "test_df, valid_df=train_test_split(dummy_df, train_size=dummy_split, shuffle=True, random_state=123)\n"
      ]
    },
    {
      "cell_type": "code",
      "execution_count": null,
      "metadata": {
        "id": "rhipDzC_CN_M"
      },
      "outputs": [],
      "source": [
        "def scalar(img):\n",
        "    return img/127.5-1 # scale pixels between -1 and + 1\n"
      ]
    },
    {
      "cell_type": "code",
      "execution_count": null,
      "metadata": {
        "id": "oWZO7iqPCN_M"
      },
      "outputs": [],
      "source": [
        "gen=ImageDataGenerator(preprocessing_function=scalar)\n",
        "train_gen=gen.flow_from_dataframe(train_df, x_col= 'filepaths', y_col='labels', target_size=(45,45), class_mode='categorical',\n",
        "                                  color_mode='rgb', shuffle=False)\n",
        "\n",
        "test_gen=gen.flow_from_dataframe(test_df, x_col= 'filepaths', y_col='labels', target_size=(45,45), class_mode='categorical',\n",
        "                                  color_mode='rgb', shuffle=False)\n",
        "\n",
        "valid_gen=gen.flow_from_dataframe(valid_df, x_col= 'filepaths', y_col='labels', target_size=(45,45), class_mode='categorical',\n",
        "                                  color_mode='rgb', shuffle=False)\n"
      ]
    },
    {
      "cell_type": "code",
      "execution_count": null,
      "metadata": {
        "id": "QsrkjLwOCN_N"
      },
      "outputs": [],
      "source": [
        "base_model=tf.keras.applications.MobileNetV2( include_top=False, input_shape=(128,128,3), pooling='max', weights='imagenet') \n",
        "x=base_model.output\n",
        "x=keras.layers.BatchNormalization(axis=-1, momentum=0.99, epsilon=0.001 )(x)\n",
        "\n",
        "x = Dense(1024, kernel_regularizer = regularizers.l2(l = 0.016),activity_regularizer=regularizers.l1(0.006),\n",
        "                bias_regularizer=regularizers.l1(0.006) ,activation='relu', kernel_initializer= tf.keras.initializers.GlorotUniform(seed=123))(x)\n",
        "x=Dropout(rate=.3, seed=123)(x)    \n",
        "\n",
        "output=Dense(len(classes), activation='softmax',kernel_initializer=tf.keras.initializers.GlorotUniform(seed=123))(x)\n",
        "\n"
      ]
    },
    {
      "cell_type": "code",
      "source": [
        "len(classes)"
      ],
      "metadata": {
        "id": "1UTOhnrvCekq"
      },
      "execution_count": null,
      "outputs": []
    },
    {
      "cell_type": "code",
      "execution_count": null,
      "metadata": {
        "id": "7wZ7MSgLCN_N"
      },
      "outputs": [],
      "source": [
        "model=Model(inputs=base_model.input, outputs=output)\n",
        "model.compile(Adamax(lr=.001), loss='categorical_crossentropy', metrics=['accuracy'])  \n"
      ]
    },
    {
      "cell_type": "code",
      "execution_count": null,
      "metadata": {
        "id": "KIdLeoaDCN_O"
      },
      "outputs": [],
      "source": [
        "estop=tf.keras.callbacks.EarlyStopping( monitor=\"val_loss\",  patience=4, verbose=1,restore_best_weights=True)\n",
        "rlronp=tf.keras.callbacks.ReduceLROnPlateau(  monitor=\"val_loss\",factor=0.2, patience=1, verbose=1)\n",
        "history=model.fit(x=train_gen,  epochs=3, verbose=1, callbacks=[estop, rlronp],  validation_data=valid_gen,\n",
        "               validation_steps=None,  shuffle=False,  initial_epoch=0)"
      ]
    },
    {
      "cell_type": "code",
      "execution_count": null,
      "metadata": {
        "id": "HS8H7YoZCN_O"
      },
      "outputs": [],
      "source": [
        "save_path=r'/content/MobileNetV2.h5' # specify the path to where to save model\n",
        "model.save(save_path)"
      ]
    }
  ],
  "metadata": {
    "kernelspec": {
      "display_name": "Python 3",
      "language": "python",
      "name": "python3"
    },
    "language_info": {
      "codemirror_mode": {
        "name": "ipython",
        "version": 3
      },
      "file_extension": ".py",
      "mimetype": "text/x-python",
      "name": "python",
      "nbconvert_exporter": "python",
      "pygments_lexer": "ipython3",
      "version": "3.8.3"
    },
    "colab": {
      "name": "MobileNetV2.ipynb",
      "provenance": [],
      "collapsed_sections": [],
      "include_colab_link": true
    },
    "accelerator": "GPU"
  },
  "nbformat": 4,
  "nbformat_minor": 0
}