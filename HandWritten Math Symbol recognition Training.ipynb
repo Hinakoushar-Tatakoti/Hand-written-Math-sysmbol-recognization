{
 "cells": [
  {
   "cell_type": "code",
   "execution_count": 26,
   "metadata": {},
   "outputs": [],
   "source": [
    "import numpy as np # linear algebra\n",
    "import pandas as pd # data processing, CSV file I/O (e.g. pd.read_csv)\n",
    "from keras import backend as K\n",
    "from sklearn.preprocessing import MultiLabelBinarizer\n",
    "from keras.preprocessing.image import ImageDataGenerator\n",
    "from keras.models import Sequential\n",
    "from keras.layers import Conv2D, MaxPooling2D\n",
    "from keras.layers import Activation, Dropout, Flatten, Dense\n",
    "from tensorflow.keras.optimizers import Adam\n",
    "from tensorflow.keras.optimizers import RMSprop\n",
    "from keras.utils.vis_utils import plot_model\n",
    "from keras.preprocessing.image import img_to_array\n",
    "from tensorflow.keras.callbacks import EarlyStopping\n",
    "\n",
    "from ipynb.fs.full.model import *\n",
    "import os\n",
    "#print(os.listdir(\"./input\"))\n",
    "import pickle\n",
    "\n",
    "import os\n",
    "import numpy as np\n",
    "from tqdm import tqdm\n",
    "from fastai import *\n",
    "import torch\n",
    "\n",
    "%matplotlib inline\n",
    "\n",
    "import cv2\n",
    "import pandas as pd\n",
    "import splitfolders\n",
    "import random"
   ]
  },
  {
   "cell_type": "code",
   "execution_count": 5,
   "metadata": {},
   "outputs": [
    {
     "data": {
      "text/plain": [
       "82"
      ]
     },
     "execution_count": 5,
     "metadata": {},
     "output_type": "execute_result"
    }
   ],
   "source": [
    "data = os.listdir(\"./input\")\n",
    "len(data)"
   ]
  },
  {
   "cell_type": "code",
   "execution_count": 7,
   "metadata": {},
   "outputs": [],
   "source": [
    " def seed_everything(seed):\n",
    "    random.seed(seed)\n",
    "    os.environ['PYTHONHASHSEED'] = str(seed)\n",
    "    np.random.seed(seed)\n",
    "    torch.manual_seed(seed)\n",
    "    torch.cuda.manual_seed(seed)\n",
    "    torch.backends.cudnn.deterministic = True    \n",
    "\n",
    "SEED = 999\n",
    "seed_everything(SEED)"
   ]
  },
  {
   "cell_type": "code",
   "execution_count": 9,
   "metadata": {},
   "outputs": [],
   "source": [
    "## one time done\n",
    "##splitfolders.ratio('./input', output=\"./output\", seed=SEED, ratio=(.7, .3)) "
   ]
  },
  {
   "cell_type": "code",
   "execution_count": 10,
   "metadata": {},
   "outputs": [
    {
     "name": "stdout",
     "output_type": "stream",
     "text": [
      "Number of train images are 263143\n",
      "Number of test images are 112831\n"
     ]
    }
   ],
   "source": [
    "#Initialize parametres\n",
    "\n",
    "EPOCHS = 3\n",
    "BS = 100 #Batch size\n",
    "LR = 1e-3 #Learning rate 0.001\n",
    "img_dim = (45,45,3)\n",
    "train_data_dir = './output/train'\n",
    "test_data_dir = './output/val'\n",
    "labels = []\n",
    "#Nbr of training images\n",
    "train_samples_nbr  = sum(len(files) for _, _, files in os.walk(r'./output/train'))\n",
    "print(f\"Number of train images are {train_samples_nbr}\")\n",
    "#Nbr of testing images\n",
    "test_samples_nbr  = sum(len(files) for _, _, files in os.walk(r'./output/val'))\n",
    "print(f\"Number of test images are {test_samples_nbr}\")"
   ]
  },
  {
   "cell_type": "code",
   "execution_count": 13,
   "metadata": {},
   "outputs": [
    {
     "name": "stdout",
     "output_type": "stream",
     "text": [
      "Number of samples in every class ...\n",
      "!  :  1300\n",
      "(  :  14294\n",
      ")  :  14355\n",
      "+  :  25112\n",
      ",  :  1906\n",
      "-  :  33997\n",
      "0  :  6914\n",
      "1  :  26520\n",
      "2  :  26141\n",
      "3  :  10909\n",
      "4  :  7396\n",
      "5  :  3545\n",
      "6  :  3118\n",
      "7  :  2909\n",
      "8  :  3068\n",
      "9  :  3737\n",
      "=  :  13104\n",
      "A  :  12367\n",
      "alpha  :  2546\n",
      "ascii_124  :  1339\n",
      "b  :  8651\n",
      "beta  :  2025\n",
      "C  :  5802\n",
      "cos  :  2986\n",
      "d  :  4852\n",
      "Delta  :  137\n",
      "div  :  868\n",
      "e  :  3003\n",
      "exists  :  21\n",
      "f  :  3712\n",
      "forall  :  45\n",
      "forward_slash  :  199\n",
      "G  :  1692\n",
      "gamma  :  409\n",
      "geq  :  693\n",
      "gt  :  258\n",
      "H  :  1464\n",
      "i  :  5140\n",
      "in  :  47\n",
      "infty  :  1783\n",
      "int  :  2742\n",
      "j  :  1536\n",
      "k  :  3074\n",
      "l  :  1017\n",
      "lambda  :  109\n",
      "ldots  :  609\n",
      "leq  :  973\n",
      "lim  :  1675\n",
      "log  :  2001\n",
      "lt  :  477\n",
      "M  :  2476\n",
      "mu  :  177\n",
      "N  :  10862\n",
      "neq  :  558\n",
      "o  :  449\n",
      "p  :  2680\n",
      "phi  :  355\n",
      "pi  :  2332\n",
      "pm  :  802\n",
      "prime  :  329\n",
      "q  :  1230\n",
      "R  :  2671\n",
      "rightarrow  :  1703\n",
      "S  :  1413\n",
      "sigma  :  201\n",
      "sin  :  4293\n",
      "sqrt  :  8908\n",
      "sum  :  2689\n",
      "T  :  3274\n",
      "tan  :  2450\n",
      "theta  :  2796\n",
      "times  :  3251\n",
      "u  :  1269\n",
      "v  :  1558\n",
      "w  :  556\n",
      "X  :  26594\n",
      "y  :  9340\n",
      "z  :  5870\n",
      "[  :  778\n",
      "]  :  780\n",
      "{  :  376\n",
      "}  :  377\n"
     ]
    }
   ],
   "source": [
    "# Infos about our Dataset\n",
    "nbr_of_pictures = []\n",
    "\n",
    "labels = os.listdir(\"./input\")\n",
    "for _, _, files in os.walk(r'./input'):\n",
    "    nbr_of_pictures.append(len(files))\n",
    "\n",
    "nbr_of_pictures=nbr_of_pictures[1:]\n",
    "#print nbr of pictures in every class\n",
    "print(\"Number of samples in every class ...\")\n",
    "for i in range(82):  # 82 : Nbr of classes\n",
    "    print(labels[i],\" : \",nbr_of_pictures[i])"
   ]
  },
  {
   "cell_type": "code",
   "execution_count": 14,
   "metadata": {},
   "outputs": [
    {
     "name": "stdout",
     "output_type": "stream",
     "text": [
      "(45, 45, 3)\n"
     ]
    }
   ],
   "source": [
    "# Checking image data format\n",
    "\n",
    "if K.image_data_format() == 'channels_first':\n",
    "    input_shape = (img_dim[2], img_dim[0], img_dim[1])\n",
    "else:\n",
    "    input_shape = (img_dim[0], img_dim[1], img_dim[2])\n",
    "print(input_shape)"
   ]
  },
  {
   "cell_type": "code",
   "execution_count": 16,
   "metadata": {},
   "outputs": [
    {
     "name": "stdout",
     "output_type": "stream",
     "text": [
      "82  Classes :  ['!' '(' ')' '+' ',' '-' '0' '1' '2' '3' '4' '5' '6' '7' '8' '9' '=' 'A'\n",
      " 'alpha' 'ascii_124' 'b' 'beta' 'C' 'cos' 'd' 'Delta' 'div' 'e' 'exists'\n",
      " 'f' 'forall' 'forward_slash' 'G' 'gamma' 'geq' 'gt' 'H' 'i' 'in' 'infty'\n",
      " 'int' 'j' 'k' 'l' 'lambda' 'ldots' 'leq' 'lim' 'log' 'lt' 'M' 'mu' 'N'\n",
      " 'neq' 'o' 'p' 'phi' 'pi' 'pm' 'prime' 'q' 'R' 'rightarrow' 'S' 'sigma'\n",
      " 'sin' 'sqrt' 'sum' 'T' 'tan' 'theta' 'times' 'u' 'v' 'w' 'X' 'y' 'z' '['\n",
      " ']' '{' '}']\n",
      "['!' '(' ')' '+' ',' '-' '0' '1' '2' '3' '4' '5' '6' '7' '8' '9' '=' 'A'\n",
      " 'alpha' 'ascii_124' 'b' 'beta' 'C' 'cos' 'd' 'Delta' 'div' 'e' 'exists'\n",
      " 'f' 'forall' 'forward_slash' 'G' 'gamma' 'geq' 'gt' 'H' 'i' 'in' 'infty'\n",
      " 'int' 'j' 'k' 'l' 'lambda' 'ldots' 'leq' 'lim' 'log' 'lt' 'M' 'mu' 'N'\n",
      " 'neq' 'o' 'p' 'phi' 'pi' 'pm' 'prime' 'q' 'R' 'rightarrow' 'S' 'sigma'\n",
      " 'sin' 'sqrt' 'sum' 'T' 'tan' 'theta' 'times' 'u' 'v' 'w' 'X' 'y' 'z' '['\n",
      " ']' '{' '}']\n"
     ]
    }
   ],
   "source": [
    "print(len(labels),\" Classes : \",labels)\n",
    "labels = np.array(labels)\n",
    "print(labels)"
   ]
  },
  {
   "cell_type": "code",
   "execution_count": 17,
   "metadata": {},
   "outputs": [],
   "source": [
    "earlyStopping = EarlyStopping(monitor=\"val_loss\", mode=\"min\", patience=2)"
   ]
  },
  {
   "cell_type": "code",
   "execution_count": 18,
   "metadata": {},
   "outputs": [
    {
     "name": "stdout",
     "output_type": "stream",
     "text": [
      "[INFO] class labels:\n",
      "[[1 0 0 ... 0 0 0]\n",
      " [0 1 0 ... 0 0 0]\n",
      " [0 0 1 ... 0 0 0]\n",
      " ...\n",
      " [0 0 0 ... 0 0 0]\n",
      " [0 0 0 ... 0 1 0]\n",
      " [0 0 0 ... 0 0 1]]\n"
     ]
    }
   ],
   "source": [
    "print(\"[INFO] class labels:\")\n",
    "mlb = MultiLabelBinarizer()\n",
    "labels = mlb.fit_transform(labels)\n",
    "print(labels)"
   ]
  },
  {
   "cell_type": "code",
   "execution_count": null,
   "metadata": {},
   "outputs": [],
   "source": []
  },
  {
   "cell_type": "code",
   "execution_count": 19,
   "metadata": {},
   "outputs": [
    {
     "name": "stdout",
     "output_type": "stream",
     "text": [
      "Model: \"sequential\"\n",
      "_________________________________________________________________\n",
      "Layer (type)                 Output Shape              Param #   \n",
      "=================================================================\n",
      "conv2d (Conv2D)              (None, 44, 44, 32)        416       \n",
      "_________________________________________________________________\n",
      "activation (Activation)      (None, 44, 44, 32)        0         \n",
      "_________________________________________________________________\n",
      "max_pooling2d (MaxPooling2D) (None, 22, 22, 32)        0         \n",
      "_________________________________________________________________\n",
      "conv2d_1 (Conv2D)            (None, 21, 21, 32)        4128      \n",
      "_________________________________________________________________\n",
      "activation_1 (Activation)    (None, 21, 21, 32)        0         \n",
      "_________________________________________________________________\n",
      "max_pooling2d_1 (MaxPooling2 (None, 10, 10, 32)        0         \n",
      "_________________________________________________________________\n",
      "conv2d_2 (Conv2D)            (None, 9, 9, 64)          8256      \n",
      "_________________________________________________________________\n",
      "activation_2 (Activation)    (None, 9, 9, 64)          0         \n",
      "_________________________________________________________________\n",
      "max_pooling2d_2 (MaxPooling2 (None, 4, 4, 64)          0         \n",
      "_________________________________________________________________\n",
      "flatten (Flatten)            (None, 1024)              0         \n",
      "_________________________________________________________________\n",
      "dense (Dense)                (None, 64)                65600     \n",
      "_________________________________________________________________\n",
      "activation_3 (Activation)    (None, 64)                0         \n",
      "_________________________________________________________________\n",
      "dropout (Dropout)            (None, 64)                0         \n",
      "_________________________________________________________________\n",
      "dense_1 (Dense)              (None, 82)                5330      \n",
      "_________________________________________________________________\n",
      "activation_4 (Activation)    (None, 82)                0         \n",
      "=================================================================\n",
      "Total params: 83,730\n",
      "Trainable params: 83,730\n",
      "Non-trainable params: 0\n",
      "_________________________________________________________________\n",
      "Number of layers of our model :  15\n"
     ]
    }
   ],
   "source": [
    "# Building the model \n",
    "model = VGGNet.build(\n",
    "    width=img_dim[1], height=img_dim[0],\n",
    "    depth=img_dim[2], classes=82,\n",
    "    activFct=\"softmax\") #for multi-class classification\n",
    "model.summary()\n",
    "print('Number of layers of our model : ',len(model.layers))"
   ]
  },
  {
   "cell_type": "code",
   "execution_count": 20,
   "metadata": {},
   "outputs": [],
   "source": [
    "\n",
    "opt = Adam(learning_rate=LR, decay=LR / EPOCHS)"
   ]
  },
  {
   "cell_type": "code",
   "execution_count": 21,
   "metadata": {},
   "outputs": [],
   "source": [
    "# Compiling the model \n",
    "#import tensorflow.python.keras.optimizer_v2.adam.Adam\n",
    "#opt = RMSprop(lr=LR, rho=0.9, epsilon=None, decay=0.0)\n",
    "model.compile(loss='categorical_crossentropy',\n",
    "              optimizer=\"adam\",\n",
    "              metrics=['accuracy']) \n"
   ]
  },
  {
   "cell_type": "code",
   "execution_count": 22,
   "metadata": {},
   "outputs": [],
   "source": [
    "# data augmentation for training\n",
    "train_datagen = ImageDataGenerator(\n",
    "    rescale=1. / 255,\n",
    "    shear_range=0.0,\n",
    "    zoom_range=0.0,\n",
    "    featurewise_center=False,# set input mean to 0 over the dataset\n",
    "    samplewise_center=False,  # set each sample mean to 0\n",
    "    featurewise_std_normalization=False,  # divide inputs by std of dataset\n",
    "    samplewise_std_normalization=False,  # divide each input by its std\n",
    "    zca_whitening=False,  # apply ZCA whitening\n",
    "    rotation_range=0.0,  # randomly rotate images in the range (deg 0 to 180)\n",
    "    width_shift_range=0.0,  # randomly shift images horizontally\n",
    "    height_shift_range=0.0,  # randomly shift images vertically\n",
    "    horizontal_flip=False,  # randomly flip images\n",
    "    vertical_flip=False\n",
    "    )\n",
    "\n",
    "# data augmentation for testing\n",
    "test_datagen = ImageDataGenerator(rescale=1. / 255)"
   ]
  },
  {
   "cell_type": "code",
   "execution_count": 23,
   "metadata": {},
   "outputs": [
    {
     "name": "stdout",
     "output_type": "stream",
     "text": [
      "Found 263143 images belonging to 82 classes.\n",
      "Found 112831 images belonging to 82 classes.\n"
     ]
    }
   ],
   "source": [
    "\n",
    "train_generator = train_datagen.flow_from_directory(\n",
    "    train_data_dir,\n",
    "    target_size=(img_dim[0], img_dim[1]),\n",
    "    batch_size=BS,\n",
    "    class_mode='categorical')\n",
    "\n",
    "validation_generator = test_datagen.flow_from_directory(\n",
    "    test_data_dir,\n",
    "    target_size=(img_dim[0], img_dim[1]),\n",
    "    batch_size=BS,\n",
    "    class_mode='categorical')\n"
   ]
  },
  {
   "cell_type": "code",
   "execution_count": 24,
   "metadata": {},
   "outputs": [
    {
     "name": "stdout",
     "output_type": "stream",
     "text": [
      "Epoch 1/3\n",
      "2631/2631 [==============================] - 6422s 2s/step - loss: 1.6292 - accuracy: 0.5743 - val_loss: 0.6868 - val_accuracy: 0.8116\n",
      "Epoch 2/3\n",
      "2631/2631 [==============================] - 5985s 2s/step - loss: 1.0800 - accuracy: 0.6981 - val_loss: 0.5221 - val_accuracy: 0.8526\n",
      "Epoch 3/3\n",
      "2631/2631 [==============================] - 8004s 3s/step - loss: 0.9154 - accuracy: 0.7405 - val_loss: 0.4659 - val_accuracy: 0.8646\n"
     ]
    }
   ],
   "source": [
    "# Training\n",
    "history = model.fit(\n",
    "    train_generator,\n",
    "    steps_per_epoch=train_samples_nbr // BS,\n",
    "    epochs=EPOCHS,\n",
    "    validation_data=validation_generator,\n",
    "    validation_steps=test_samples_nbr // BS,\n",
    "    callbacks=[earlyStopping])\n"
   ]
  },
  {
   "cell_type": "code",
   "execution_count": 27,
   "metadata": {},
   "outputs": [
    {
     "name": "stdout",
     "output_type": "stream",
     "text": [
      "[INFO] serializing network...\n",
      "INFO:tensorflow:Assets written to: model.model\\assets\n",
      "[INFO] serializing label binarizer...\n"
     ]
    }
   ],
   "source": [
    "# plot_model(model, to_file='model_plot.png', show_shapes=True, show_layer_names=True);\n",
    "# save the model to disk\n",
    "print(\"[INFO] serializing network...\")\n",
    "#model.save(args[\"model\"])\n",
    "model.save(\"model.model\")\n",
    "model.save_weights(\"weights.h5\")\n",
    "#save the multi-label binarizer to disk\n",
    "print(\"[INFO] serializing label binarizer...\")\n",
    "# f = open(args[\"labelbin\"], \"wb\")\n",
    "f = open(\"labels.pickle\", \"wb\")\n",
    "f.write(pickle.dumps(mlb))\n",
    "f.close()\n"
   ]
  },
  {
   "cell_type": "code",
   "execution_count": 29,
   "metadata": {},
   "outputs": [
    {
     "name": "stdout",
     "output_type": "stream",
     "text": [
      "1129/1129 [==============================] - 711s 630ms/step - loss: 0.4659 - accuracy: 0.8646\n",
      "Accuracy =  0.8646382689476013\n"
     ]
    }
   ],
   "source": [
    "#probabilities = model.predict_generator(validation_generator,2000)\n",
    "\n",
    "# Evaluating the model / Get Validation accuracy on sample from validation set\n",
    "scores = model.evaluate(validation_generator,verbose=1) \n",
    "print(\"Accuracy = \", scores[1])\n"
   ]
  },
  {
   "cell_type": "code",
   "execution_count": 30,
   "metadata": {},
   "outputs": [],
   "source": [
    "import matplotlib.pyplot as plt"
   ]
  },
  {
   "cell_type": "code",
   "execution_count": 32,
   "metadata": {},
   "outputs": [
    {
     "data": {
      "image/png": "[encoded data removed]",
      "text/plain": [
       "<Figure size 432x288 with 1 Axes>"
      ]
     },
     "metadata": {
      "needs_background": "light"
     },
     "output_type": "display_data"
    }
   ],
   "source": [
    "\n",
    "\n",
    "# Plot training & validation accuracy values\n",
    "plt.plot(history.history['accuracy'])\n",
    "plt.plot(history.history['val_accuracy'])\n",
    "plt.title('Model accuracy')\n",
    "plt.ylabel('Accuracy')\n",
    "plt.xlabel('Epoch')\n",
    "plt.legend(['Train', 'Test'], loc='upper left')\n",
    "plt.savefig('model_accuary_plot.png')\n",
    "plt.show()\n"
   ]
  },
  {
   "cell_type": "code",
   "execution_count": 33,
   "metadata": {},
   "outputs": [
    {
     "data": {
      "image/png": "[encoded data removed]",
      "text/plain": [
       "<Figure size 432x288 with 1 Axes>"
      ]
     },
     "metadata": {
      "needs_background": "light"
     },
     "output_type": "display_data"
    }
   ],
   "source": [
    "# Plot training & validation loss values\n",
    "plt.plot(history.history['loss'])\n",
    "plt.plot(history.history['val_loss'])\n",
    "plt.title('Model loss')\n",
    "plt.ylabel('Loss')\n",
    "plt.xlabel('Epoch')\n",
    "plt.legend(['Train', 'Test'], loc='upper left')\n",
    "plt.savefig('model_loss_plot.png')\n",
    "plt.show()\n"
   ]
  },
  {
   "cell_type": "code",
   "execution_count": 35,
   "metadata": {},
   "outputs": [
    {
     "data": {
      "image/png": "[encoded data removed]",
      "text/plain": [
       "<Figure size 432x288 with 1 Axes>"
      ]
     },
     "metadata": {
      "needs_background": "light"
     },
     "output_type": "display_data"
    }
   ],
   "source": [
    "# Train - Val plot\n",
    "fig1, ax_acc = plt.subplots()\n",
    "plt.plot(history.history['accuracy'])\n",
    "plt.plot(history.history['val_accuracy'])\n",
    "plt.xlabel('Epoch')\n",
    "plt.ylabel('Accuracy')\n",
    "plt.title('Model - Accuracy')\n",
    "plt.legend(['Training', 'Validation'], loc='lower right')\n",
    "plt.savefig(\"train_val_plot.png\")"
   ]
  },
  {
   "cell_type": "code",
   "execution_count": null,
   "metadata": {},
   "outputs": [],
   "source": []
  }
 ],
 "metadata": {
  "kernelspec": {
   "display_name": "Python 3",
   "language": "python",
   "name": "python3"
  },
  "language_info": {
   "codemirror_mode": {
    "name": "ipython",
    "version": 3
   },
   "file_extension": ".py",
   "mimetype": "text/x-python",
   "name": "python",
   "nbconvert_exporter": "python",
   "pygments_lexer": "ipython3",
   "version": "3.8.3"
  }
 },
 "nbformat": 4,
 "nbformat_minor": 4
}
